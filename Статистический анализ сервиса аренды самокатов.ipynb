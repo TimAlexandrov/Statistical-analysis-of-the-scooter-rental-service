{
 "cells": [
  {
   "cell_type": "markdown",
   "id": "72971599",
   "metadata": {},
   "source": [
    "# Статистичский анализ сервиса GoFast"
   ]
  },
  {
   "cell_type": "markdown",
   "id": "1340abe1",
   "metadata": {},
   "source": [
    "***Краткое описание:*** Мы являемся аналитиками сервиса GoFast(аренда самокатов) и нам нужно проанализировать данные о пользвателях и совершенных ими поездках, чтобы понять, как мы можем улучшить  бизнес и помочь ему расти💸📈! У наших продакт-менеджеров есть предположения о различиях польователей с подпиской и без неё, и нам нужно понять какие все таки более выгодные и приносят больше прибыли. \n",
    "\n",
    "***Цель:*** Задачей этого исследования является изучение данных о поездках и пользователей услуги GoFast. Нам предстоить познакомится с тремя файлами о пользователях, их поездках, а также подробной информации о подписках и на основе полученных данных проверить статистические гипотезы. Для чего нам это необходимо? Конечно же, чтобы улучшить работу нашего бизнеса!\n",
    "\n",
    "***План работы:*** \n",
    "1) Итак, получив исходные данные, познакомимся с ними поближе и более подробно изучим информацию по ним. \n",
    "\n",
    "2) Далее проверим корректность данных, а именно присутсвие дубликатов, как явных, так и неявных, убедимся, что нет пропущенных значений и по необходимости все исправим! \n",
    "\n",
    "3) Также необходимо взглянуть на основные параметры поездок такие как: длительность, расстояние, в каком городе были совершены и др. Построим и опишем графики этих характеристик.\n",
    "\n",
    "4) Т.к. исходные данные у нас не разделены, взглянем как ведут себя параметры у пользователей с подпиской и без неё. Сравним полученные графики, посмотрим на различия, если они будут.\n",
    "\n",
    "5) После изучения данных, самое время помочь бизнесу вырасти! Рассчитаем выручку по месяцам для каждого пользователя.\n",
    "\n",
    "6) После подсчета выручки, проверим насколько \"хороши\" пользователи с подпиской для бизнеса. Проверять мы будем  гипотезы, а точнее предположения наших продакт-менеджеров.\n",
    "\n",
    "Но перед началом, конечно же импортируем необходимые нам библиотеки!"
   ]
  },
  {
   "cell_type": "code",
   "execution_count": 1,
   "id": "72576667",
   "metadata": {},
   "outputs": [],
   "source": [
    "import pandas as pd\n",
    "import matplotlib.pyplot as plt\n",
    "import numpy as np\n",
    "from scipy import stats as st"
   ]
  },
  {
   "cell_type": "markdown",
   "id": "c42cbe00",
   "metadata": {},
   "source": [
    "## Загрузка данных"
   ]
  },
  {
   "cell_type": "markdown",
   "id": "834f6724",
   "metadata": {},
   "source": [
    "Открываем и сохраняем данные"
   ]
  },
  {
   "cell_type": "code",
   "execution_count": 2,
   "id": "9e0c053d",
   "metadata": {},
   "outputs": [],
   "source": [
    "users_go = pd.read_csv('Downloads/users_go.csv')\n",
    "riders_go = pd.read_csv('Downloads/rides_go.csv')\n",
    "subscriptions_go = pd.read_csv('Downloads/subscriptions_go.csv')"
   ]
  },
  {
   "cell_type": "markdown",
   "id": "453d3cc7",
   "metadata": {},
   "source": [
    "Знакомимся с первыми строчками датафреймов"
   ]
  },
  {
   "cell_type": "code",
   "execution_count": 3,
   "id": "39b119d3",
   "metadata": {},
   "outputs": [
    {
     "data": {
      "text/html": [
       "<div>\n",
       "<style scoped>\n",
       "    .dataframe tbody tr th:only-of-type {\n",
       "        vertical-align: middle;\n",
       "    }\n",
       "\n",
       "    .dataframe tbody tr th {\n",
       "        vertical-align: top;\n",
       "    }\n",
       "\n",
       "    .dataframe thead th {\n",
       "        text-align: right;\n",
       "    }\n",
       "</style>\n",
       "<table border=\"1\" class=\"dataframe\">\n",
       "  <thead>\n",
       "    <tr style=\"text-align: right;\">\n",
       "      <th></th>\n",
       "      <th>user_id</th>\n",
       "      <th>name</th>\n",
       "      <th>age</th>\n",
       "      <th>city</th>\n",
       "      <th>subscription_type</th>\n",
       "    </tr>\n",
       "  </thead>\n",
       "  <tbody>\n",
       "    <tr>\n",
       "      <th>0</th>\n",
       "      <td>1</td>\n",
       "      <td>Кира</td>\n",
       "      <td>22</td>\n",
       "      <td>Тюмень</td>\n",
       "      <td>ultra</td>\n",
       "    </tr>\n",
       "    <tr>\n",
       "      <th>1</th>\n",
       "      <td>2</td>\n",
       "      <td>Станислав</td>\n",
       "      <td>31</td>\n",
       "      <td>Омск</td>\n",
       "      <td>ultra</td>\n",
       "    </tr>\n",
       "    <tr>\n",
       "      <th>2</th>\n",
       "      <td>3</td>\n",
       "      <td>Алексей</td>\n",
       "      <td>20</td>\n",
       "      <td>Москва</td>\n",
       "      <td>ultra</td>\n",
       "    </tr>\n",
       "    <tr>\n",
       "      <th>3</th>\n",
       "      <td>4</td>\n",
       "      <td>Константин</td>\n",
       "      <td>26</td>\n",
       "      <td>Ростов-на-Дону</td>\n",
       "      <td>ultra</td>\n",
       "    </tr>\n",
       "    <tr>\n",
       "      <th>4</th>\n",
       "      <td>5</td>\n",
       "      <td>Адель</td>\n",
       "      <td>28</td>\n",
       "      <td>Омск</td>\n",
       "      <td>ultra</td>\n",
       "    </tr>\n",
       "    <tr>\n",
       "      <th>5</th>\n",
       "      <td>6</td>\n",
       "      <td>Регина</td>\n",
       "      <td>25</td>\n",
       "      <td>Краснодар</td>\n",
       "      <td>ultra</td>\n",
       "    </tr>\n",
       "    <tr>\n",
       "      <th>6</th>\n",
       "      <td>7</td>\n",
       "      <td>Игорь</td>\n",
       "      <td>23</td>\n",
       "      <td>Омск</td>\n",
       "      <td>ultra</td>\n",
       "    </tr>\n",
       "    <tr>\n",
       "      <th>7</th>\n",
       "      <td>8</td>\n",
       "      <td>Юрий</td>\n",
       "      <td>23</td>\n",
       "      <td>Краснодар</td>\n",
       "      <td>ultra</td>\n",
       "    </tr>\n",
       "    <tr>\n",
       "      <th>8</th>\n",
       "      <td>9</td>\n",
       "      <td>Ян</td>\n",
       "      <td>21</td>\n",
       "      <td>Пятигорск</td>\n",
       "      <td>ultra</td>\n",
       "    </tr>\n",
       "    <tr>\n",
       "      <th>9</th>\n",
       "      <td>10</td>\n",
       "      <td>Валерий</td>\n",
       "      <td>18</td>\n",
       "      <td>Екатеринбург</td>\n",
       "      <td>ultra</td>\n",
       "    </tr>\n",
       "  </tbody>\n",
       "</table>\n",
       "</div>"
      ],
      "text/plain": [
       "   user_id        name  age            city subscription_type\n",
       "0        1        Кира   22          Тюмень             ultra\n",
       "1        2   Станислав   31            Омск             ultra\n",
       "2        3     Алексей   20          Москва             ultra\n",
       "3        4  Константин   26  Ростов-на-Дону             ultra\n",
       "4        5       Адель   28            Омск             ultra\n",
       "5        6      Регина   25       Краснодар             ultra\n",
       "6        7       Игорь   23            Омск             ultra\n",
       "7        8        Юрий   23       Краснодар             ultra\n",
       "8        9          Ян   21       Пятигорск             ultra\n",
       "9       10     Валерий   18    Екатеринбург             ultra"
      ]
     },
     "metadata": {},
     "output_type": "display_data"
    },
    {
     "data": {
      "text/html": [
       "<div>\n",
       "<style scoped>\n",
       "    .dataframe tbody tr th:only-of-type {\n",
       "        vertical-align: middle;\n",
       "    }\n",
       "\n",
       "    .dataframe tbody tr th {\n",
       "        vertical-align: top;\n",
       "    }\n",
       "\n",
       "    .dataframe thead th {\n",
       "        text-align: right;\n",
       "    }\n",
       "</style>\n",
       "<table border=\"1\" class=\"dataframe\">\n",
       "  <thead>\n",
       "    <tr style=\"text-align: right;\">\n",
       "      <th></th>\n",
       "      <th>user_id</th>\n",
       "      <th>distance</th>\n",
       "      <th>duration</th>\n",
       "      <th>date</th>\n",
       "    </tr>\n",
       "  </thead>\n",
       "  <tbody>\n",
       "    <tr>\n",
       "      <th>0</th>\n",
       "      <td>1</td>\n",
       "      <td>4409.919140</td>\n",
       "      <td>25.599769</td>\n",
       "      <td>2021-01-01</td>\n",
       "    </tr>\n",
       "    <tr>\n",
       "      <th>1</th>\n",
       "      <td>1</td>\n",
       "      <td>2617.592153</td>\n",
       "      <td>15.816871</td>\n",
       "      <td>2021-01-18</td>\n",
       "    </tr>\n",
       "    <tr>\n",
       "      <th>2</th>\n",
       "      <td>1</td>\n",
       "      <td>754.159807</td>\n",
       "      <td>6.232113</td>\n",
       "      <td>2021-04-20</td>\n",
       "    </tr>\n",
       "    <tr>\n",
       "      <th>3</th>\n",
       "      <td>1</td>\n",
       "      <td>2694.783254</td>\n",
       "      <td>18.511000</td>\n",
       "      <td>2021-08-11</td>\n",
       "    </tr>\n",
       "    <tr>\n",
       "      <th>4</th>\n",
       "      <td>1</td>\n",
       "      <td>4028.687306</td>\n",
       "      <td>26.265803</td>\n",
       "      <td>2021-08-28</td>\n",
       "    </tr>\n",
       "    <tr>\n",
       "      <th>5</th>\n",
       "      <td>1</td>\n",
       "      <td>2770.890808</td>\n",
       "      <td>16.650138</td>\n",
       "      <td>2021-10-09</td>\n",
       "    </tr>\n",
       "    <tr>\n",
       "      <th>6</th>\n",
       "      <td>1</td>\n",
       "      <td>3039.020292</td>\n",
       "      <td>14.927879</td>\n",
       "      <td>2021-10-19</td>\n",
       "    </tr>\n",
       "    <tr>\n",
       "      <th>7</th>\n",
       "      <td>1</td>\n",
       "      <td>2842.118050</td>\n",
       "      <td>23.117468</td>\n",
       "      <td>2021-11-06</td>\n",
       "    </tr>\n",
       "    <tr>\n",
       "      <th>8</th>\n",
       "      <td>1</td>\n",
       "      <td>3412.690668</td>\n",
       "      <td>15.238072</td>\n",
       "      <td>2021-11-14</td>\n",
       "    </tr>\n",
       "    <tr>\n",
       "      <th>9</th>\n",
       "      <td>1</td>\n",
       "      <td>748.690645</td>\n",
       "      <td>15.041884</td>\n",
       "      <td>2021-11-22</td>\n",
       "    </tr>\n",
       "  </tbody>\n",
       "</table>\n",
       "</div>"
      ],
      "text/plain": [
       "   user_id     distance   duration        date\n",
       "0        1  4409.919140  25.599769  2021-01-01\n",
       "1        1  2617.592153  15.816871  2021-01-18\n",
       "2        1   754.159807   6.232113  2021-04-20\n",
       "3        1  2694.783254  18.511000  2021-08-11\n",
       "4        1  4028.687306  26.265803  2021-08-28\n",
       "5        1  2770.890808  16.650138  2021-10-09\n",
       "6        1  3039.020292  14.927879  2021-10-19\n",
       "7        1  2842.118050  23.117468  2021-11-06\n",
       "8        1  3412.690668  15.238072  2021-11-14\n",
       "9        1   748.690645  15.041884  2021-11-22"
      ]
     },
     "metadata": {},
     "output_type": "display_data"
    },
    {
     "data": {
      "text/html": [
       "<div>\n",
       "<style scoped>\n",
       "    .dataframe tbody tr th:only-of-type {\n",
       "        vertical-align: middle;\n",
       "    }\n",
       "\n",
       "    .dataframe tbody tr th {\n",
       "        vertical-align: top;\n",
       "    }\n",
       "\n",
       "    .dataframe thead th {\n",
       "        text-align: right;\n",
       "    }\n",
       "</style>\n",
       "<table border=\"1\" class=\"dataframe\">\n",
       "  <thead>\n",
       "    <tr style=\"text-align: right;\">\n",
       "      <th></th>\n",
       "      <th>subscription_type</th>\n",
       "      <th>minute_price</th>\n",
       "      <th>start_ride_price</th>\n",
       "      <th>subscription_fee</th>\n",
       "    </tr>\n",
       "  </thead>\n",
       "  <tbody>\n",
       "    <tr>\n",
       "      <th>0</th>\n",
       "      <td>free</td>\n",
       "      <td>8</td>\n",
       "      <td>50</td>\n",
       "      <td>0</td>\n",
       "    </tr>\n",
       "    <tr>\n",
       "      <th>1</th>\n",
       "      <td>ultra</td>\n",
       "      <td>6</td>\n",
       "      <td>0</td>\n",
       "      <td>199</td>\n",
       "    </tr>\n",
       "  </tbody>\n",
       "</table>\n",
       "</div>"
      ],
      "text/plain": [
       "  subscription_type  minute_price  start_ride_price  subscription_fee\n",
       "0              free             8                50                 0\n",
       "1             ultra             6                 0               199"
      ]
     },
     "metadata": {},
     "output_type": "display_data"
    }
   ],
   "source": [
    "display(users_go.head(10),\n",
    "riders_go.head(10),\n",
    "subscriptions_go.head())"
   ]
  },
  {
   "cell_type": "markdown",
   "id": "ed8e6723",
   "metadata": {},
   "source": [
    "Изучаем общую информацию о каждом датасете"
   ]
  },
  {
   "cell_type": "code",
   "execution_count": 4,
   "id": "16c5ecc5",
   "metadata": {},
   "outputs": [
    {
     "name": "stdout",
     "output_type": "stream",
     "text": [
      "<class 'pandas.core.frame.DataFrame'>\n",
      "RangeIndex: 1565 entries, 0 to 1564\n",
      "Data columns (total 5 columns):\n",
      " #   Column             Non-Null Count  Dtype \n",
      "---  ------             --------------  ----- \n",
      " 0   user_id            1565 non-null   int64 \n",
      " 1   name               1565 non-null   object\n",
      " 2   age                1565 non-null   int64 \n",
      " 3   city               1565 non-null   object\n",
      " 4   subscription_type  1565 non-null   object\n",
      "dtypes: int64(2), object(3)\n",
      "memory usage: 61.3+ KB\n",
      "<class 'pandas.core.frame.DataFrame'>\n",
      "RangeIndex: 18068 entries, 0 to 18067\n",
      "Data columns (total 4 columns):\n",
      " #   Column    Non-Null Count  Dtype  \n",
      "---  ------    --------------  -----  \n",
      " 0   user_id   18068 non-null  int64  \n",
      " 1   distance  18068 non-null  float64\n",
      " 2   duration  18068 non-null  float64\n",
      " 3   date      18068 non-null  object \n",
      "dtypes: float64(2), int64(1), object(1)\n",
      "memory usage: 564.8+ KB\n",
      "<class 'pandas.core.frame.DataFrame'>\n",
      "RangeIndex: 2 entries, 0 to 1\n",
      "Data columns (total 4 columns):\n",
      " #   Column             Non-Null Count  Dtype \n",
      "---  ------             --------------  ----- \n",
      " 0   subscription_type  2 non-null      object\n",
      " 1   minute_price       2 non-null      int64 \n",
      " 2   start_ride_price   2 non-null      int64 \n",
      " 3   subscription_fee   2 non-null      int64 \n",
      "dtypes: int64(3), object(1)\n",
      "memory usage: 196.0+ bytes\n"
     ]
    },
    {
     "data": {
      "text/plain": [
       "None"
      ]
     },
     "metadata": {},
     "output_type": "display_data"
    },
    {
     "data": {
      "text/plain": [
       "None"
      ]
     },
     "metadata": {},
     "output_type": "display_data"
    },
    {
     "data": {
      "text/plain": [
       "None"
      ]
     },
     "metadata": {},
     "output_type": "display_data"
    }
   ],
   "source": [
    "display(users_go.info(),\n",
    "        riders_go.info(), \n",
    "        subscriptions_go.info())"
   ]
  },
  {
   "cell_type": "markdown",
   "id": "1b7ea7de",
   "metadata": {},
   "source": [
    "По итогам загрузки данных: \n",
    "\n",
    "    1) Как таковых пропусков нет;\n",
    "    \n",
    "    2) Некорректный тип данных в столбце date в датафрейме riders_go;\n",
    "    \n",
    "    3) Кол-во строк в таблицах user_id и riders_go сильно разняться т.к. стоит понимать, что данные в столцбе user_id в датафрейме riders_go могу соддержать повторяющиеся значения, один и тот же пользователь может совершать несколько поездок."
   ]
  },
  {
   "cell_type": "markdown",
   "id": "e95ebca7",
   "metadata": {},
   "source": [
    "## Предобработка данных"
   ]
  },
  {
   "cell_type": "markdown",
   "id": "30f13254",
   "metadata": {},
   "source": [
    "Приводим столбец data в датафрейме riders_go к типу дата"
   ]
  },
  {
   "cell_type": "code",
   "execution_count": 5,
   "id": "a33cea2f",
   "metadata": {},
   "outputs": [],
   "source": [
    "riders_go['date'] = pd.to_datetime(riders_go['date'], format='%Y-%m-%d')"
   ]
  },
  {
   "cell_type": "markdown",
   "id": "9f67edca",
   "metadata": {},
   "source": [
    "Далее создаём новый столбец month на основе столбца date в таблице riders_go, также добавим столбце с годом, чтобы понять за какой период мы будем проверять данные."
   ]
  },
  {
   "cell_type": "code",
   "execution_count": 6,
   "id": "292bdada",
   "metadata": {},
   "outputs": [],
   "source": [
    "riders_go['month'] = pd.DatetimeIndex(riders_go['date']).month\n",
    "riders_go['year'] = pd.DatetimeIndex(riders_go['date']).year"
   ]
  },
  {
   "cell_type": "markdown",
   "id": "7b9c5374",
   "metadata": {},
   "source": [
    "Проверим за какой год исходные данные"
   ]
  },
  {
   "cell_type": "code",
   "execution_count": 7,
   "id": "0518cd2c",
   "metadata": {},
   "outputs": [
    {
     "data": {
      "text/plain": [
       "year\n",
       "2021    18068\n",
       "Name: count, dtype: int64"
      ]
     },
     "execution_count": 7,
     "metadata": {},
     "output_type": "execute_result"
    }
   ],
   "source": [
    "riders_go['year'].value_counts()"
   ]
  },
  {
   "cell_type": "markdown",
   "id": "9adeadaa",
   "metadata": {},
   "source": [
    "Отлично! данные о поездках только за 2021. Смотрим дальше"
   ]
  },
  {
   "cell_type": "markdown",
   "id": "628b1205",
   "metadata": {},
   "source": [
    "Проверяем наличие пропущенных значений и дубликатов в каждом датафрейме"
   ]
  },
  {
   "cell_type": "code",
   "execution_count": 8,
   "id": "96d66793",
   "metadata": {},
   "outputs": [
    {
     "name": "stdout",
     "output_type": "stream",
     "text": [
      "user_id              0\n",
      "name                 0\n",
      "age                  0\n",
      "city                 0\n",
      "subscription_type    0\n",
      "dtype: int64 user_id     0\n",
      "distance    0\n",
      "duration    0\n",
      "date        0\n",
      "month       0\n",
      "year        0\n",
      "dtype: int64 subscription_type    0\n",
      "minute_price         0\n",
      "start_ride_price     0\n",
      "subscription_fee     0\n",
      "dtype: int64\n"
     ]
    }
   ],
   "source": [
    "print(users_go.isna().sum(),\n",
    "      riders_go.isna().sum(),\n",
    "      subscriptions_go.isna().sum())"
   ]
  },
  {
   "cell_type": "code",
   "execution_count": 9,
   "id": "aa8f17c5",
   "metadata": {},
   "outputs": [
    {
     "data": {
      "text/plain": [
       "31"
      ]
     },
     "execution_count": 9,
     "metadata": {},
     "output_type": "execute_result"
    }
   ],
   "source": [
    "users_go.duplicated().sum()"
   ]
  },
  {
   "cell_type": "code",
   "execution_count": 10,
   "id": "4ee05894",
   "metadata": {},
   "outputs": [
    {
     "data": {
      "text/plain": [
       "31"
      ]
     },
     "execution_count": 10,
     "metadata": {},
     "output_type": "execute_result"
    }
   ],
   "source": [
    "users_go['user_id'].duplicated().sum()"
   ]
  },
  {
   "cell_type": "code",
   "execution_count": 11,
   "id": "032639ca",
   "metadata": {},
   "outputs": [],
   "source": [
    "users_go = users_go.drop_duplicates(subset=['user_id'],keep='first')"
   ]
  },
  {
   "cell_type": "code",
   "execution_count": 12,
   "id": "ef2c9edc",
   "metadata": {},
   "outputs": [
    {
     "data": {
      "text/plain": [
       "0"
      ]
     },
     "execution_count": 12,
     "metadata": {},
     "output_type": "execute_result"
    }
   ],
   "source": [
    "users_go['user_id'].duplicated().sum()"
   ]
  },
  {
   "cell_type": "code",
   "execution_count": 13,
   "id": "9481de09",
   "metadata": {},
   "outputs": [
    {
     "data": {
      "text/plain": [
       "0"
      ]
     },
     "execution_count": 13,
     "metadata": {},
     "output_type": "execute_result"
    }
   ],
   "source": [
    "riders_go.duplicated().sum()"
   ]
  },
  {
   "cell_type": "markdown",
   "id": "cd4b6e42",
   "metadata": {},
   "source": [
    "Также можно проверить столбец city в users_go на неявные дубликаты"
   ]
  },
  {
   "cell_type": "code",
   "execution_count": 14,
   "id": "985bd721",
   "metadata": {},
   "outputs": [
    {
     "data": {
      "text/plain": [
       "array(['Тюмень', 'Омск', 'Москва', 'Ростов-на-Дону', 'Краснодар',\n",
       "       'Пятигорск', 'Екатеринбург', 'Сочи'], dtype=object)"
      ]
     },
     "execution_count": 14,
     "metadata": {},
     "output_type": "execute_result"
    }
   ],
   "source": [
    "users_go['city'].unique()"
   ]
  },
  {
   "cell_type": "code",
   "execution_count": 15,
   "id": "36954ffc",
   "metadata": {
    "scrolled": true
   },
   "outputs": [
    {
     "data": {
      "text/html": [
       "<div>\n",
       "<style scoped>\n",
       "    .dataframe tbody tr th:only-of-type {\n",
       "        vertical-align: middle;\n",
       "    }\n",
       "\n",
       "    .dataframe tbody tr th {\n",
       "        vertical-align: top;\n",
       "    }\n",
       "\n",
       "    .dataframe thead th {\n",
       "        text-align: right;\n",
       "    }\n",
       "</style>\n",
       "<table border=\"1\" class=\"dataframe\">\n",
       "  <thead>\n",
       "    <tr style=\"text-align: right;\">\n",
       "      <th></th>\n",
       "      <th>user_id</th>\n",
       "      <th>name</th>\n",
       "      <th>age</th>\n",
       "      <th>city</th>\n",
       "      <th>subscription_type</th>\n",
       "    </tr>\n",
       "  </thead>\n",
       "  <tbody>\n",
       "    <tr>\n",
       "      <th>0</th>\n",
       "      <td>1</td>\n",
       "      <td>Кира</td>\n",
       "      <td>22</td>\n",
       "      <td>Тюмень</td>\n",
       "      <td>ultra</td>\n",
       "    </tr>\n",
       "    <tr>\n",
       "      <th>1</th>\n",
       "      <td>2</td>\n",
       "      <td>Станислав</td>\n",
       "      <td>31</td>\n",
       "      <td>Омск</td>\n",
       "      <td>ultra</td>\n",
       "    </tr>\n",
       "    <tr>\n",
       "      <th>2</th>\n",
       "      <td>3</td>\n",
       "      <td>Алексей</td>\n",
       "      <td>20</td>\n",
       "      <td>Москва</td>\n",
       "      <td>ultra</td>\n",
       "    </tr>\n",
       "    <tr>\n",
       "      <th>3</th>\n",
       "      <td>4</td>\n",
       "      <td>Константин</td>\n",
       "      <td>26</td>\n",
       "      <td>Ростов-на-Дону</td>\n",
       "      <td>ultra</td>\n",
       "    </tr>\n",
       "    <tr>\n",
       "      <th>4</th>\n",
       "      <td>5</td>\n",
       "      <td>Адель</td>\n",
       "      <td>28</td>\n",
       "      <td>Омск</td>\n",
       "      <td>ultra</td>\n",
       "    </tr>\n",
       "  </tbody>\n",
       "</table>\n",
       "</div>"
      ],
      "text/plain": [
       "   user_id        name  age            city subscription_type\n",
       "0        1        Кира   22          Тюмень             ultra\n",
       "1        2   Станислав   31            Омск             ultra\n",
       "2        3     Алексей   20          Москва             ultra\n",
       "3        4  Константин   26  Ростов-на-Дону             ultra\n",
       "4        5       Адель   28            Омск             ultra"
      ]
     },
     "execution_count": 15,
     "metadata": {},
     "output_type": "execute_result"
    }
   ],
   "source": [
    "users_go.head(5)"
   ]
  },
  {
   "cell_type": "markdown",
   "id": "b437a0d7",
   "metadata": {},
   "source": [
    "По итогам предобработки данных:\n",
    "    \n",
    "    1) Скорректировали тип данных в столбце date\n",
    "    \n",
    "    2) Добавили новый столбец с номером месяца по столбцу date\n",
    "    \n",
    "    3) Проверили датафреймы на наличие дубликатов и удалили только 31 строку в таблице users_go\n",
    "    \n",
    "    4) Также удостоверились, что все города написаны правильно и неявных дубликатов нет."
   ]
  },
  {
   "cell_type": "markdown",
   "id": "212593c7",
   "metadata": {},
   "source": [
    "## Исследовательский анализ данных"
   ]
  },
  {
   "cell_type": "markdown",
   "id": "85241723",
   "metadata": {},
   "source": [
    "Далее проведем исследовательский анализ, визуализируем несколько столбцов и опишем данные"
   ]
  },
  {
   "cell_type": "markdown",
   "id": "5a66dd22",
   "metadata": {},
   "source": [
    "Для начала взглянем на частоту встречаемости городов"
   ]
  },
  {
   "cell_type": "code",
   "execution_count": 16,
   "id": "6538dcbb",
   "metadata": {
    "scrolled": true
   },
   "outputs": [
    {
     "data": {
      "image/png": "[encoded data removed]",
      "text/plain": [
       "<Figure size 1200x500 with 1 Axes>"
      ]
     },
     "metadata": {},
     "output_type": "display_data"
    }
   ],
   "source": [
    "city_counts = users_go['city'].value_counts()\n",
    "city_counts.plot.barh(title='Кол-во пользователей в разных городах',color='green',figsize=(12,5))\n",
    "for index, value in enumerate(city_counts):\n",
    "    plt.text(value, index, str(value));"
   ]
  },
  {
   "cell_type": "markdown",
   "id": "279603a6",
   "metadata": {},
   "source": [
    "На данной диаграмме видим, что явных фаворитов и аутсайдеров в городах нет. Наибольшую долю городов составляет Пятигорск 219 пользователей c небольшим отрывом (в 15 пользователей) от Екатеринбурга, в то время как наименьшее кол-во поездок в Москве 168 пользователей."
   ]
  },
  {
   "cell_type": "markdown",
   "id": "c0e94b30",
   "metadata": {},
   "source": [
    "Расссмотрим также круговую диаграмму соотношения пользователей с подпиской и без неё"
   ]
  },
  {
   "cell_type": "code",
   "execution_count": 17,
   "id": "5dc362ba",
   "metadata": {
    "scrolled": true
   },
   "outputs": [
    {
     "data": {
      "image/png": "[encoded data removed]",
      "text/plain": [
       "<Figure size 500x500 with 1 Axes>"
      ]
     },
     "metadata": {},
     "output_type": "display_data"
    }
   ],
   "source": [
    "users_go['subscription_type'].value_counts().plot(kind='pie',figsize=(5,5),title='Соотношение пользователей по подпискам',autopct='%1.1f%%')\n",
    "plt.show()"
   ]
  },
  {
   "cell_type": "markdown",
   "id": "df347210",
   "metadata": {},
   "source": [
    "На диаграмме можно заметить, что все таки люди предпочитают совершать поездки без подписки. Разница хоть и небольшая 8.8%, но тем не менее она есть и стоит про неё помнить."
   ]
  },
  {
   "cell_type": "markdown",
   "id": "df300f8f",
   "metadata": {},
   "source": [
    "Смотрим на график возрастов пользователей ( но перед этим взглянем на характеристику данных, чтобы на её основе построить наглядную гистограмму)"
   ]
  },
  {
   "cell_type": "code",
   "execution_count": 18,
   "id": "a14d703e",
   "metadata": {},
   "outputs": [
    {
     "data": {
      "text/plain": [
       "count    1534.000000\n",
       "mean       24.903520\n",
       "std         4.572367\n",
       "min        12.000000\n",
       "25%        22.000000\n",
       "50%        25.000000\n",
       "75%        28.000000\n",
       "max        43.000000\n",
       "Name: age, dtype: float64"
      ]
     },
     "execution_count": 18,
     "metadata": {},
     "output_type": "execute_result"
    }
   ],
   "source": [
    "users_go['age'].describe()"
   ]
  },
  {
   "cell_type": "code",
   "execution_count": 19,
   "id": "29de32f0",
   "metadata": {},
   "outputs": [
    {
     "data": {
      "image/png": "[encoded data removed]",
      "text/plain": [
       "<Figure size 1200x500 with 1 Axes>"
      ]
     },
     "metadata": {},
     "output_type": "display_data"
    }
   ],
   "source": [
    "users_go['age'].plot(kind='hist',bins=30, range=(10,45), figsize=(12,5), title='Возраст пользователей')\n",
    "plt.xlabel('Возраст')\n",
    "plt.ylabel('Кол-во пользователей')\n",
    "plt.show()"
   ]
  },
  {
   "cell_type": "markdown",
   "id": "e929fd01",
   "metadata": {},
   "source": [
    "Интересная картина, по графику видно, что есть пиковая точка в отметке ~ 24, что близко к нашей средней. \n",
    "Также кол-во пользователей до 24 растет, а после пиковой точки график идет на спад.\n",
    "Думаю, можно сказать, что возраст пользователей близок к нормальному распределению."
   ]
  },
  {
   "cell_type": "markdown",
   "id": "8e0e5b6c",
   "metadata": {},
   "source": [
    "Рассмотрим данные о расстоянии, которое пользователь преодолел за одну поездку"
   ]
  },
  {
   "cell_type": "code",
   "execution_count": 20,
   "id": "b78b13f0",
   "metadata": {},
   "outputs": [
    {
     "data": {
      "text/plain": [
       "count    18068.000000\n",
       "mean      3070.659976\n",
       "std       1116.831209\n",
       "min          0.855683\n",
       "25%       2543.226360\n",
       "50%       3133.609994\n",
       "75%       3776.222735\n",
       "max       7211.007745\n",
       "Name: distance, dtype: float64"
      ]
     },
     "execution_count": 20,
     "metadata": {},
     "output_type": "execute_result"
    }
   ],
   "source": [
    "riders_go['distance'].describe()"
   ]
  },
  {
   "cell_type": "markdown",
   "id": "56d56d6c",
   "metadata": {},
   "source": [
    "Судя по минимальному и максимальному значению, можно сделать вывод, что в данных есть выбросы, можно построить \"ящик с усами\""
   ]
  },
  {
   "cell_type": "code",
   "execution_count": 21,
   "id": "e0c5fe69",
   "metadata": {},
   "outputs": [
    {
     "data": {
      "image/png": "[encoded data removed]",
      "text/plain": [
       "<Figure size 2000x600 with 1 Axes>"
      ]
     },
     "metadata": {},
     "output_type": "display_data"
    }
   ],
   "source": [
    "riders_go.boxplot('distance', color='purple',figsize=(20,6))\n",
    "plt.show()"
   ]
  },
  {
   "cell_type": "markdown",
   "id": "a19fc618",
   "metadata": {},
   "source": [
    "Итак, основная масса поездок колеблется в пределах от ~2500 до ~3800 м (1 и 3 квартили соотвественно) с медианной в 3130 м.\n",
    "Медиана и ср значение примерно равны: 3130 и 3070. Выбросы есть, но необходимости их убирать нет."
   ]
  },
  {
   "cell_type": "markdown",
   "id": "69c24245",
   "metadata": {},
   "source": [
    "Далее построим график продолжительности поездок"
   ]
  },
  {
   "cell_type": "code",
   "execution_count": 22,
   "id": "a8a9dd48",
   "metadata": {},
   "outputs": [
    {
     "data": {
      "text/plain": [
       "count    18068.000000\n",
       "mean        17.805011\n",
       "std          6.091051\n",
       "min          0.500000\n",
       "25%         13.597563\n",
       "50%         17.678395\n",
       "75%         21.724800\n",
       "max         40.823963\n",
       "Name: duration, dtype: float64"
      ]
     },
     "execution_count": 22,
     "metadata": {},
     "output_type": "execute_result"
    }
   ],
   "source": [
    "riders_go['duration'].describe()"
   ]
  },
  {
   "cell_type": "code",
   "execution_count": 23,
   "id": "8110068e",
   "metadata": {},
   "outputs": [
    {
     "data": {
      "image/png": "[encoded data removed]",
      "text/plain": [
       "<Figure size 1200x500 with 1 Axes>"
      ]
     },
     "metadata": {},
     "output_type": "display_data"
    }
   ],
   "source": [
    "riders_go['duration'].plot(kind='hist', bins=50, range=(0,41),figsize=(12,5),title='Время поездки')\n",
    "plt.xlabel('Время в минутах')\n",
    "plt.ylabel('Кол-во поездок')\n",
    "plt.show()"
   ]
  },
  {
   "cell_type": "markdown",
   "id": "3ebf90fd",
   "metadata": {},
   "source": [
    "На графике виден рост кол-ва поездок до пиковой точки в ~18 минут, далее график идет на спад. Также не понятный пик у 0 минут, \n"
   ]
  },
  {
   "cell_type": "markdown",
   "id": "baa6d02e",
   "metadata": {},
   "source": [
    "Дополнительно посмотрим на данные о поездках меньше 1 минуты"
   ]
  },
  {
   "cell_type": "code",
   "execution_count": 24,
   "id": "cbfbda73",
   "metadata": {},
   "outputs": [
    {
     "data": {
      "text/plain": [
       "count    95.0\n",
       "mean      0.5\n",
       "std       0.0\n",
       "min       0.5\n",
       "25%       0.5\n",
       "50%       0.5\n",
       "75%       0.5\n",
       "max       0.5\n",
       "Name: duration, dtype: float64"
      ]
     },
     "execution_count": 24,
     "metadata": {},
     "output_type": "execute_result"
    }
   ],
   "source": [
    "riders_go.loc[riders_go['duration'] <= 1]['duration'].describe()"
   ]
  },
  {
   "cell_type": "markdown",
   "id": "5983b50a",
   "metadata": {},
   "source": [
    "Так как в данных нет аномалий, оставим их. Видимо это какое то минимальное значение, на которое берется аренда. Также возможно это бронь самокатов с последующим отказом."
   ]
  },
  {
   "cell_type": "markdown",
   "id": "88f8db29",
   "metadata": {},
   "source": [
    "Проведя исследовательски анализ, можно сделать несколько выводов:\n",
    "    \n",
    "    1) Распределение городов одинковое. Во всех городах, где предоставлена услуга, люди пользуются самокатами примерно один-аково.\n",
    "    \n",
    "    2) Пользоваталей, у которых нет подписки, больше чем людей оформивших её. \n",
    "    Возможные причины: \n",
    "    -новые пользователи, которые только знакомятся с услугой;    \n",
    "    -возможно у многих, просто скачано приложение, но они им не пользуются;\n",
    "    -пользователи, которые не ознакомились с преимуществами подписки и тд.\n",
    "    \n",
    "    3) Около половины пользователей имеют возраст от 22 до 28, с пиковой точкой в 24 года. Здесь все просто, услуга пользуе-тся популярностью у молодежи, так как это относительно доступное и дешевое транспортное средство, так еще и веселое.\n",
    "    \n",
    "    4) Что касается дистанции, то здесь основная масса данных колеблется в диапозоне от 2.5 до 3.8 км. Предполагаю, что это примерное расстояние от дома до работы у большинства людей. \n",
    "    \n",
    "    5) Последний график связан с временем поездки. Здесь бОльшая часть данных в диапозоне от 13 до 21 минуты, с пиковой точ-кой примерно у 17-18 минут. Некоторое кол-во поездок у 0 минут возможно связано с неисправностью самоката, либо же стра-хом управления у новых пользователей."
   ]
  },
  {
   "cell_type": "markdown",
   "id": "4ef51331",
   "metadata": {},
   "source": [
    "## Объединение данных"
   ]
  },
  {
   "cell_type": "markdown",
   "id": "5ee8a81a",
   "metadata": {},
   "source": [
    "Объединяем данные о пользователях, поездках и подписках в один датафрейм."
   ]
  },
  {
   "cell_type": "markdown",
   "id": "7c7a8a73",
   "metadata": {},
   "source": [
    "1) Сперва объединяем данные таблиц riders_go и обновленной users_go, очищенную от дубликатов ( объединяем таблицы путем совмещения всех данных - outer, т.к. в датафрейме riders_go больше строк, а в users_go содержиться информация о всех пользователей, то данные о пользователях, которые не совершали поездки могут затерятся)."
   ]
  },
  {
   "cell_type": "code",
   "execution_count": 25,
   "id": "f7172299",
   "metadata": {},
   "outputs": [],
   "source": [
    "main_list = riders_go.merge(users_go, on = 'user_id', how='outer')"
   ]
  },
  {
   "cell_type": "markdown",
   "id": "c6a04ebc",
   "metadata": {},
   "source": [
    "Взглянем на данные, где есть пропущенные значения"
   ]
  },
  {
   "cell_type": "code",
   "execution_count": 26,
   "id": "2bd4f999",
   "metadata": {},
   "outputs": [
    {
     "data": {
      "text/plain": [
       "user_id              0\n",
       "distance             0\n",
       "duration             0\n",
       "date                 0\n",
       "month                0\n",
       "year                 0\n",
       "name                 0\n",
       "age                  0\n",
       "city                 0\n",
       "subscription_type    0\n",
       "dtype: int64"
      ]
     },
     "execution_count": 26,
     "metadata": {},
     "output_type": "execute_result"
    }
   ],
   "source": [
    "main_list.isna().sum()"
   ]
  },
  {
   "cell_type": "markdown",
   "id": "e04e2d4d",
   "metadata": {},
   "source": [
    "2) Далее присоединяем инфо с таблицы subscription_go к нашему новому датафрейму"
   ]
  },
  {
   "cell_type": "code",
   "execution_count": 27,
   "id": "d2e46545",
   "metadata": {},
   "outputs": [],
   "source": [
    "main_list = main_list.merge(subscriptions_go, on = 'subscription_type', how='left')"
   ]
  },
  {
   "cell_type": "markdown",
   "id": "7103cdc8",
   "metadata": {},
   "source": [
    "Взглянем на итоговый датафрейм"
   ]
  },
  {
   "cell_type": "code",
   "execution_count": 28,
   "id": "e1cc12ec",
   "metadata": {},
   "outputs": [
    {
     "name": "stdout",
     "output_type": "stream",
     "text": [
      "<class 'pandas.core.frame.DataFrame'>\n",
      "RangeIndex: 18068 entries, 0 to 18067\n",
      "Data columns (total 13 columns):\n",
      " #   Column             Non-Null Count  Dtype         \n",
      "---  ------             --------------  -----         \n",
      " 0   user_id            18068 non-null  int64         \n",
      " 1   distance           18068 non-null  float64       \n",
      " 2   duration           18068 non-null  float64       \n",
      " 3   date               18068 non-null  datetime64[ns]\n",
      " 4   month              18068 non-null  int32         \n",
      " 5   year               18068 non-null  int32         \n",
      " 6   name               18068 non-null  object        \n",
      " 7   age                18068 non-null  int64         \n",
      " 8   city               18068 non-null  object        \n",
      " 9   subscription_type  18068 non-null  object        \n",
      " 10  minute_price       18068 non-null  int64         \n",
      " 11  start_ride_price   18068 non-null  int64         \n",
      " 12  subscription_fee   18068 non-null  int64         \n",
      "dtypes: datetime64[ns](1), float64(2), int32(2), int64(5), object(3)\n",
      "memory usage: 1.7+ MB\n"
     ]
    },
    {
     "data": {
      "text/html": [
       "<div>\n",
       "<style scoped>\n",
       "    .dataframe tbody tr th:only-of-type {\n",
       "        vertical-align: middle;\n",
       "    }\n",
       "\n",
       "    .dataframe tbody tr th {\n",
       "        vertical-align: top;\n",
       "    }\n",
       "\n",
       "    .dataframe thead th {\n",
       "        text-align: right;\n",
       "    }\n",
       "</style>\n",
       "<table border=\"1\" class=\"dataframe\">\n",
       "  <thead>\n",
       "    <tr style=\"text-align: right;\">\n",
       "      <th></th>\n",
       "      <th>user_id</th>\n",
       "      <th>distance</th>\n",
       "      <th>duration</th>\n",
       "      <th>date</th>\n",
       "      <th>month</th>\n",
       "      <th>year</th>\n",
       "      <th>name</th>\n",
       "      <th>age</th>\n",
       "      <th>city</th>\n",
       "      <th>subscription_type</th>\n",
       "      <th>minute_price</th>\n",
       "      <th>start_ride_price</th>\n",
       "      <th>subscription_fee</th>\n",
       "    </tr>\n",
       "  </thead>\n",
       "  <tbody>\n",
       "    <tr>\n",
       "      <th>0</th>\n",
       "      <td>1</td>\n",
       "      <td>4409.919140</td>\n",
       "      <td>25.599769</td>\n",
       "      <td>2021-01-01</td>\n",
       "      <td>1</td>\n",
       "      <td>2021</td>\n",
       "      <td>Кира</td>\n",
       "      <td>22</td>\n",
       "      <td>Тюмень</td>\n",
       "      <td>ultra</td>\n",
       "      <td>6</td>\n",
       "      <td>0</td>\n",
       "      <td>199</td>\n",
       "    </tr>\n",
       "    <tr>\n",
       "      <th>1</th>\n",
       "      <td>1</td>\n",
       "      <td>2617.592153</td>\n",
       "      <td>15.816871</td>\n",
       "      <td>2021-01-18</td>\n",
       "      <td>1</td>\n",
       "      <td>2021</td>\n",
       "      <td>Кира</td>\n",
       "      <td>22</td>\n",
       "      <td>Тюмень</td>\n",
       "      <td>ultra</td>\n",
       "      <td>6</td>\n",
       "      <td>0</td>\n",
       "      <td>199</td>\n",
       "    </tr>\n",
       "    <tr>\n",
       "      <th>2</th>\n",
       "      <td>1</td>\n",
       "      <td>754.159807</td>\n",
       "      <td>6.232113</td>\n",
       "      <td>2021-04-20</td>\n",
       "      <td>4</td>\n",
       "      <td>2021</td>\n",
       "      <td>Кира</td>\n",
       "      <td>22</td>\n",
       "      <td>Тюмень</td>\n",
       "      <td>ultra</td>\n",
       "      <td>6</td>\n",
       "      <td>0</td>\n",
       "      <td>199</td>\n",
       "    </tr>\n",
       "    <tr>\n",
       "      <th>3</th>\n",
       "      <td>1</td>\n",
       "      <td>2694.783254</td>\n",
       "      <td>18.511000</td>\n",
       "      <td>2021-08-11</td>\n",
       "      <td>8</td>\n",
       "      <td>2021</td>\n",
       "      <td>Кира</td>\n",
       "      <td>22</td>\n",
       "      <td>Тюмень</td>\n",
       "      <td>ultra</td>\n",
       "      <td>6</td>\n",
       "      <td>0</td>\n",
       "      <td>199</td>\n",
       "    </tr>\n",
       "    <tr>\n",
       "      <th>4</th>\n",
       "      <td>1</td>\n",
       "      <td>4028.687306</td>\n",
       "      <td>26.265803</td>\n",
       "      <td>2021-08-28</td>\n",
       "      <td>8</td>\n",
       "      <td>2021</td>\n",
       "      <td>Кира</td>\n",
       "      <td>22</td>\n",
       "      <td>Тюмень</td>\n",
       "      <td>ultra</td>\n",
       "      <td>6</td>\n",
       "      <td>0</td>\n",
       "      <td>199</td>\n",
       "    </tr>\n",
       "  </tbody>\n",
       "</table>\n",
       "</div>"
      ],
      "text/plain": [
       "   user_id     distance   duration       date  month  year  name  age    city  \\\n",
       "0        1  4409.919140  25.599769 2021-01-01      1  2021  Кира   22  Тюмень   \n",
       "1        1  2617.592153  15.816871 2021-01-18      1  2021  Кира   22  Тюмень   \n",
       "2        1   754.159807   6.232113 2021-04-20      4  2021  Кира   22  Тюмень   \n",
       "3        1  2694.783254  18.511000 2021-08-11      8  2021  Кира   22  Тюмень   \n",
       "4        1  4028.687306  26.265803 2021-08-28      8  2021  Кира   22  Тюмень   \n",
       "\n",
       "  subscription_type  minute_price  start_ride_price  subscription_fee  \n",
       "0             ultra             6                 0               199  \n",
       "1             ultra             6                 0               199  \n",
       "2             ultra             6                 0               199  \n",
       "3             ultra             6                 0               199  \n",
       "4             ultra             6                 0               199  "
      ]
     },
     "metadata": {},
     "output_type": "display_data"
    },
    {
     "data": {
      "text/plain": [
       "None"
      ]
     },
     "metadata": {},
     "output_type": "display_data"
    }
   ],
   "source": [
    "display(main_list.head(5),\n",
    "       main_list.info())"
   ]
  },
  {
   "cell_type": "markdown",
   "id": "2e498b34",
   "metadata": {},
   "source": [
    "Чтобы проверить успешность слияния таблиц. Для начала проверим данные на пропуски."
   ]
  },
  {
   "cell_type": "code",
   "execution_count": 29,
   "id": "1ab8f7ac",
   "metadata": {},
   "outputs": [
    {
     "data": {
      "text/plain": [
       "user_id              0\n",
       "distance             0\n",
       "duration             0\n",
       "date                 0\n",
       "month                0\n",
       "year                 0\n",
       "name                 0\n",
       "age                  0\n",
       "city                 0\n",
       "subscription_type    0\n",
       "minute_price         0\n",
       "start_ride_price     0\n",
       "subscription_fee     0\n",
       "dtype: int64"
      ]
     },
     "execution_count": 29,
     "metadata": {},
     "output_type": "execute_result"
    }
   ],
   "source": [
    "main_list.isna().sum()"
   ]
  },
  {
   "cell_type": "markdown",
   "id": "82da00ba",
   "metadata": {},
   "source": [
    "Пропусков нет. Также проверим кол-во строк итогового датафрейма с исходной таблицей raiders_go"
   ]
  },
  {
   "cell_type": "code",
   "execution_count": 30,
   "id": "ba2bc20d",
   "metadata": {},
   "outputs": [
    {
     "data": {
      "text/plain": [
       "True"
      ]
     },
     "execution_count": 30,
     "metadata": {},
     "output_type": "execute_result"
    }
   ],
   "source": [
    "main_list['distance'].count() == riders_go['distance'].count()"
   ]
  },
  {
   "cell_type": "markdown",
   "id": "159bef5b",
   "metadata": {},
   "source": [
    "Ну и дубликаты на всякий случай"
   ]
  },
  {
   "cell_type": "code",
   "execution_count": 31,
   "id": "fe2501ba",
   "metadata": {},
   "outputs": [
    {
     "data": {
      "text/plain": [
       "0"
      ]
     },
     "execution_count": 31,
     "metadata": {},
     "output_type": "execute_result"
    }
   ],
   "source": [
    "main_list.duplicated().sum()"
   ]
  },
  {
   "cell_type": "markdown",
   "id": "395dc352",
   "metadata": {},
   "source": [
    "Отлично! Идем дальше!"
   ]
  },
  {
   "cell_type": "markdown",
   "id": "848cbfe4",
   "metadata": {},
   "source": [
    "Далее создаем два датафрейма пользователей с подпиской и без неё"
   ]
  },
  {
   "cell_type": "code",
   "execution_count": 32,
   "id": "bb474c75",
   "metadata": {},
   "outputs": [],
   "source": [
    "subscription_free = main_list.query('subscription_type == \"free\"').reset_index(drop=True)"
   ]
  },
  {
   "cell_type": "code",
   "execution_count": 33,
   "id": "97b0f5ae",
   "metadata": {},
   "outputs": [],
   "source": [
    "subscription_ultra = main_list.query('subscription_type ==\"ultra\"').reset_index(drop=True)"
   ]
  },
  {
   "cell_type": "code",
   "execution_count": 34,
   "id": "813cf535",
   "metadata": {
    "scrolled": true
   },
   "outputs": [
    {
     "data": {
      "text/html": [
       "<div>\n",
       "<style scoped>\n",
       "    .dataframe tbody tr th:only-of-type {\n",
       "        vertical-align: middle;\n",
       "    }\n",
       "\n",
       "    .dataframe tbody tr th {\n",
       "        vertical-align: top;\n",
       "    }\n",
       "\n",
       "    .dataframe thead th {\n",
       "        text-align: right;\n",
       "    }\n",
       "</style>\n",
       "<table border=\"1\" class=\"dataframe\">\n",
       "  <thead>\n",
       "    <tr style=\"text-align: right;\">\n",
       "      <th></th>\n",
       "      <th>user_id</th>\n",
       "      <th>distance</th>\n",
       "      <th>duration</th>\n",
       "      <th>date</th>\n",
       "      <th>month</th>\n",
       "      <th>year</th>\n",
       "      <th>name</th>\n",
       "      <th>age</th>\n",
       "      <th>city</th>\n",
       "      <th>subscription_type</th>\n",
       "      <th>minute_price</th>\n",
       "      <th>start_ride_price</th>\n",
       "      <th>subscription_fee</th>\n",
       "    </tr>\n",
       "  </thead>\n",
       "  <tbody>\n",
       "    <tr>\n",
       "      <th>0</th>\n",
       "      <td>700</td>\n",
       "      <td>2515.690719</td>\n",
       "      <td>14.944286</td>\n",
       "      <td>2021-01-02</td>\n",
       "      <td>1</td>\n",
       "      <td>2021</td>\n",
       "      <td>Айдар</td>\n",
       "      <td>22</td>\n",
       "      <td>Омск</td>\n",
       "      <td>free</td>\n",
       "      <td>8</td>\n",
       "      <td>50</td>\n",
       "      <td>0</td>\n",
       "    </tr>\n",
       "    <tr>\n",
       "      <th>1</th>\n",
       "      <td>700</td>\n",
       "      <td>846.932642</td>\n",
       "      <td>16.234663</td>\n",
       "      <td>2021-02-01</td>\n",
       "      <td>2</td>\n",
       "      <td>2021</td>\n",
       "      <td>Айдар</td>\n",
       "      <td>22</td>\n",
       "      <td>Омск</td>\n",
       "      <td>free</td>\n",
       "      <td>8</td>\n",
       "      <td>50</td>\n",
       "      <td>0</td>\n",
       "    </tr>\n",
       "    <tr>\n",
       "      <th>2</th>\n",
       "      <td>700</td>\n",
       "      <td>4004.434142</td>\n",
       "      <td>20.016628</td>\n",
       "      <td>2021-02-04</td>\n",
       "      <td>2</td>\n",
       "      <td>2021</td>\n",
       "      <td>Айдар</td>\n",
       "      <td>22</td>\n",
       "      <td>Омск</td>\n",
       "      <td>free</td>\n",
       "      <td>8</td>\n",
       "      <td>50</td>\n",
       "      <td>0</td>\n",
       "    </tr>\n",
       "    <tr>\n",
       "      <th>3</th>\n",
       "      <td>700</td>\n",
       "      <td>1205.911290</td>\n",
       "      <td>9.782872</td>\n",
       "      <td>2021-02-10</td>\n",
       "      <td>2</td>\n",
       "      <td>2021</td>\n",
       "      <td>Айдар</td>\n",
       "      <td>22</td>\n",
       "      <td>Омск</td>\n",
       "      <td>free</td>\n",
       "      <td>8</td>\n",
       "      <td>50</td>\n",
       "      <td>0</td>\n",
       "    </tr>\n",
       "    <tr>\n",
       "      <th>4</th>\n",
       "      <td>700</td>\n",
       "      <td>3047.379435</td>\n",
       "      <td>17.427673</td>\n",
       "      <td>2021-02-14</td>\n",
       "      <td>2</td>\n",
       "      <td>2021</td>\n",
       "      <td>Айдар</td>\n",
       "      <td>22</td>\n",
       "      <td>Омск</td>\n",
       "      <td>free</td>\n",
       "      <td>8</td>\n",
       "      <td>50</td>\n",
       "      <td>0</td>\n",
       "    </tr>\n",
       "  </tbody>\n",
       "</table>\n",
       "</div>"
      ],
      "text/plain": [
       "   user_id     distance   duration       date  month  year   name  age  city  \\\n",
       "0      700  2515.690719  14.944286 2021-01-02      1  2021  Айдар   22  Омск   \n",
       "1      700   846.932642  16.234663 2021-02-01      2  2021  Айдар   22  Омск   \n",
       "2      700  4004.434142  20.016628 2021-02-04      2  2021  Айдар   22  Омск   \n",
       "3      700  1205.911290   9.782872 2021-02-10      2  2021  Айдар   22  Омск   \n",
       "4      700  3047.379435  17.427673 2021-02-14      2  2021  Айдар   22  Омск   \n",
       "\n",
       "  subscription_type  minute_price  start_ride_price  subscription_fee  \n",
       "0              free             8                50                 0  \n",
       "1              free             8                50                 0  \n",
       "2              free             8                50                 0  \n",
       "3              free             8                50                 0  \n",
       "4              free             8                50                 0  "
      ]
     },
     "metadata": {},
     "output_type": "display_data"
    },
    {
     "data": {
      "text/html": [
       "<div>\n",
       "<style scoped>\n",
       "    .dataframe tbody tr th:only-of-type {\n",
       "        vertical-align: middle;\n",
       "    }\n",
       "\n",
       "    .dataframe tbody tr th {\n",
       "        vertical-align: top;\n",
       "    }\n",
       "\n",
       "    .dataframe thead th {\n",
       "        text-align: right;\n",
       "    }\n",
       "</style>\n",
       "<table border=\"1\" class=\"dataframe\">\n",
       "  <thead>\n",
       "    <tr style=\"text-align: right;\">\n",
       "      <th></th>\n",
       "      <th>user_id</th>\n",
       "      <th>distance</th>\n",
       "      <th>duration</th>\n",
       "      <th>date</th>\n",
       "      <th>month</th>\n",
       "      <th>year</th>\n",
       "      <th>name</th>\n",
       "      <th>age</th>\n",
       "      <th>city</th>\n",
       "      <th>subscription_type</th>\n",
       "      <th>minute_price</th>\n",
       "      <th>start_ride_price</th>\n",
       "      <th>subscription_fee</th>\n",
       "    </tr>\n",
       "  </thead>\n",
       "  <tbody>\n",
       "    <tr>\n",
       "      <th>0</th>\n",
       "      <td>1</td>\n",
       "      <td>4409.919140</td>\n",
       "      <td>25.599769</td>\n",
       "      <td>2021-01-01</td>\n",
       "      <td>1</td>\n",
       "      <td>2021</td>\n",
       "      <td>Кира</td>\n",
       "      <td>22</td>\n",
       "      <td>Тюмень</td>\n",
       "      <td>ultra</td>\n",
       "      <td>6</td>\n",
       "      <td>0</td>\n",
       "      <td>199</td>\n",
       "    </tr>\n",
       "    <tr>\n",
       "      <th>1</th>\n",
       "      <td>1</td>\n",
       "      <td>2617.592153</td>\n",
       "      <td>15.816871</td>\n",
       "      <td>2021-01-18</td>\n",
       "      <td>1</td>\n",
       "      <td>2021</td>\n",
       "      <td>Кира</td>\n",
       "      <td>22</td>\n",
       "      <td>Тюмень</td>\n",
       "      <td>ultra</td>\n",
       "      <td>6</td>\n",
       "      <td>0</td>\n",
       "      <td>199</td>\n",
       "    </tr>\n",
       "    <tr>\n",
       "      <th>2</th>\n",
       "      <td>1</td>\n",
       "      <td>754.159807</td>\n",
       "      <td>6.232113</td>\n",
       "      <td>2021-04-20</td>\n",
       "      <td>4</td>\n",
       "      <td>2021</td>\n",
       "      <td>Кира</td>\n",
       "      <td>22</td>\n",
       "      <td>Тюмень</td>\n",
       "      <td>ultra</td>\n",
       "      <td>6</td>\n",
       "      <td>0</td>\n",
       "      <td>199</td>\n",
       "    </tr>\n",
       "    <tr>\n",
       "      <th>3</th>\n",
       "      <td>1</td>\n",
       "      <td>2694.783254</td>\n",
       "      <td>18.511000</td>\n",
       "      <td>2021-08-11</td>\n",
       "      <td>8</td>\n",
       "      <td>2021</td>\n",
       "      <td>Кира</td>\n",
       "      <td>22</td>\n",
       "      <td>Тюмень</td>\n",
       "      <td>ultra</td>\n",
       "      <td>6</td>\n",
       "      <td>0</td>\n",
       "      <td>199</td>\n",
       "    </tr>\n",
       "    <tr>\n",
       "      <th>4</th>\n",
       "      <td>1</td>\n",
       "      <td>4028.687306</td>\n",
       "      <td>26.265803</td>\n",
       "      <td>2021-08-28</td>\n",
       "      <td>8</td>\n",
       "      <td>2021</td>\n",
       "      <td>Кира</td>\n",
       "      <td>22</td>\n",
       "      <td>Тюмень</td>\n",
       "      <td>ultra</td>\n",
       "      <td>6</td>\n",
       "      <td>0</td>\n",
       "      <td>199</td>\n",
       "    </tr>\n",
       "  </tbody>\n",
       "</table>\n",
       "</div>"
      ],
      "text/plain": [
       "   user_id     distance   duration       date  month  year  name  age    city  \\\n",
       "0        1  4409.919140  25.599769 2021-01-01      1  2021  Кира   22  Тюмень   \n",
       "1        1  2617.592153  15.816871 2021-01-18      1  2021  Кира   22  Тюмень   \n",
       "2        1   754.159807   6.232113 2021-04-20      4  2021  Кира   22  Тюмень   \n",
       "3        1  2694.783254  18.511000 2021-08-11      8  2021  Кира   22  Тюмень   \n",
       "4        1  4028.687306  26.265803 2021-08-28      8  2021  Кира   22  Тюмень   \n",
       "\n",
       "  subscription_type  minute_price  start_ride_price  subscription_fee  \n",
       "0             ultra             6                 0               199  \n",
       "1             ultra             6                 0               199  \n",
       "2             ultra             6                 0               199  \n",
       "3             ultra             6                 0               199  \n",
       "4             ultra             6                 0               199  "
      ]
     },
     "metadata": {},
     "output_type": "display_data"
    }
   ],
   "source": [
    "display(subscription_free.head(5),\n",
    "       subscription_ultra.head(5))"
   ]
  },
  {
   "cell_type": "markdown",
   "id": "2b19d295",
   "metadata": {},
   "source": [
    "Также првоеряем сумму строк, получившихся датафреймов с основным"
   ]
  },
  {
   "cell_type": "code",
   "execution_count": 35,
   "id": "66339c37",
   "metadata": {},
   "outputs": [
    {
     "data": {
      "text/plain": [
       "True"
      ]
     },
     "execution_count": 35,
     "metadata": {},
     "output_type": "execute_result"
    }
   ],
   "source": [
    "subscription_free['distance'].count() + subscription_ultra['distance'].count() == main_list['distance'].count()"
   ]
  },
  {
   "cell_type": "markdown",
   "id": "4384ae8c",
   "metadata": {},
   "source": [
    "Визуализируем информацию о расстоянии и времени поездок для обеих категорий. Для удобства будем сравнивать две гистограммы одних и тех же параметров у разных типо подписок."
   ]
  },
  {
   "cell_type": "markdown",
   "id": "9f5ceae2",
   "metadata": {},
   "source": [
    "1) Сравним гистограммы продолжительности поездок"
   ]
  },
  {
   "cell_type": "code",
   "execution_count": 36,
   "id": "8c3167a1",
   "metadata": {},
   "outputs": [
    {
     "data": {
      "text/plain": [
       "count    11568.000000\n",
       "mean      3045.495282\n",
       "std       1246.173806\n",
       "min          0.855683\n",
       "25%       2366.562689\n",
       "50%       3114.648465\n",
       "75%       3905.697894\n",
       "max       7211.007745\n",
       "Name: distance, dtype: float64"
      ]
     },
     "metadata": {},
     "output_type": "display_data"
    },
    {
     "data": {
      "text/plain": [
       "count    6500.000000\n",
       "mean     3115.445388\n",
       "std       836.895330\n",
       "min       244.210438\n",
       "25%      2785.444017\n",
       "50%      3148.637229\n",
       "75%      3560.574425\n",
       "max      5699.769662\n",
       "Name: distance, dtype: float64"
      ]
     },
     "metadata": {},
     "output_type": "display_data"
    }
   ],
   "source": [
    "display(subscription_free['distance'].describe(),\n",
    "subscription_ultra['distance'].describe())"
   ]
  },
  {
   "cell_type": "code",
   "execution_count": 37,
   "id": "fc89bf80",
   "metadata": {
    "scrolled": true
   },
   "outputs": [
    {
     "data": {
      "image/png": "[encoded data removed]",
      "text/plain": [
       "<Figure size 1200x500 with 1 Axes>"
      ]
     },
     "metadata": {},
     "output_type": "display_data"
    }
   ],
   "source": [
    "subscription_free['distance'].plot(kind='hist',bins=100, range=(0,6000),alpha=0.5, figsize=(12,5),legend=True,label='Без подписки',color='purple')\n",
    "subscription_ultra['distance'].plot(kind='hist',bins=100, range=(0,6000), alpha=0.5, figsize=(12,5),title=('Сравнение гистограмм продолжительности поездок в минутах'),legend=True,label='С подпиской',color='g')\n",
    "plt.xlabel('Расстояние в метрах')\n",
    "plt.ylabel('Кол-во поездок')\n",
    "plt.show()"
   ]
  },
  {
   "cell_type": "markdown",
   "id": "975e31ea",
   "metadata": {},
   "source": [
    "В первую очередь, бросается в глаза, что общее кол-во поездок у пользователей без подписки больше. Несмотря на это, видно что пик у пользователей с подписки больше, и он ярко выражен на отметке в ~3150 м. Также можно заметить, что с подпиской, что без неё, есть рост и падение графика до 2 км. У клиентов без подписки, можно наблюдать также, что они более часто ездят на длительные расстояния. Также немаловажно, что основная часть наблюдений у пользователей без подписки находится в диапозоне от 2300 до 3900 м., в то время как у подписчиков от 2700 до 3500 м. Это говорит о том, что пользователи с подпиской берут самокаты для определенной цели, возможно это поездка до метро или до работы, а пользователи без подписки могут взять самокат и для развлечения о чем говорят более длительные поездки."
   ]
  },
  {
   "cell_type": "markdown",
   "id": "5b9461cd",
   "metadata": {},
   "source": [
    "2) Рассмотрим гистограммы продолжительности поездок"
   ]
  },
  {
   "cell_type": "code",
   "execution_count": 38,
   "id": "6a1a3973",
   "metadata": {},
   "outputs": [
    {
     "data": {
      "text/plain": [
       "count    11568.000000\n",
       "mean        17.390909\n",
       "std          6.326803\n",
       "min          0.500000\n",
       "25%         12.958437\n",
       "50%         17.326890\n",
       "75%         21.594071\n",
       "max         34.948498\n",
       "Name: duration, dtype: float64"
      ]
     },
     "metadata": {},
     "output_type": "display_data"
    },
    {
     "data": {
      "text/plain": [
       "count    6500.000000\n",
       "mean       18.541985\n",
       "std         5.572048\n",
       "min         3.760353\n",
       "25%        14.524654\n",
       "50%        18.178153\n",
       "75%        21.884129\n",
       "max        40.823963\n",
       "Name: duration, dtype: float64"
      ]
     },
     "metadata": {},
     "output_type": "display_data"
    }
   ],
   "source": [
    "display(subscription_free['duration'].describe(),\n",
    "subscription_ultra['duration'].describe())"
   ]
  },
  {
   "cell_type": "code",
   "execution_count": 39,
   "id": "1388f0d3",
   "metadata": {},
   "outputs": [
    {
     "data": {
      "image/png": "[encoded data removed]",
      "text/plain": [
       "<Figure size 1200x500 with 1 Axes>"
      ]
     },
     "metadata": {},
     "output_type": "display_data"
    }
   ],
   "source": [
    "subscription_free['duration'].plot(kind='hist',bins=100, range=(0,40),alpha=0.5, figsize=(12,5),legend=True,label='Без подписки',color='purple')\n",
    "subscription_ultra['duration'].plot(kind='hist', bins=100,range=(0,40), alpha=0.5, figsize=(12,5),title=('Сравнение гистограмм продолжительности поездок в минутах'),legend=True,label='С подпиской',color='g')\n",
    "plt.xlabel('Время в минутах')\n",
    "plt.ylabel('Кол-во поездок')\n",
    "plt.show()"
   ]
  },
  {
   "cell_type": "markdown",
   "id": "fed2dd24",
   "metadata": {},
   "source": [
    "Здесь мы имеем, немного другую ситуацию. Пика у 0 минут у пользователей с подпиской нету (возможно у них неограниченное кол-во аренды, или же у них нет мин. ограничения на поездки). Подписчики могут быть в поездке более длительное время, чем пользователи без подписки.\n",
    "Также видно, что минимальное значение у пользователей с подпиской является ~3.5 минуты, в то время как пользователи без подписки могут брать аренду и на менее длительное время. Судя по описанию данных, видно, что средняя продолжительность поездки у подписчиков больше на ~1 мин. Стоит отметить, что 1 квартиль у разных подписок разный, у пользователей без подписки он меньше и составляет ~13 минут, а у подписчиков ~14.5 минут."
   ]
  },
  {
   "cell_type": "markdown",
   "id": "19885214",
   "metadata": {},
   "source": [
    "Взглянем как ведут себя зависимости расстояния поездок от их времени у разных типов подписок"
   ]
  },
  {
   "cell_type": "markdown",
   "id": "b0fb30bb",
   "metadata": {},
   "source": [
    "1) Пользователи с подпиской"
   ]
  },
  {
   "cell_type": "code",
   "execution_count": 40,
   "id": "391fa3d6",
   "metadata": {},
   "outputs": [
    {
     "data": {
      "image/png": "[encoded data removed]",
      "text/plain": [
       "<Figure size 800x600 with 2 Axes>"
      ]
     },
     "metadata": {},
     "output_type": "display_data"
    }
   ],
   "source": [
    "subscription_free.plot(x='distance',y='duration', kind='hexbin',gridsize=20, figsize=(8,6),sharex=False, grid=True,title='Зависимость времени от расстояния')\n",
    "plt.xlabel('Расстояние в метрах')\n",
    "plt.ylabel('Время в минутах')\n",
    "plt.show()\n"
   ]
  },
  {
   "cell_type": "markdown",
   "id": "221bd2de",
   "metadata": {},
   "source": [
    "2) Пользователи без подписки"
   ]
  },
  {
   "cell_type": "code",
   "execution_count": 41,
   "id": "0db8bab7",
   "metadata": {},
   "outputs": [
    {
     "data": {
      "image/png": "[encoded data removed]",
      "text/plain": [
       "<Figure size 800x600 with 2 Axes>"
      ]
     },
     "metadata": {},
     "output_type": "display_data"
    }
   ],
   "source": [
    "subscription_ultra.plot(x='distance',y='duration', kind='hexbin', gridsize=20, figsize=(8,6), sharex=False, grid=True,title='Зависимость времени от расстояния')\n",
    "plt.xlabel('Расстояние в метрах')\n",
    "plt.ylabel('Время в минутах')\n",
    "plt.show()"
   ]
  },
  {
   "cell_type": "markdown",
   "id": "4a18316f",
   "metadata": {},
   "source": [
    "По итогам данного шага:\n",
    "    \n",
    "    1) Сформировали один большой датафрейм с информацией о поездках и пользователях, а также доп информация о подписке;\n",
    "    2) Создали два датафрейма по критерию подписки: пользователи с подпиской и без неё;\n",
    "    3) Рассмотрели графики duration и distance у двух датафреймов\n",
    "    4) Касаемо различий у поездок с/без подписки:\n",
    "        -поездок без подписки больше почти в два раза;\n",
    "        -среднее расстояние поездок примерно одинковое;\n",
    "        -максмальное расстояние у поездки без подписки (7211 против 5669 м);\n",
    "        -однако время поездки у пользователей с подпиской все же больше, хоть и не намного: среднее значение отличается на ~1 минуту(однако у пользователей без подписки, есть поездки равные меньше минуты)"
   ]
  },
  {
   "cell_type": "markdown",
   "id": "402d620f",
   "metadata": {},
   "source": [
    "## Подсчёт выручки"
   ]
  },
  {
   "cell_type": "markdown",
   "id": "074d15b7",
   "metadata": {},
   "source": [
    "Создадим датафрейм с агрегрованными данными о поездках по пользователям. Но перед этим необходимо округлить минуты до следующего целого числа в исходном датафрейме с инфо. о поездках."
   ]
  },
  {
   "cell_type": "code",
   "execution_count": 42,
   "id": "6538b637",
   "metadata": {},
   "outputs": [],
   "source": [
    "main_list['duration'] = np.ceil(main_list['duration'])\n",
    "users_travel_info = main_list.pivot_table(index=('month','user_id'), values=('distance', 'duration'), aggfunc=('sum'))\n",
    "users_travel_info['count'] = main_list.pivot_table(index=('month','user_id'), values='duration', aggfunc='count')"
   ]
  },
  {
   "cell_type": "code",
   "execution_count": 43,
   "id": "dea0739a",
   "metadata": {},
   "outputs": [
    {
     "data": {
      "text/html": [
       "<div>\n",
       "<style scoped>\n",
       "    .dataframe tbody tr th:only-of-type {\n",
       "        vertical-align: middle;\n",
       "    }\n",
       "\n",
       "    .dataframe tbody tr th {\n",
       "        vertical-align: top;\n",
       "    }\n",
       "\n",
       "    .dataframe thead th {\n",
       "        text-align: right;\n",
       "    }\n",
       "</style>\n",
       "<table border=\"1\" class=\"dataframe\">\n",
       "  <thead>\n",
       "    <tr style=\"text-align: right;\">\n",
       "      <th></th>\n",
       "      <th></th>\n",
       "      <th>distance</th>\n",
       "      <th>duration</th>\n",
       "      <th>count</th>\n",
       "    </tr>\n",
       "    <tr>\n",
       "      <th>month</th>\n",
       "      <th>user_id</th>\n",
       "      <th></th>\n",
       "      <th></th>\n",
       "      <th></th>\n",
       "    </tr>\n",
       "  </thead>\n",
       "  <tbody>\n",
       "    <tr>\n",
       "      <th rowspan=\"10\" valign=\"top\">1</th>\n",
       "      <th>1</th>\n",
       "      <td>7027.511294</td>\n",
       "      <td>42.0</td>\n",
       "      <td>2</td>\n",
       "    </tr>\n",
       "    <tr>\n",
       "      <th>3</th>\n",
       "      <td>3061.777147</td>\n",
       "      <td>13.0</td>\n",
       "      <td>1</td>\n",
       "    </tr>\n",
       "    <tr>\n",
       "      <th>5</th>\n",
       "      <td>3914.646990</td>\n",
       "      <td>13.0</td>\n",
       "      <td>1</td>\n",
       "    </tr>\n",
       "    <tr>\n",
       "      <th>7</th>\n",
       "      <td>6478.080979</td>\n",
       "      <td>28.0</td>\n",
       "      <td>2</td>\n",
       "    </tr>\n",
       "    <tr>\n",
       "      <th>12</th>\n",
       "      <td>3577.151148</td>\n",
       "      <td>33.0</td>\n",
       "      <td>1</td>\n",
       "    </tr>\n",
       "    <tr>\n",
       "      <th>13</th>\n",
       "      <td>6687.987446</td>\n",
       "      <td>42.0</td>\n",
       "      <td>2</td>\n",
       "    </tr>\n",
       "    <tr>\n",
       "      <th>14</th>\n",
       "      <td>7699.643820</td>\n",
       "      <td>35.0</td>\n",
       "      <td>2</td>\n",
       "    </tr>\n",
       "    <tr>\n",
       "      <th>15</th>\n",
       "      <td>4187.621459</td>\n",
       "      <td>39.0</td>\n",
       "      <td>1</td>\n",
       "    </tr>\n",
       "    <tr>\n",
       "      <th>20</th>\n",
       "      <td>3516.719208</td>\n",
       "      <td>29.0</td>\n",
       "      <td>1</td>\n",
       "    </tr>\n",
       "    <tr>\n",
       "      <th>22</th>\n",
       "      <td>3058.692225</td>\n",
       "      <td>13.0</td>\n",
       "      <td>1</td>\n",
       "    </tr>\n",
       "  </tbody>\n",
       "</table>\n",
       "</div>"
      ],
      "text/plain": [
       "                  distance  duration  count\n",
       "month user_id                              \n",
       "1     1        7027.511294      42.0      2\n",
       "      3        3061.777147      13.0      1\n",
       "      5        3914.646990      13.0      1\n",
       "      7        6478.080979      28.0      2\n",
       "      12       3577.151148      33.0      1\n",
       "      13       6687.987446      42.0      2\n",
       "      14       7699.643820      35.0      2\n",
       "      15       4187.621459      39.0      1\n",
       "      20       3516.719208      29.0      1\n",
       "      22       3058.692225      13.0      1"
      ]
     },
     "execution_count": 43,
     "metadata": {},
     "output_type": "execute_result"
    }
   ],
   "source": [
    "users_travel_info.head(10)"
   ]
  },
  {
   "cell_type": "markdown",
   "id": "db5b7cf3",
   "metadata": {},
   "source": [
    "Добавим столбец с типом подписки у пользователя"
   ]
  },
  {
   "cell_type": "code",
   "execution_count": 44,
   "id": "816f90dc",
   "metadata": {},
   "outputs": [],
   "source": [
    "users_travel_info['subscription_type'] = main_list.pivot_table(index=('month','user_id'), values='subscription_type', aggfunc='first')"
   ]
  },
  {
   "cell_type": "code",
   "execution_count": 45,
   "id": "1cc452a4",
   "metadata": {},
   "outputs": [
    {
     "data": {
      "text/html": [
       "<div>\n",
       "<style scoped>\n",
       "    .dataframe tbody tr th:only-of-type {\n",
       "        vertical-align: middle;\n",
       "    }\n",
       "\n",
       "    .dataframe tbody tr th {\n",
       "        vertical-align: top;\n",
       "    }\n",
       "\n",
       "    .dataframe thead th {\n",
       "        text-align: right;\n",
       "    }\n",
       "</style>\n",
       "<table border=\"1\" class=\"dataframe\">\n",
       "  <thead>\n",
       "    <tr style=\"text-align: right;\">\n",
       "      <th></th>\n",
       "      <th></th>\n",
       "      <th>distance</th>\n",
       "      <th>duration</th>\n",
       "      <th>count</th>\n",
       "      <th>subscription_type</th>\n",
       "    </tr>\n",
       "    <tr>\n",
       "      <th>month</th>\n",
       "      <th>user_id</th>\n",
       "      <th></th>\n",
       "      <th></th>\n",
       "      <th></th>\n",
       "      <th></th>\n",
       "    </tr>\n",
       "  </thead>\n",
       "  <tbody>\n",
       "    <tr>\n",
       "      <th rowspan=\"5\" valign=\"top\">1</th>\n",
       "      <th>1</th>\n",
       "      <td>7027.511294</td>\n",
       "      <td>42.0</td>\n",
       "      <td>2</td>\n",
       "      <td>ultra</td>\n",
       "    </tr>\n",
       "    <tr>\n",
       "      <th>3</th>\n",
       "      <td>3061.777147</td>\n",
       "      <td>13.0</td>\n",
       "      <td>1</td>\n",
       "      <td>ultra</td>\n",
       "    </tr>\n",
       "    <tr>\n",
       "      <th>5</th>\n",
       "      <td>3914.646990</td>\n",
       "      <td>13.0</td>\n",
       "      <td>1</td>\n",
       "      <td>ultra</td>\n",
       "    </tr>\n",
       "    <tr>\n",
       "      <th>7</th>\n",
       "      <td>6478.080979</td>\n",
       "      <td>28.0</td>\n",
       "      <td>2</td>\n",
       "      <td>ultra</td>\n",
       "    </tr>\n",
       "    <tr>\n",
       "      <th>12</th>\n",
       "      <td>3577.151148</td>\n",
       "      <td>33.0</td>\n",
       "      <td>1</td>\n",
       "      <td>ultra</td>\n",
       "    </tr>\n",
       "  </tbody>\n",
       "</table>\n",
       "</div>"
      ],
      "text/plain": [
       "                  distance  duration  count subscription_type\n",
       "month user_id                                                \n",
       "1     1        7027.511294      42.0      2             ultra\n",
       "      3        3061.777147      13.0      1             ultra\n",
       "      5        3914.646990      13.0      1             ultra\n",
       "      7        6478.080979      28.0      2             ultra\n",
       "      12       3577.151148      33.0      1             ultra"
      ]
     },
     "execution_count": 45,
     "metadata": {},
     "output_type": "execute_result"
    }
   ],
   "source": [
    "users_travel_info.head(5)"
   ]
  },
  {
   "cell_type": "code",
   "execution_count": 46,
   "id": "44fccef0",
   "metadata": {},
   "outputs": [],
   "source": [
    "def income(row):\n",
    "    if row['subscription_type'] == 'ultra':\n",
    "        return 199+row['duration']*6\n",
    "    elif row['subscription_type'] == 'free':\n",
    "        return 50*row['count']+row['duration']*8\n",
    "    else: 'No info'\n",
    "users_travel_info['income_per_month'] = users_travel_info.apply(income, axis=1)"
   ]
  },
  {
   "cell_type": "code",
   "execution_count": 47,
   "id": "d8ff277b",
   "metadata": {},
   "outputs": [
    {
     "data": {
      "text/html": [
       "<div>\n",
       "<style scoped>\n",
       "    .dataframe tbody tr th:only-of-type {\n",
       "        vertical-align: middle;\n",
       "    }\n",
       "\n",
       "    .dataframe tbody tr th {\n",
       "        vertical-align: top;\n",
       "    }\n",
       "\n",
       "    .dataframe thead th {\n",
       "        text-align: right;\n",
       "    }\n",
       "</style>\n",
       "<table border=\"1\" class=\"dataframe\">\n",
       "  <thead>\n",
       "    <tr style=\"text-align: right;\">\n",
       "      <th></th>\n",
       "      <th></th>\n",
       "      <th>distance</th>\n",
       "      <th>duration</th>\n",
       "      <th>count</th>\n",
       "      <th>subscription_type</th>\n",
       "      <th>income_per_month</th>\n",
       "    </tr>\n",
       "    <tr>\n",
       "      <th>month</th>\n",
       "      <th>user_id</th>\n",
       "      <th></th>\n",
       "      <th></th>\n",
       "      <th></th>\n",
       "      <th></th>\n",
       "      <th></th>\n",
       "    </tr>\n",
       "  </thead>\n",
       "  <tbody>\n",
       "    <tr>\n",
       "      <th rowspan=\"10\" valign=\"top\">1</th>\n",
       "      <th>1</th>\n",
       "      <td>7027.511294</td>\n",
       "      <td>42.0</td>\n",
       "      <td>2</td>\n",
       "      <td>ultra</td>\n",
       "      <td>451.0</td>\n",
       "    </tr>\n",
       "    <tr>\n",
       "      <th>3</th>\n",
       "      <td>3061.777147</td>\n",
       "      <td>13.0</td>\n",
       "      <td>1</td>\n",
       "      <td>ultra</td>\n",
       "      <td>277.0</td>\n",
       "    </tr>\n",
       "    <tr>\n",
       "      <th>5</th>\n",
       "      <td>3914.646990</td>\n",
       "      <td>13.0</td>\n",
       "      <td>1</td>\n",
       "      <td>ultra</td>\n",
       "      <td>277.0</td>\n",
       "    </tr>\n",
       "    <tr>\n",
       "      <th>7</th>\n",
       "      <td>6478.080979</td>\n",
       "      <td>28.0</td>\n",
       "      <td>2</td>\n",
       "      <td>ultra</td>\n",
       "      <td>367.0</td>\n",
       "    </tr>\n",
       "    <tr>\n",
       "      <th>12</th>\n",
       "      <td>3577.151148</td>\n",
       "      <td>33.0</td>\n",
       "      <td>1</td>\n",
       "      <td>ultra</td>\n",
       "      <td>397.0</td>\n",
       "    </tr>\n",
       "    <tr>\n",
       "      <th>13</th>\n",
       "      <td>6687.987446</td>\n",
       "      <td>42.0</td>\n",
       "      <td>2</td>\n",
       "      <td>ultra</td>\n",
       "      <td>451.0</td>\n",
       "    </tr>\n",
       "    <tr>\n",
       "      <th>14</th>\n",
       "      <td>7699.643820</td>\n",
       "      <td>35.0</td>\n",
       "      <td>2</td>\n",
       "      <td>ultra</td>\n",
       "      <td>409.0</td>\n",
       "    </tr>\n",
       "    <tr>\n",
       "      <th>15</th>\n",
       "      <td>4187.621459</td>\n",
       "      <td>39.0</td>\n",
       "      <td>1</td>\n",
       "      <td>ultra</td>\n",
       "      <td>433.0</td>\n",
       "    </tr>\n",
       "    <tr>\n",
       "      <th>20</th>\n",
       "      <td>3516.719208</td>\n",
       "      <td>29.0</td>\n",
       "      <td>1</td>\n",
       "      <td>ultra</td>\n",
       "      <td>373.0</td>\n",
       "    </tr>\n",
       "    <tr>\n",
       "      <th>22</th>\n",
       "      <td>3058.692225</td>\n",
       "      <td>13.0</td>\n",
       "      <td>1</td>\n",
       "      <td>ultra</td>\n",
       "      <td>277.0</td>\n",
       "    </tr>\n",
       "  </tbody>\n",
       "</table>\n",
       "</div>"
      ],
      "text/plain": [
       "                  distance  duration  count subscription_type  \\\n",
       "month user_id                                                   \n",
       "1     1        7027.511294      42.0      2             ultra   \n",
       "      3        3061.777147      13.0      1             ultra   \n",
       "      5        3914.646990      13.0      1             ultra   \n",
       "      7        6478.080979      28.0      2             ultra   \n",
       "      12       3577.151148      33.0      1             ultra   \n",
       "      13       6687.987446      42.0      2             ultra   \n",
       "      14       7699.643820      35.0      2             ultra   \n",
       "      15       4187.621459      39.0      1             ultra   \n",
       "      20       3516.719208      29.0      1             ultra   \n",
       "      22       3058.692225      13.0      1             ultra   \n",
       "\n",
       "               income_per_month  \n",
       "month user_id                    \n",
       "1     1                   451.0  \n",
       "      3                   277.0  \n",
       "      5                   277.0  \n",
       "      7                   367.0  \n",
       "      12                  397.0  \n",
       "      13                  451.0  \n",
       "      14                  409.0  \n",
       "      15                  433.0  \n",
       "      20                  373.0  \n",
       "      22                  277.0  "
      ]
     },
     "execution_count": 47,
     "metadata": {},
     "output_type": "execute_result"
    }
   ],
   "source": [
    "users_travel_info.head(10)"
   ]
  },
  {
   "cell_type": "markdown",
   "id": "5b4bef31",
   "metadata": {},
   "source": [
    "По итогам данного шага:\n",
    "\n",
    "    1) Создали датафрейм с информацией по месяцам по каждому пользователю о его суммарном расстоянии и длительности поездок;\n",
    "    2) Рассчитали выручку по месяцам по каждому пользователю, учитываю подписку"
   ]
  },
  {
   "cell_type": "markdown",
   "id": "41545ac0",
   "metadata": {},
   "source": [
    "## Проверка гипотез"
   ]
  },
  {
   "cell_type": "markdown",
   "id": "f6cf73db",
   "metadata": {},
   "source": [
    "Итак, продакт менеджерам необходимо увеличить кол-во подписок. Перед этим необходимо проверить несколько гипотез\n",
    "\n",
    "1) \"Тратят ли пользователи с подпиской больше времени на поездки, чем без неё\".\n",
    "    Сформулируем гипотезы:\n",
    "    \n",
    "        H0 - ср. время поездки пользователей с подпиской = ср. времени поездки у пользователей без неё(нулевая гипотеза)\n",
    "        H1 - ср. время поездки пользователей с подпиской > ср. времени поездки пользователей без неё(альтернативная гипотеза)\n",
    "        \n",
    "alpha - 0.05"
   ]
  },
  {
   "cell_type": "code",
   "execution_count": 48,
   "id": "d171eb45",
   "metadata": {
    "scrolled": true
   },
   "outputs": [
    {
     "name": "stdout",
     "output_type": "stream",
     "text": [
      "среднее первой выборки: 18.54198516280583\n",
      "среднее второй выборки:17.39090929866399\n",
      "p-значение: 1.2804098316645618e-34\n",
      "Отвергаем нулевую гипотезу\n"
     ]
    }
   ],
   "source": [
    "ultra = subscription_ultra['duration']\n",
    "free = subscription_free['duration']\n",
    "print(f'среднее первой выборки: {np.mean(ultra)}')\n",
    "print(f'среднее второй выборки:{np.mean(free)}')\n",
    "result1 = st.ttest_ind(ultra,free,alternative='greater')\n",
    "alpha= 0.05\n",
    "print('p-значение:', result1.pvalue)\n",
    "if result1.pvalue < alpha:\n",
    "    print('Отвергаем нулевую гипотезу')\n",
    "else:\n",
    "    print('Не получилось отвергнуть нулевую гипотезу')"
   ]
  },
  {
   "cell_type": "markdown",
   "id": "a491ffd2",
   "metadata": {},
   "source": [
    "Таким образом, при проведении т-теста, с уровнем значимости в 5%, мы можем опровергнуть нулевую гипотезу и сделать вывод, что она не верна, поэтому есть основания утверждать, что среднее время поездки пользователей с подпиской выше чем у пользователей без подписки."
   ]
  },
  {
   "cell_type": "markdown",
   "id": "266d9e09",
   "metadata": {},
   "source": [
    "2) Проверяем гипотезу о среднем расстоянии поездки для пользователей с подпиской,что оно не превышает 3130 м:\n",
    "\n",
    "    H0 - ср. расстояние поездки пользователей с подпиской = 3130 метров (нулевая гипотеза)\n",
    "    H1 - ср. расстояние поездки пользователей с подпиской > 3130 метров (альтернативная гипотеза)\n",
    "\n",
    "alpha - 0.05\n"
   ]
  },
  {
   "cell_type": "code",
   "execution_count": 49,
   "id": "b510c060",
   "metadata": {},
   "outputs": [
    {
     "name": "stdout",
     "output_type": "stream",
     "text": [
      "Среднее выборки: 3115.4453880370247\n",
      "p-значение: 0.9195368847849785\n",
      "Не получилось отвергнуть нулевую гипотзу\n"
     ]
    }
   ],
   "source": [
    "distance_ultra = subscription_ultra['distance']\n",
    "print('Среднее выборки:',distance_ultra.mean())\n",
    "\n",
    "value = 3130\n",
    "alpha = 0.05\n",
    "\n",
    "result2 = st.ttest_1samp(distance_ultra,value,alternative='greater')\n",
    "print('p-значение:', result2.pvalue)\n",
    "if result2.pvalue < alpha:\n",
    "    print('Отвергаем нулевую гипотезу')\n",
    "else:\n",
    "    print('Не получилось отвергнуть нулевую гипотзу')"
   ]
  },
  {
   "cell_type": "markdown",
   "id": "33a09f26",
   "metadata": {},
   "source": [
    "Выборочное среднее равно 3115 и отличается от 3130, предположенного в нулевой гипотезе. Однако отличие не слишком велико, чтобы опровергнуть нулевую гипотезу, что истинное среднее и предположенное не равны при уровне значимости в 5%. Таким образом, есть основание утверждать, что среднее расстояние, проезжаемое пользовалеями с подпиской, не превышает 3130 метров, а значитоно в пределах нормы износа самокатов.\n"
   ]
  },
  {
   "cell_type": "markdown",
   "id": "0efd3f53",
   "metadata": {},
   "source": [
    "3) Проверим гипотезу, что помесячная выручка пользователей с подпиской выше, чем у пользователей без подписки:\n",
    "    \n",
    "    H0 - ср. выручка по месяцам у пользователей с подпиской = ср. выручке по месяцам у пользователей без подписки;\n",
    "    H1 - ср. выручка по месяцам у пользователей с подпиской > чем ср. выручка по месяцам у пользователей без подписки\n",
    "    \n",
    "alpha = 0.05"
   ]
  },
  {
   "cell_type": "code",
   "execution_count": 50,
   "id": "f9d1ff54",
   "metadata": {},
   "outputs": [
    {
     "name": "stdout",
     "output_type": "stream",
     "text": [
      "среднее первой выборки: 362.7921906022502\n",
      "среднее второй выборки: 328.6413651073845\n",
      "p-значение: 1.8850394384715216e-31\n",
      "Отвергаем нулевую гипотезу\n"
     ]
    }
   ],
   "source": [
    "ultra_per_month = users_travel_info.loc[users_travel_info['subscription_type'] == 'ultra', 'income_per_month']\n",
    "free_per_month = users_travel_info.loc[users_travel_info['subscription_type'] == 'free', 'income_per_month']\n",
    "alpha = 0.05\n",
    "print(f'среднее первой выборки: {np.mean(ultra_per_month)}')\n",
    "print(f'среднее второй выборки: {np.mean(free_per_month)}')\n",
    "\n",
    "result3 = st.ttest_ind(ultra_per_month,free_per_month,alternative='greater')\n",
    "print('p-значение:', result3.pvalue)\n",
    "\n",
    "if result3.pvalue < alpha:\n",
    "    print('Отвергаем нулевую гипотезу')\n",
    "else:\n",
    "    print('Не получилось отвергнуть нулевую гипотезу')\n"
   ]
  },
  {
   "cell_type": "markdown",
   "id": "8d9bb132",
   "metadata": {},
   "source": [
    "Проведя т-тестирование, можно сказать, что при уровне значимости в 5% альтернативную гипотезу о том, что среднее первой выборки больше чем среднее второй выборки,не стоит отвергать "
   ]
  },
  {
   "cell_type": "markdown",
   "id": "20185269",
   "metadata": {},
   "source": [
    "4) При проведении гипотезы о том, что после обновления тех. обращения пользователей снизились, выдвигаем гипотезы:\n",
    "\n",
    "    H0 - среднее кол-во обращений пользователя до обновления = среднему кол-ву обращений пользователя после него;\n",
    "    H1 - среднее кол-во обращение пользователя до обновления > среднему кол-ву обращений пользователя после него.\n",
    "    \n",
    "В данном случае t-тест проводится для двух зависимых выборок с применением метода st.ttest_rel"
   ]
  },
  {
   "cell_type": "markdown",
   "id": "e82d2442",
   "metadata": {},
   "source": [
    "По итогам проверки гипотез:\n",
    "    \n",
    "    1) Гипотеза о том, что пользователь тратит больше времени на поездки с подпиской чем без неё опровергнута в пользу альт-ернативной гипотезы.При уровне значимости в 5% мы не можем удтверждать,что пользователь с подпиской тратит такое же вре-мя на поездки как пользователь без неё.  \n",
    "    \n",
    "    2) Вторая гипотеза о том, что среднее расстояние поездки у пользователей с подпиской равно 3130 не может быть опровергн-ута, хоть и с различающимя значением самой выборки (3115 м) с урвонем значимости в 5%.\n",
    "    \n",
    "    3) Гипотеза, что пользователь с подпиской в месяц приносит выручку, равную выручке пользователя без подписки, опровергн-ута в пользу альтернативной гипотезы с уровнем значимости в 5%."
   ]
  },
  {
   "cell_type": "markdown",
   "id": "07509668",
   "metadata": {},
   "source": [
    "## Вывод\n",
    "По итогам данного исследования: \n",
    "\n",
    "1) На входе получили исходные данные, а именно три файла с информацией о пользователях, поездках, а также информацией о видах подписки. Исходные данные были без пропусков, а также имели малое кол-во дубликатов (31 в таблице с пользователями), но кол-во строк в таблицах сильно различались, что логично, на дальнейший анализ это никак не повлияло. Открыв файлы csv и изучив информацию о данных в таблицах, только в единственном столбце был некорректный тип данных, который был изменен сл. шаге.\n",
    "\n",
    "2) Далее по итогам предобратки данных, добавили столбцы с номером месяца и скорректировали тип данных в столбце date. Удалили дубликаты в таблице с информацией о пользователях.\n",
    "\n",
    "3) В ходе исследовательского анализа изучили такие переменные как: город, тип подписки, расстояние и время поездки. В целом данные хорошо распределены и нет каких то сильно выбивающихся значений и аномалий. Выяснили, что в городах, где предоставлена услуга проката самоката, примерно равное кол-во поездок, основная масса поездок это 2.5 - 3.7 км расстояния, примерно за 13 - 20 минут. Основными пользователями услуги является молодые люди от 22 до 28 лет, но есть и пользователи, чей возраст может достигать 43 лет. Также людей, предпочитающих пользоваться услугой с подпиской больше на 8.8%.\n",
    "\n",
    "4) В ходе 4-го шага объеденили все три исходных таблицы в общую и сформировали единый датафрейм с информацией о пользователях, их поездках и типах подписок, также создали два датафрейма по типу подписки. Посмотрели как ведут себя переменные расстояния и времени поездок у людей с разными типами subscription. Выяснили, что люди с подпиской обычно дольше ездят (на ~1 минуту), среднее расстояние примерно одинаковое, но поездок без подписки больше почти в два раза.\n",
    "\n",
    "5) Далее создали датафрейм с агрегорванными данными о времени и расстоянии поездок по месяцам и id пользователей. Используя информацию о подписках, подсчитали объем выручки, который приносит каждый пользователь по месяцам.\n",
    "\n",
    "6) Кульминацией данного исследования была првоерка трех гипотез:\n",
    "\n",
    "-Тратят ли пользователи с подпиской больше времени на поездки, чем без неё;\n",
    "\n",
    "-Равно ли среднее расстояние поездок у пользователей с подпиской 3130 метрам;\n",
    "\n",
    "-Пользователь с подпиской приносит больше выручки чем пользователь без подписки.\n",
    "\n",
    "Используя уровень значимости в 5%, опровергнуть не получилось лишь только гипотезу о среднем расстоянии пользователей с подпиской равному 3130 м, все остальные гипотезы были опровергнуты в пользу альтернативных. Это значит, что возможно пользователи с подпиской и в правду приносят больше выручки, а также скорее всего пользователи с подпиской тратя больше времени на поездку, чем другая группа пользователей.\n",
    "\n",
    "\n",
    "Как известно, в данных обычно часто встречаются пропуски и дубликаты, однако в нашем случае, необходимо было только скорректировать тип данных в 1 столбце и удалить 31 дубликат в 1 таблице. Также добавив 1 столбец с номером месяца, можно более детально изучить данные, сгруппировав их по месяцам. Для удобства объеденили все таблицы в 1 общую, однако есть вероятность, что при ведении такой единой базы, шанс дубликатов и пропусков увеличивается, что в последствии усложнит работу с данными. Из полезного можно создать датафрейм, с пользователями по месяцам, их общего расстояния и временем поездок для рассчета прибыли с пользователя. Однако здесь стоит учитывать, что пользователи могут оформлять подписку не в начале месяца, а допустим в середине, при этом нет информации о том, какой тип подписки будет у пользователя в месяц оформления и в следующий месяц, что может некорректно отразиться на рассчете прибыли.\n",
    "\n",
    "Таким образом, получив на входе довольно \"чистые\" и хорошо структурированные данные, мы проверили несколько гипотез, выдвинутые продакт-менеджерами, часть из которых подтвердилась."
   ]
  },
  {
   "cell_type": "markdown",
   "id": "b3a27cef",
   "metadata": {},
   "source": [
    "<div style=\"border:solid lightblue 3px; background:#f7faf8; padding: 20px\">\n",
    "<span style=\"color:darkblue\">Общий вывод по проекту v_3:</span>\n",
    "    \n",
    "Спасибо за доработанные замечания! Проект принят. В дополнение по данной [ссылке](https://allatambov.github.io/psms/pdf/hypo-test.pdf) можно ознакомиться с очень понятной краткой теорией по проверке гипотез.\n",
    "    \n",
    "Успехов в дальнейшем обучении!)"
   ]
  }
 ],
 "metadata": {
  "ExecuteTimeLog": [
   {
    "duration": 44,
    "start_time": "2024-03-20T14:15:44.925Z"
   },
   {
    "duration": 343,
    "start_time": "2024-03-20T14:15:56.024Z"
   },
   {
    "duration": 191,
    "start_time": "2024-03-20T14:15:56.965Z"
   },
   {
    "duration": 20,
    "start_time": "2024-03-20T14:16:43.626Z"
   },
   {
    "duration": 15,
    "start_time": "2024-03-20T14:16:59.979Z"
   },
   {
    "duration": 7,
    "start_time": "2024-03-20T14:17:21.263Z"
   },
   {
    "duration": 9,
    "start_time": "2024-03-20T14:17:26.173Z"
   },
   {
    "duration": 15,
    "start_time": "2024-03-20T14:17:39.082Z"
   },
   {
    "duration": 15,
    "start_time": "2024-03-20T14:18:16.671Z"
   },
   {
    "duration": 21,
    "start_time": "2024-03-20T14:19:08.359Z"
   },
   {
    "duration": 20,
    "start_time": "2024-03-20T14:19:26.635Z"
   },
   {
    "duration": 78,
    "start_time": "2024-03-20T14:19:34.380Z"
   },
   {
    "duration": 21,
    "start_time": "2024-03-20T14:19:39.904Z"
   },
   {
    "duration": 61,
    "start_time": "2024-03-20T14:25:07.188Z"
   },
   {
    "duration": 15,
    "start_time": "2024-03-20T14:25:08.406Z"
   },
   {
    "duration": 69,
    "start_time": "2024-03-20T14:29:30.830Z"
   },
   {
    "duration": 15,
    "start_time": "2024-03-20T14:31:34.559Z"
   },
   {
    "duration": 22,
    "start_time": "2024-03-20T14:31:37.866Z"
   },
   {
    "duration": 1118,
    "start_time": "2024-03-20T14:35:08.475Z"
   },
   {
    "duration": 7,
    "start_time": "2024-03-20T14:35:23.521Z"
   },
   {
    "duration": 4,
    "start_time": "2024-03-20T14:37:25.731Z"
   },
   {
    "duration": 83,
    "start_time": "2024-03-20T14:38:52.965Z"
   },
   {
    "duration": 6,
    "start_time": "2024-03-20T14:38:57.745Z"
   },
   {
    "duration": 67,
    "start_time": "2024-03-20T14:39:37.109Z"
   },
   {
    "duration": 12,
    "start_time": "2024-03-20T14:39:39.706Z"
   },
   {
    "duration": 9,
    "start_time": "2024-03-20T14:39:56.072Z"
   },
   {
    "duration": 6,
    "start_time": "2024-03-20T14:40:29.892Z"
   },
   {
    "duration": 69,
    "start_time": "2024-03-20T14:40:42.734Z"
   },
   {
    "duration": 86,
    "start_time": "2024-03-20T14:40:45.122Z"
   },
   {
    "duration": 65,
    "start_time": "2024-03-20T14:40:52.644Z"
   },
   {
    "duration": 84,
    "start_time": "2024-03-20T14:40:57.031Z"
   },
   {
    "duration": 68,
    "start_time": "2024-03-20T14:41:01.603Z"
   },
   {
    "duration": 8,
    "start_time": "2024-03-20T14:42:08.257Z"
   },
   {
    "duration": 59,
    "start_time": "2024-03-20T14:44:13.872Z"
   },
   {
    "duration": 8,
    "start_time": "2024-03-20T14:44:37.684Z"
   },
   {
    "duration": 86,
    "start_time": "2024-03-20T14:44:45.127Z"
   },
   {
    "duration": 71,
    "start_time": "2024-03-20T14:44:52.097Z"
   },
   {
    "duration": 4,
    "start_time": "2024-03-20T14:44:59.573Z"
   },
   {
    "duration": 3,
    "start_time": "2024-03-20T14:50:07.150Z"
   },
   {
    "duration": 6,
    "start_time": "2024-03-20T14:51:39.795Z"
   },
   {
    "duration": 7,
    "start_time": "2024-03-20T14:51:48.900Z"
   },
   {
    "duration": 4,
    "start_time": "2024-03-20T14:51:54.349Z"
   },
   {
    "duration": 4,
    "start_time": "2024-03-20T14:52:18.573Z"
   },
   {
    "duration": 6,
    "start_time": "2024-03-20T14:55:01.375Z"
   },
   {
    "duration": 8,
    "start_time": "2024-03-20T14:55:11.162Z"
   },
   {
    "duration": 4,
    "start_time": "2024-03-20T14:55:18.385Z"
   },
   {
    "duration": 6,
    "start_time": "2024-03-20T14:58:26.087Z"
   },
   {
    "duration": 5,
    "start_time": "2024-03-20T14:58:34.140Z"
   },
   {
    "duration": 1367,
    "start_time": "2024-03-20T14:59:02.928Z"
   },
   {
    "duration": 5,
    "start_time": "2024-03-20T14:59:18.878Z"
   },
   {
    "duration": 5,
    "start_time": "2024-03-20T14:59:42.668Z"
   },
   {
    "duration": 7,
    "start_time": "2024-03-20T14:59:47.794Z"
   },
   {
    "duration": 3,
    "start_time": "2024-03-20T15:00:16.611Z"
   },
   {
    "duration": 6,
    "start_time": "2024-03-20T15:01:03.167Z"
   },
   {
    "duration": 7,
    "start_time": "2024-03-20T15:01:07.474Z"
   },
   {
    "duration": 3,
    "start_time": "2024-03-20T15:02:36.457Z"
   },
   {
    "duration": 368,
    "start_time": "2024-03-20T15:07:18.993Z"
   },
   {
    "duration": 580,
    "start_time": "2024-03-20T15:07:27.172Z"
   },
   {
    "duration": 64,
    "start_time": "2024-03-20T15:07:27.753Z"
   },
   {
    "duration": 18,
    "start_time": "2024-03-20T15:07:27.818Z"
   },
   {
    "duration": 34,
    "start_time": "2024-03-20T15:07:27.838Z"
   },
   {
    "duration": 6,
    "start_time": "2024-03-20T15:07:27.873Z"
   },
   {
    "duration": 8,
    "start_time": "2024-03-20T15:07:27.880Z"
   },
   {
    "duration": 11,
    "start_time": "2024-03-20T15:07:27.889Z"
   },
   {
    "duration": 15,
    "start_time": "2024-03-20T15:07:27.901Z"
   },
   {
    "duration": 8,
    "start_time": "2024-03-20T15:07:27.917Z"
   },
   {
    "duration": 4,
    "start_time": "2024-03-20T15:07:27.927Z"
   },
   {
    "duration": 21,
    "start_time": "2024-03-20T15:07:27.932Z"
   },
   {
    "duration": 4,
    "start_time": "2024-03-20T15:07:27.954Z"
   },
   {
    "duration": 84,
    "start_time": "2024-03-20T15:07:27.959Z"
   },
   {
    "duration": 6,
    "start_time": "2024-03-20T15:08:41.609Z"
   },
   {
    "duration": 2,
    "start_time": "2024-03-20T15:08:47.961Z"
   },
   {
    "duration": 61,
    "start_time": "2024-03-20T15:08:48.498Z"
   },
   {
    "duration": 15,
    "start_time": "2024-03-20T15:08:48.781Z"
   },
   {
    "duration": 28,
    "start_time": "2024-03-20T15:08:49.104Z"
   },
   {
    "duration": 6,
    "start_time": "2024-03-20T15:08:49.803Z"
   },
   {
    "duration": 4,
    "start_time": "2024-03-20T15:08:50.154Z"
   },
   {
    "duration": 7,
    "start_time": "2024-03-20T15:08:50.498Z"
   },
   {
    "duration": 5,
    "start_time": "2024-03-20T15:08:50.749Z"
   },
   {
    "duration": 4,
    "start_time": "2024-03-20T15:08:51.080Z"
   },
   {
    "duration": 4,
    "start_time": "2024-03-20T15:08:51.434Z"
   },
   {
    "duration": 7,
    "start_time": "2024-03-20T15:08:51.652Z"
   },
   {
    "duration": 4,
    "start_time": "2024-03-20T15:08:51.976Z"
   },
   {
    "duration": 5,
    "start_time": "2024-03-20T15:08:53.233Z"
   },
   {
    "duration": 6,
    "start_time": "2024-03-20T15:09:24.955Z"
   },
   {
    "duration": 309,
    "start_time": "2024-03-20T15:09:46.129Z"
   },
   {
    "duration": 8,
    "start_time": "2024-03-20T15:10:00.504Z"
   },
   {
    "duration": 7,
    "start_time": "2024-03-20T15:10:08.049Z"
   },
   {
    "duration": 282,
    "start_time": "2024-03-20T15:10:36.123Z"
   },
   {
    "duration": 6,
    "start_time": "2024-03-20T15:10:54.672Z"
   },
   {
    "duration": 95,
    "start_time": "2024-03-20T15:10:56.964Z"
   },
   {
    "duration": 92,
    "start_time": "2024-03-20T15:11:14.347Z"
   },
   {
    "duration": 107,
    "start_time": "2024-03-20T15:13:22.602Z"
   },
   {
    "duration": 68,
    "start_time": "2024-03-20T15:20:32.434Z"
   },
   {
    "duration": 92,
    "start_time": "2024-03-20T15:20:43.284Z"
   },
   {
    "duration": 109,
    "start_time": "2024-03-20T15:20:50.394Z"
   },
   {
    "duration": 79,
    "start_time": "2024-03-20T15:21:16.212Z"
   },
   {
    "duration": 3,
    "start_time": "2024-03-20T15:28:46.123Z"
   },
   {
    "duration": 135,
    "start_time": "2024-03-20T15:28:49.198Z"
   },
   {
    "duration": 307,
    "start_time": "2024-03-20T15:29:01.141Z"
   },
   {
    "duration": 197,
    "start_time": "2024-03-20T15:29:05.631Z"
   },
   {
    "duration": 134,
    "start_time": "2024-03-20T15:29:12.724Z"
   },
   {
    "duration": 6,
    "start_time": "2024-03-20T15:30:11.585Z"
   },
   {
    "duration": 161,
    "start_time": "2024-03-20T15:30:59.546Z"
   },
   {
    "duration": 180,
    "start_time": "2024-03-20T15:34:08.057Z"
   },
   {
    "duration": 3,
    "start_time": "2024-03-20T15:34:13.163Z"
   },
   {
    "duration": 164,
    "start_time": "2024-03-20T15:34:17.400Z"
   },
   {
    "duration": 164,
    "start_time": "2024-03-20T15:34:23.225Z"
   },
   {
    "duration": 141,
    "start_time": "2024-03-20T15:34:35.464Z"
   },
   {
    "duration": 66,
    "start_time": "2024-03-20T15:38:04.868Z"
   },
   {
    "duration": 5,
    "start_time": "2024-03-20T15:58:09.054Z"
   },
   {
    "duration": 6,
    "start_time": "2024-03-20T15:58:12.874Z"
   },
   {
    "duration": 7,
    "start_time": "2024-03-20T16:01:32.637Z"
   },
   {
    "duration": 159,
    "start_time": "2024-03-20T16:06:21.512Z"
   },
   {
    "duration": 93,
    "start_time": "2024-03-20T16:06:56.549Z"
   },
   {
    "duration": 86,
    "start_time": "2024-03-20T16:07:29.577Z"
   },
   {
    "duration": 95,
    "start_time": "2024-03-20T16:07:38.516Z"
   },
   {
    "duration": 89,
    "start_time": "2024-03-20T16:07:57.322Z"
   },
   {
    "duration": 102,
    "start_time": "2024-03-20T16:08:00.359Z"
   },
   {
    "duration": 93,
    "start_time": "2024-03-20T16:08:28.971Z"
   },
   {
    "duration": 154,
    "start_time": "2024-03-20T16:09:28.534Z"
   },
   {
    "duration": 108,
    "start_time": "2024-03-20T16:09:47.853Z"
   },
   {
    "duration": 99,
    "start_time": "2024-03-20T16:09:52.661Z"
   },
   {
    "duration": 111,
    "start_time": "2024-03-20T16:14:50.472Z"
   },
   {
    "duration": 128,
    "start_time": "2024-03-20T16:14:54.851Z"
   },
   {
    "duration": 135,
    "start_time": "2024-03-20T16:15:00.011Z"
   },
   {
    "duration": 69,
    "start_time": "2024-03-20T16:18:59.679Z"
   },
   {
    "duration": 8,
    "start_time": "2024-03-20T16:21:40.319Z"
   },
   {
    "duration": 6,
    "start_time": "2024-03-20T16:22:01.874Z"
   },
   {
    "duration": 186,
    "start_time": "2024-03-20T16:22:41.483Z"
   },
   {
    "duration": 150,
    "start_time": "2024-03-20T16:22:59.079Z"
   },
   {
    "duration": 279,
    "start_time": "2024-03-20T16:23:04.900Z"
   },
   {
    "duration": 69,
    "start_time": "2024-03-20T16:24:06.786Z"
   },
   {
    "duration": 342,
    "start_time": "2024-03-20T16:24:18.584Z"
   },
   {
    "duration": 272,
    "start_time": "2024-03-20T16:24:27.522Z"
   },
   {
    "duration": 278,
    "start_time": "2024-03-20T16:24:59.387Z"
   },
   {
    "duration": 383,
    "start_time": "2024-03-20T16:25:21.512Z"
   },
   {
    "duration": 141,
    "start_time": "2024-03-20T16:25:54.907Z"
   },
   {
    "duration": 840,
    "start_time": "2024-03-20T19:09:36.540Z"
   },
   {
    "duration": 211,
    "start_time": "2024-03-20T19:09:37.382Z"
   },
   {
    "duration": 23,
    "start_time": "2024-03-20T19:09:37.595Z"
   },
   {
    "duration": 7,
    "start_time": "2024-03-20T19:09:37.620Z"
   },
   {
    "duration": 9,
    "start_time": "2024-03-20T19:09:37.629Z"
   },
   {
    "duration": 8,
    "start_time": "2024-03-20T19:09:37.640Z"
   },
   {
    "duration": 7,
    "start_time": "2024-03-20T19:09:37.649Z"
   },
   {
    "duration": 4,
    "start_time": "2024-03-20T19:09:37.657Z"
   },
   {
    "duration": 3,
    "start_time": "2024-03-20T19:09:37.663Z"
   },
   {
    "duration": 9,
    "start_time": "2024-03-20T19:09:37.669Z"
   },
   {
    "duration": 39,
    "start_time": "2024-03-20T19:09:37.679Z"
   },
   {
    "duration": 163,
    "start_time": "2024-03-20T19:09:37.720Z"
   },
   {
    "duration": 95,
    "start_time": "2024-03-20T19:09:37.884Z"
   },
   {
    "duration": 8,
    "start_time": "2024-03-20T19:09:37.981Z"
   },
   {
    "duration": 232,
    "start_time": "2024-03-20T19:09:37.991Z"
   },
   {
    "duration": 9,
    "start_time": "2024-03-20T19:09:38.224Z"
   },
   {
    "duration": 232,
    "start_time": "2024-03-20T19:09:38.235Z"
   },
   {
    "duration": 9,
    "start_time": "2024-03-20T19:09:38.469Z"
   },
   {
    "duration": 399,
    "start_time": "2024-03-20T19:09:38.479Z"
   },
   {
    "duration": 66,
    "start_time": "2024-03-20T19:09:38.881Z"
   },
   {
    "duration": 261,
    "start_time": "2024-03-20T19:09:58.581Z"
   },
   {
    "duration": 201,
    "start_time": "2024-03-20T19:10:03.553Z"
   },
   {
    "duration": 165,
    "start_time": "2024-03-20T19:19:41.964Z"
   },
   {
    "duration": 167,
    "start_time": "2024-03-20T19:19:51.589Z"
   },
   {
    "duration": 158,
    "start_time": "2024-03-20T19:19:57.136Z"
   },
   {
    "duration": 69,
    "start_time": "2024-03-20T19:27:56.475Z"
   },
   {
    "duration": 79,
    "start_time": "2024-03-20T19:35:01.983Z"
   },
   {
    "duration": 26,
    "start_time": "2024-03-20T19:35:21.770Z"
   },
   {
    "duration": 23,
    "start_time": "2024-03-20T19:35:25.949Z"
   },
   {
    "duration": 11,
    "start_time": "2024-03-20T19:39:36.660Z"
   },
   {
    "duration": 17,
    "start_time": "2024-03-20T19:39:50.572Z"
   },
   {
    "duration": 15,
    "start_time": "2024-03-20T19:40:03.311Z"
   },
   {
    "duration": 16,
    "start_time": "2024-03-20T19:40:10.537Z"
   },
   {
    "duration": 9,
    "start_time": "2024-03-20T19:40:16.556Z"
   },
   {
    "duration": 8,
    "start_time": "2024-03-20T19:41:08.030Z"
   },
   {
    "duration": 10,
    "start_time": "2024-03-20T19:41:21.225Z"
   },
   {
    "duration": 11,
    "start_time": "2024-03-20T19:43:17.268Z"
   },
   {
    "duration": 69,
    "start_time": "2024-03-20T19:43:31.656Z"
   },
   {
    "duration": 26,
    "start_time": "2024-03-20T19:44:06.205Z"
   },
   {
    "duration": 8,
    "start_time": "2024-03-20T19:48:23.217Z"
   },
   {
    "duration": 8,
    "start_time": "2024-03-20T19:48:51.889Z"
   },
   {
    "duration": 21,
    "start_time": "2024-03-20T19:49:22.888Z"
   },
   {
    "duration": 23,
    "start_time": "2024-03-20T19:49:43.050Z"
   },
   {
    "duration": 64,
    "start_time": "2024-03-20T19:49:48.064Z"
   },
   {
    "duration": 21,
    "start_time": "2024-03-20T19:49:53.512Z"
   },
   {
    "duration": 6,
    "start_time": "2024-03-20T19:52:35.917Z"
   },
   {
    "duration": 6,
    "start_time": "2024-03-20T19:52:37.682Z"
   },
   {
    "duration": 24,
    "start_time": "2024-03-20T19:52:38.057Z"
   },
   {
    "duration": 627,
    "start_time": "2024-03-20T19:52:57.369Z"
   },
   {
    "duration": 69,
    "start_time": "2024-03-20T19:52:57.998Z"
   },
   {
    "duration": 25,
    "start_time": "2024-03-20T19:52:58.069Z"
   },
   {
    "duration": 9,
    "start_time": "2024-03-20T19:52:58.096Z"
   },
   {
    "duration": 7,
    "start_time": "2024-03-20T19:52:58.106Z"
   },
   {
    "duration": 9,
    "start_time": "2024-03-20T19:52:58.114Z"
   },
   {
    "duration": 6,
    "start_time": "2024-03-20T19:52:58.125Z"
   },
   {
    "duration": 16,
    "start_time": "2024-03-20T19:52:58.133Z"
   },
   {
    "duration": 5,
    "start_time": "2024-03-20T19:52:58.151Z"
   },
   {
    "duration": 10,
    "start_time": "2024-03-20T19:52:58.159Z"
   },
   {
    "duration": 4,
    "start_time": "2024-03-20T19:52:58.171Z"
   },
   {
    "duration": 188,
    "start_time": "2024-03-20T19:52:58.177Z"
   },
   {
    "duration": 103,
    "start_time": "2024-03-20T19:52:58.367Z"
   },
   {
    "duration": 10,
    "start_time": "2024-03-20T19:52:58.471Z"
   },
   {
    "duration": 219,
    "start_time": "2024-03-20T19:52:58.483Z"
   },
   {
    "duration": 15,
    "start_time": "2024-03-20T19:52:58.704Z"
   },
   {
    "duration": 191,
    "start_time": "2024-03-20T19:52:58.721Z"
   },
   {
    "duration": 8,
    "start_time": "2024-03-20T19:52:58.915Z"
   },
   {
    "duration": 261,
    "start_time": "2024-03-20T19:52:58.925Z"
   },
   {
    "duration": 12,
    "start_time": "2024-03-20T19:52:59.188Z"
   },
   {
    "duration": 13,
    "start_time": "2024-03-20T19:52:59.214Z"
   },
   {
    "duration": 13,
    "start_time": "2024-03-20T19:52:59.229Z"
   },
   {
    "duration": 25,
    "start_time": "2024-03-20T19:52:59.243Z"
   },
   {
    "duration": 10,
    "start_time": "2024-03-20T19:52:59.269Z"
   },
   {
    "duration": 43,
    "start_time": "2024-03-20T19:52:59.281Z"
   },
   {
    "duration": 21,
    "start_time": "2024-03-20T19:52:59.326Z"
   },
   {
    "duration": 77,
    "start_time": "2024-03-20T19:54:30.559Z"
   },
   {
    "duration": 10,
    "start_time": "2024-03-20T19:55:52.893Z"
   },
   {
    "duration": 1680,
    "start_time": "2024-03-20T19:57:07.296Z"
   },
   {
    "duration": 251,
    "start_time": "2024-03-20T19:57:28.995Z"
   },
   {
    "duration": 249,
    "start_time": "2024-03-20T19:57:47.659Z"
   },
   {
    "duration": 283,
    "start_time": "2024-03-20T19:58:06.886Z"
   },
   {
    "duration": 276,
    "start_time": "2024-03-20T19:58:32.455Z"
   },
   {
    "duration": 71,
    "start_time": "2024-03-20T19:59:05.012Z"
   },
   {
    "duration": 9,
    "start_time": "2024-03-20T19:59:10.061Z"
   },
   {
    "duration": 357,
    "start_time": "2024-03-20T20:00:52.476Z"
   },
   {
    "duration": 237,
    "start_time": "2024-03-20T20:03:46.002Z"
   },
   {
    "duration": 231,
    "start_time": "2024-03-20T20:03:59.595Z"
   },
   {
    "duration": 65,
    "start_time": "2024-03-20T20:04:58.064Z"
   },
   {
    "duration": 207,
    "start_time": "2024-03-20T20:05:04.488Z"
   },
   {
    "duration": 14,
    "start_time": "2024-03-20T20:06:18.411Z"
   },
   {
    "duration": 3,
    "start_time": "2024-03-20T20:07:17.119Z"
   },
   {
    "duration": 231,
    "start_time": "2024-03-20T20:08:57.232Z"
   },
   {
    "duration": 235,
    "start_time": "2024-03-20T20:09:51.762Z"
   },
   {
    "duration": 224,
    "start_time": "2024-03-20T20:10:02.345Z"
   },
   {
    "duration": 7,
    "start_time": "2024-03-20T20:10:28.346Z"
   },
   {
    "duration": 263,
    "start_time": "2024-03-20T20:12:20.125Z"
   },
   {
    "duration": 9,
    "start_time": "2024-03-20T20:13:28.184Z"
   },
   {
    "duration": 1827,
    "start_time": "2024-03-20T20:14:43.948Z"
   },
   {
    "duration": 74,
    "start_time": "2024-03-20T20:14:58.883Z"
   },
   {
    "duration": 450,
    "start_time": "2024-03-20T20:15:04.716Z"
   },
   {
    "duration": 71,
    "start_time": "2024-03-20T20:16:29.729Z"
   },
   {
    "duration": 220,
    "start_time": "2024-03-20T20:16:42.676Z"
   },
   {
    "duration": 65,
    "start_time": "2024-03-20T20:28:07.138Z"
   },
   {
    "duration": 82,
    "start_time": "2024-03-20T20:32:38.708Z"
   },
   {
    "duration": 71,
    "start_time": "2024-03-20T20:42:00.756Z"
   },
   {
    "duration": 18,
    "start_time": "2024-03-20T20:49:06.354Z"
   },
   {
    "duration": 11,
    "start_time": "2024-03-20T20:49:30.303Z"
   },
   {
    "duration": 76,
    "start_time": "2024-03-20T20:50:13.547Z"
   },
   {
    "duration": 11,
    "start_time": "2024-03-20T20:50:17.216Z"
   },
   {
    "duration": 9,
    "start_time": "2024-03-20T20:50:20.750Z"
   },
   {
    "duration": 8,
    "start_time": "2024-03-20T20:50:20.939Z"
   },
   {
    "duration": 11,
    "start_time": "2024-03-20T20:50:50.550Z"
   },
   {
    "duration": 9,
    "start_time": "2024-03-20T20:50:51.276Z"
   },
   {
    "duration": 16,
    "start_time": "2024-03-20T20:51:33.286Z"
   },
   {
    "duration": 9,
    "start_time": "2024-03-20T20:51:36.642Z"
   },
   {
    "duration": 36,
    "start_time": "2024-03-20T20:52:59.767Z"
   },
   {
    "duration": 1180,
    "start_time": "2024-03-20T20:53:03.434Z"
   },
   {
    "duration": 1125,
    "start_time": "2024-03-20T20:53:20.180Z"
   },
   {
    "duration": 22,
    "start_time": "2024-03-20T20:53:25.605Z"
   },
   {
    "duration": 1112,
    "start_time": "2024-03-20T20:53:42.184Z"
   },
   {
    "duration": 22,
    "start_time": "2024-03-20T20:54:45.407Z"
   },
   {
    "duration": 13,
    "start_time": "2024-03-20T20:54:47.422Z"
   },
   {
    "duration": 21,
    "start_time": "2024-03-20T20:54:59.003Z"
   },
   {
    "duration": 7,
    "start_time": "2024-03-20T20:54:59.576Z"
   },
   {
    "duration": 24,
    "start_time": "2024-03-20T20:55:21.403Z"
   },
   {
    "duration": 15,
    "start_time": "2024-03-20T20:55:22.193Z"
   },
   {
    "duration": 10,
    "start_time": "2024-03-20T20:55:33.431Z"
   },
   {
    "duration": 9,
    "start_time": "2024-03-20T20:55:34.215Z"
   },
   {
    "duration": 14,
    "start_time": "2024-03-20T20:56:36.068Z"
   },
   {
    "duration": 7,
    "start_time": "2024-03-20T20:56:37.159Z"
   },
   {
    "duration": 16,
    "start_time": "2024-03-20T20:56:47.534Z"
   },
   {
    "duration": 9,
    "start_time": "2024-03-20T20:56:47.918Z"
   },
   {
    "duration": 22,
    "start_time": "2024-03-20T20:57:00.359Z"
   },
   {
    "duration": 15,
    "start_time": "2024-03-20T20:57:08.043Z"
   },
   {
    "duration": 8,
    "start_time": "2024-03-20T20:57:08.642Z"
   },
   {
    "duration": 7,
    "start_time": "2024-03-20T21:05:15.206Z"
   },
   {
    "duration": 7,
    "start_time": "2024-03-20T21:05:21.083Z"
   },
   {
    "duration": 28,
    "start_time": "2024-03-20T21:05:24.802Z"
   },
   {
    "duration": 1146,
    "start_time": "2024-03-20T21:05:31.098Z"
   },
   {
    "duration": 14,
    "start_time": "2024-03-20T21:06:08.176Z"
   },
   {
    "duration": 24,
    "start_time": "2024-03-20T21:07:29.467Z"
   },
   {
    "duration": 9,
    "start_time": "2024-03-20T21:07:30.287Z"
   },
   {
    "duration": 22,
    "start_time": "2024-03-20T21:07:49.332Z"
   },
   {
    "duration": 9,
    "start_time": "2024-03-20T21:07:50.414Z"
   },
   {
    "duration": 8,
    "start_time": "2024-03-20T21:11:04.561Z"
   },
   {
    "duration": 17,
    "start_time": "2024-03-20T21:11:10.479Z"
   },
   {
    "duration": 6,
    "start_time": "2024-03-20T21:11:23.457Z"
   },
   {
    "duration": 10,
    "start_time": "2024-03-20T21:11:30.288Z"
   },
   {
    "duration": 16,
    "start_time": "2024-03-20T21:11:48.023Z"
   },
   {
    "duration": 9,
    "start_time": "2024-03-20T21:11:48.665Z"
   },
   {
    "duration": 3,
    "start_time": "2024-03-20T21:14:05.599Z"
   },
   {
    "duration": 679,
    "start_time": "2024-03-20T21:14:13.535Z"
   },
   {
    "duration": 73,
    "start_time": "2024-03-20T21:14:14.216Z"
   },
   {
    "duration": 23,
    "start_time": "2024-03-20T21:14:14.291Z"
   },
   {
    "duration": 9,
    "start_time": "2024-03-20T21:14:14.316Z"
   },
   {
    "duration": 7,
    "start_time": "2024-03-20T21:14:14.327Z"
   },
   {
    "duration": 9,
    "start_time": "2024-03-20T21:14:14.335Z"
   },
   {
    "duration": 6,
    "start_time": "2024-03-20T21:14:14.345Z"
   },
   {
    "duration": 4,
    "start_time": "2024-03-20T21:14:14.353Z"
   },
   {
    "duration": 9,
    "start_time": "2024-03-20T21:14:14.359Z"
   },
   {
    "duration": 46,
    "start_time": "2024-03-20T21:14:14.369Z"
   },
   {
    "duration": 4,
    "start_time": "2024-03-20T21:14:14.417Z"
   },
   {
    "duration": 170,
    "start_time": "2024-03-20T21:14:14.422Z"
   },
   {
    "duration": 91,
    "start_time": "2024-03-20T21:14:14.594Z"
   },
   {
    "duration": 7,
    "start_time": "2024-03-20T21:14:14.688Z"
   },
   {
    "duration": 214,
    "start_time": "2024-03-20T21:14:14.697Z"
   },
   {
    "duration": 8,
    "start_time": "2024-03-20T21:14:14.914Z"
   },
   {
    "duration": 178,
    "start_time": "2024-03-20T21:14:14.924Z"
   },
   {
    "duration": 18,
    "start_time": "2024-03-20T21:14:15.104Z"
   },
   {
    "duration": 277,
    "start_time": "2024-03-20T21:14:15.124Z"
   },
   {
    "duration": 19,
    "start_time": "2024-03-20T21:14:15.402Z"
   },
   {
    "duration": 29,
    "start_time": "2024-03-20T21:14:15.422Z"
   },
   {
    "duration": 19,
    "start_time": "2024-03-20T21:14:15.453Z"
   },
   {
    "duration": 43,
    "start_time": "2024-03-20T21:14:15.473Z"
   },
   {
    "duration": 8,
    "start_time": "2024-03-20T21:14:15.518Z"
   },
   {
    "duration": 11,
    "start_time": "2024-03-20T21:14:15.528Z"
   },
   {
    "duration": 26,
    "start_time": "2024-03-20T21:14:15.541Z"
   },
   {
    "duration": 22,
    "start_time": "2024-03-20T21:14:15.568Z"
   },
   {
    "duration": 328,
    "start_time": "2024-03-20T21:14:15.592Z"
   },
   {
    "duration": 9,
    "start_time": "2024-03-20T21:14:15.922Z"
   },
   {
    "duration": 277,
    "start_time": "2024-03-20T21:14:15.933Z"
   },
   {
    "duration": 248,
    "start_time": "2024-03-20T21:14:16.212Z"
   },
   {
    "duration": 9,
    "start_time": "2024-03-20T21:14:16.461Z"
   },
   {
    "duration": 282,
    "start_time": "2024-03-20T21:14:16.471Z"
   },
   {
    "duration": 7,
    "start_time": "2024-03-20T21:14:16.755Z"
   },
   {
    "duration": 289,
    "start_time": "2024-03-20T21:14:16.764Z"
   },
   {
    "duration": 227,
    "start_time": "2024-03-20T21:14:17.055Z"
   },
   {
    "duration": 31,
    "start_time": "2024-03-20T21:14:17.284Z"
   },
   {
    "duration": 25,
    "start_time": "2024-03-20T21:14:17.316Z"
   },
   {
    "duration": 27,
    "start_time": "2024-03-20T21:14:17.342Z"
   },
   {
    "duration": 9,
    "start_time": "2024-03-20T21:14:17.370Z"
   },
   {
    "duration": 89,
    "start_time": "2024-03-20T21:14:17.382Z"
   },
   {
    "duration": 4,
    "start_time": "2024-03-20T21:14:45.089Z"
   },
   {
    "duration": 11,
    "start_time": "2024-03-20T21:14:59.981Z"
   },
   {
    "duration": 69,
    "start_time": "2024-03-20T21:18:53.062Z"
   },
   {
    "duration": 824,
    "start_time": "2024-03-20T21:19:06.666Z"
   },
   {
    "duration": 878,
    "start_time": "2024-03-20T21:20:44.381Z"
   },
   {
    "duration": 64,
    "start_time": "2024-03-20T21:21:39.918Z"
   },
   {
    "duration": 952,
    "start_time": "2024-03-20T21:21:44.144Z"
   },
   {
    "duration": 690,
    "start_time": "2024-03-20T21:21:56.897Z"
   },
   {
    "duration": 71,
    "start_time": "2024-03-20T21:21:57.589Z"
   },
   {
    "duration": 22,
    "start_time": "2024-03-20T21:21:57.661Z"
   },
   {
    "duration": 8,
    "start_time": "2024-03-20T21:21:57.685Z"
   },
   {
    "duration": 6,
    "start_time": "2024-03-20T21:21:57.694Z"
   },
   {
    "duration": 15,
    "start_time": "2024-03-20T21:21:57.702Z"
   },
   {
    "duration": 9,
    "start_time": "2024-03-20T21:21:57.719Z"
   },
   {
    "duration": 4,
    "start_time": "2024-03-20T21:21:57.730Z"
   },
   {
    "duration": 20,
    "start_time": "2024-03-20T21:21:57.735Z"
   },
   {
    "duration": 15,
    "start_time": "2024-03-20T21:21:57.758Z"
   },
   {
    "duration": 5,
    "start_time": "2024-03-20T21:21:57.774Z"
   },
   {
    "duration": 159,
    "start_time": "2024-03-20T21:21:57.781Z"
   },
   {
    "duration": 101,
    "start_time": "2024-03-20T21:21:57.941Z"
   },
   {
    "duration": 8,
    "start_time": "2024-03-20T21:21:58.043Z"
   },
   {
    "duration": 221,
    "start_time": "2024-03-20T21:21:58.053Z"
   },
   {
    "duration": 9,
    "start_time": "2024-03-20T21:21:58.275Z"
   },
   {
    "duration": 189,
    "start_time": "2024-03-20T21:21:58.286Z"
   },
   {
    "duration": 9,
    "start_time": "2024-03-20T21:21:58.476Z"
   },
   {
    "duration": 264,
    "start_time": "2024-03-20T21:21:58.487Z"
   },
   {
    "duration": 10,
    "start_time": "2024-03-20T21:21:58.752Z"
   },
   {
    "duration": 10,
    "start_time": "2024-03-20T21:21:58.764Z"
   },
   {
    "duration": 10,
    "start_time": "2024-03-20T21:21:58.776Z"
   },
   {
    "duration": 48,
    "start_time": "2024-03-20T21:21:58.788Z"
   },
   {
    "duration": 9,
    "start_time": "2024-03-20T21:21:58.838Z"
   },
   {
    "duration": 9,
    "start_time": "2024-03-20T21:21:58.848Z"
   },
   {
    "duration": 47,
    "start_time": "2024-03-20T21:21:58.858Z"
   },
   {
    "duration": 15,
    "start_time": "2024-03-20T21:21:58.907Z"
   },
   {
    "duration": 307,
    "start_time": "2024-03-20T21:21:58.926Z"
   },
   {
    "duration": 9,
    "start_time": "2024-03-20T21:21:59.235Z"
   },
   {
    "duration": 285,
    "start_time": "2024-03-20T21:21:59.246Z"
   },
   {
    "duration": 265,
    "start_time": "2024-03-20T21:21:59.533Z"
   },
   {
    "duration": 17,
    "start_time": "2024-03-20T21:21:59.800Z"
   },
   {
    "duration": 285,
    "start_time": "2024-03-20T21:21:59.819Z"
   },
   {
    "duration": 15,
    "start_time": "2024-03-20T21:22:00.106Z"
   },
   {
    "duration": 326,
    "start_time": "2024-03-20T21:22:00.123Z"
   },
   {
    "duration": 232,
    "start_time": "2024-03-20T21:22:00.451Z"
   },
   {
    "duration": 33,
    "start_time": "2024-03-20T21:22:00.684Z"
   },
   {
    "duration": 44,
    "start_time": "2024-03-20T21:22:00.719Z"
   },
   {
    "duration": 81,
    "start_time": "2024-03-20T21:22:00.764Z"
   },
   {
    "duration": 58,
    "start_time": "2024-03-20T21:22:00.846Z"
   },
   {
    "duration": 61,
    "start_time": "2024-03-20T21:22:00.906Z"
   },
   {
    "duration": 1038,
    "start_time": "2024-03-20T21:22:00.969Z"
   },
   {
    "duration": 138,
    "start_time": "2024-03-20T21:22:37.553Z"
   },
   {
    "duration": 17,
    "start_time": "2024-03-20T21:23:07.226Z"
   },
   {
    "duration": 13,
    "start_time": "2024-03-20T21:23:32.151Z"
   },
   {
    "duration": 26,
    "start_time": "2024-03-20T21:24:05.518Z"
   },
   {
    "duration": 12,
    "start_time": "2024-03-20T21:24:17.208Z"
   },
   {
    "duration": 88,
    "start_time": "2024-03-20T21:26:58.676Z"
   },
   {
    "duration": 4,
    "start_time": "2024-03-20T21:31:41.232Z"
   },
   {
    "duration": 501,
    "start_time": "2024-03-20T21:35:47.756Z"
   },
   {
    "duration": 1084,
    "start_time": "2024-03-20T21:36:04.021Z"
   },
   {
    "duration": 70,
    "start_time": "2024-03-20T21:36:05.107Z"
   },
   {
    "duration": 22,
    "start_time": "2024-03-20T21:36:05.179Z"
   },
   {
    "duration": 8,
    "start_time": "2024-03-20T21:36:05.202Z"
   },
   {
    "duration": 10,
    "start_time": "2024-03-20T21:36:05.212Z"
   },
   {
    "duration": 8,
    "start_time": "2024-03-20T21:36:05.224Z"
   },
   {
    "duration": 6,
    "start_time": "2024-03-20T21:36:05.233Z"
   },
   {
    "duration": 7,
    "start_time": "2024-03-20T21:36:05.241Z"
   },
   {
    "duration": 16,
    "start_time": "2024-03-20T21:36:05.249Z"
   },
   {
    "duration": 10,
    "start_time": "2024-03-20T21:36:05.266Z"
   },
   {
    "duration": 16,
    "start_time": "2024-03-20T21:36:05.277Z"
   },
   {
    "duration": 154,
    "start_time": "2024-03-20T21:36:05.295Z"
   },
   {
    "duration": 100,
    "start_time": "2024-03-20T21:36:05.451Z"
   },
   {
    "duration": 8,
    "start_time": "2024-03-20T21:36:05.554Z"
   },
   {
    "duration": 200,
    "start_time": "2024-03-20T21:36:05.563Z"
   },
   {
    "duration": 8,
    "start_time": "2024-03-20T21:36:05.765Z"
   },
   {
    "duration": 184,
    "start_time": "2024-03-20T21:36:05.776Z"
   },
   {
    "duration": 10,
    "start_time": "2024-03-20T21:36:05.962Z"
   },
   {
    "duration": 233,
    "start_time": "2024-03-20T21:36:05.974Z"
   },
   {
    "duration": 12,
    "start_time": "2024-03-20T21:36:06.214Z"
   },
   {
    "duration": 10,
    "start_time": "2024-03-20T21:36:06.227Z"
   },
   {
    "duration": 25,
    "start_time": "2024-03-20T21:36:06.239Z"
   },
   {
    "duration": 27,
    "start_time": "2024-03-20T21:36:06.266Z"
   },
   {
    "duration": 9,
    "start_time": "2024-03-20T21:36:06.314Z"
   },
   {
    "duration": 20,
    "start_time": "2024-03-20T21:36:06.325Z"
   },
   {
    "duration": 28,
    "start_time": "2024-03-20T21:36:06.347Z"
   },
   {
    "duration": 9,
    "start_time": "2024-03-20T21:36:06.376Z"
   },
   {
    "duration": 276,
    "start_time": "2024-03-20T21:36:06.387Z"
   },
   {
    "duration": 9,
    "start_time": "2024-03-20T21:36:06.665Z"
   },
   {
    "duration": 285,
    "start_time": "2024-03-20T21:36:06.676Z"
   },
   {
    "duration": 310,
    "start_time": "2024-03-20T21:36:06.963Z"
   },
   {
    "duration": 8,
    "start_time": "2024-03-20T21:36:07.275Z"
   },
   {
    "duration": 283,
    "start_time": "2024-03-20T21:36:07.285Z"
   },
   {
    "duration": 8,
    "start_time": "2024-03-20T21:36:07.570Z"
   },
   {
    "duration": 294,
    "start_time": "2024-03-20T21:36:07.580Z"
   },
   {
    "duration": 225,
    "start_time": "2024-03-20T21:36:07.876Z"
   },
   {
    "duration": 31,
    "start_time": "2024-03-20T21:36:08.103Z"
   },
   {
    "duration": 8,
    "start_time": "2024-03-20T21:36:08.136Z"
   },
   {
    "duration": 17,
    "start_time": "2024-03-20T21:36:08.146Z"
   },
   {
    "duration": 3,
    "start_time": "2024-03-20T21:36:08.165Z"
   },
   {
    "duration": 27,
    "start_time": "2024-03-20T21:36:08.173Z"
   },
   {
    "duration": 141,
    "start_time": "2024-03-20T21:36:08.201Z"
   },
   {
    "duration": 11,
    "start_time": "2024-03-20T21:36:08.343Z"
   },
   {
    "duration": 3,
    "start_time": "2024-03-20T21:37:28.337Z"
   },
   {
    "duration": 7,
    "start_time": "2024-03-20T21:42:58.840Z"
   },
   {
    "duration": 8,
    "start_time": "2024-03-20T21:44:20.047Z"
   },
   {
    "duration": 7,
    "start_time": "2024-03-20T21:44:24.768Z"
   },
   {
    "duration": 7,
    "start_time": "2024-03-20T21:44:48.335Z"
   },
   {
    "duration": 4,
    "start_time": "2024-03-20T22:37:03.689Z"
   },
   {
    "duration": 65,
    "start_time": "2024-03-20T22:41:07.713Z"
   },
   {
    "duration": 37,
    "start_time": "2024-03-20T22:41:11.975Z"
   },
   {
    "duration": 4,
    "start_time": "2024-03-20T22:41:27.089Z"
   },
   {
    "duration": 7,
    "start_time": "2024-03-20T22:42:21.905Z"
   },
   {
    "duration": 114,
    "start_time": "2024-03-20T22:44:47.825Z"
   },
   {
    "duration": 6,
    "start_time": "2024-03-20T22:45:04.556Z"
   },
   {
    "duration": 68,
    "start_time": "2024-03-20T22:47:48.535Z"
   },
   {
    "duration": 90,
    "start_time": "2024-03-20T22:51:04.142Z"
   },
   {
    "duration": 7,
    "start_time": "2024-03-20T22:53:37.510Z"
   },
   {
    "duration": 4,
    "start_time": "2024-03-20T22:53:41.393Z"
   },
   {
    "duration": 7,
    "start_time": "2024-03-20T22:57:46.822Z"
   },
   {
    "duration": 7,
    "start_time": "2024-03-20T22:58:44.974Z"
   },
   {
    "duration": 8,
    "start_time": "2024-03-20T23:00:25.014Z"
   },
   {
    "duration": 16,
    "start_time": "2024-03-20T23:03:19.000Z"
   },
   {
    "duration": 11,
    "start_time": "2024-03-20T23:03:22.822Z"
   },
   {
    "duration": 74,
    "start_time": "2024-03-20T23:06:57.710Z"
   },
   {
    "duration": 4,
    "start_time": "2024-03-20T23:10:20.659Z"
   },
   {
    "duration": 7,
    "start_time": "2024-03-20T23:12:26.130Z"
   },
   {
    "duration": 6,
    "start_time": "2024-03-20T23:12:26.670Z"
   },
   {
    "duration": 11,
    "start_time": "2024-03-20T23:12:27.147Z"
   },
   {
    "duration": 11,
    "start_time": "2024-03-20T23:14:20.924Z"
   },
   {
    "duration": 1127,
    "start_time": "2024-03-20T23:14:28.252Z"
   },
   {
    "duration": 72,
    "start_time": "2024-03-20T23:14:29.381Z"
   },
   {
    "duration": 23,
    "start_time": "2024-03-20T23:14:29.454Z"
   },
   {
    "duration": 8,
    "start_time": "2024-03-20T23:14:29.478Z"
   },
   {
    "duration": 7,
    "start_time": "2024-03-20T23:14:29.488Z"
   },
   {
    "duration": 9,
    "start_time": "2024-03-20T23:14:29.496Z"
   },
   {
    "duration": 12,
    "start_time": "2024-03-20T23:14:29.506Z"
   },
   {
    "duration": 10,
    "start_time": "2024-03-20T23:14:29.519Z"
   },
   {
    "duration": 4,
    "start_time": "2024-03-20T23:14:29.531Z"
   },
   {
    "duration": 12,
    "start_time": "2024-03-20T23:14:29.536Z"
   },
   {
    "duration": 4,
    "start_time": "2024-03-20T23:14:29.549Z"
   },
   {
    "duration": 174,
    "start_time": "2024-03-20T23:14:29.555Z"
   },
   {
    "duration": 97,
    "start_time": "2024-03-20T23:14:29.731Z"
   },
   {
    "duration": 8,
    "start_time": "2024-03-20T23:14:29.832Z"
   },
   {
    "duration": 200,
    "start_time": "2024-03-20T23:14:29.841Z"
   },
   {
    "duration": 9,
    "start_time": "2024-03-20T23:14:30.043Z"
   },
   {
    "duration": 187,
    "start_time": "2024-03-20T23:14:30.054Z"
   },
   {
    "duration": 9,
    "start_time": "2024-03-20T23:14:30.243Z"
   },
   {
    "duration": 240,
    "start_time": "2024-03-20T23:14:30.254Z"
   },
   {
    "duration": 10,
    "start_time": "2024-03-20T23:14:30.496Z"
   },
   {
    "duration": 66,
    "start_time": "2024-03-20T23:14:30.514Z"
   },
   {
    "duration": 92,
    "start_time": "2024-03-20T23:14:30.582Z"
   },
   {
    "duration": 72,
    "start_time": "2024-03-20T23:14:30.675Z"
   },
   {
    "duration": 46,
    "start_time": "2024-03-20T23:14:30.749Z"
   },
   {
    "duration": 32,
    "start_time": "2024-03-20T23:14:30.797Z"
   },
   {
    "duration": 70,
    "start_time": "2024-03-20T23:14:30.830Z"
   },
   {
    "duration": 34,
    "start_time": "2024-03-20T23:14:30.902Z"
   },
   {
    "duration": 315,
    "start_time": "2024-03-20T23:14:30.938Z"
   },
   {
    "duration": 8,
    "start_time": "2024-03-20T23:14:31.255Z"
   },
   {
    "duration": 358,
    "start_time": "2024-03-20T23:14:31.264Z"
   },
   {
    "duration": 310,
    "start_time": "2024-03-20T23:14:31.624Z"
   },
   {
    "duration": 8,
    "start_time": "2024-03-20T23:14:31.936Z"
   },
   {
    "duration": 273,
    "start_time": "2024-03-20T23:14:31.945Z"
   },
   {
    "duration": 8,
    "start_time": "2024-03-20T23:14:32.219Z"
   },
   {
    "duration": 279,
    "start_time": "2024-03-20T23:14:32.229Z"
   },
   {
    "duration": 223,
    "start_time": "2024-03-20T23:14:32.514Z"
   },
   {
    "duration": 24,
    "start_time": "2024-03-20T23:14:32.739Z"
   },
   {
    "duration": 10,
    "start_time": "2024-03-20T23:14:32.764Z"
   },
   {
    "duration": 40,
    "start_time": "2024-03-20T23:14:32.775Z"
   },
   {
    "duration": 4,
    "start_time": "2024-03-20T23:14:32.816Z"
   },
   {
    "duration": 13,
    "start_time": "2024-03-20T23:14:32.824Z"
   },
   {
    "duration": 154,
    "start_time": "2024-03-20T23:14:32.838Z"
   },
   {
    "duration": 12,
    "start_time": "2024-03-20T23:14:32.994Z"
   },
   {
    "duration": 6,
    "start_time": "2024-03-20T23:14:33.015Z"
   },
   {
    "duration": 107,
    "start_time": "2024-03-20T23:14:33.023Z"
   },
   {
    "duration": 0,
    "start_time": "2024-03-20T23:14:33.131Z"
   },
   {
    "duration": 0,
    "start_time": "2024-03-20T23:14:33.132Z"
   },
   {
    "duration": 11,
    "start_time": "2024-03-20T23:14:49.391Z"
   },
   {
    "duration": 6,
    "start_time": "2024-03-20T23:14:54.214Z"
   },
   {
    "duration": 1187,
    "start_time": "2024-03-20T23:15:05.328Z"
   },
   {
    "duration": 75,
    "start_time": "2024-03-20T23:15:06.516Z"
   },
   {
    "duration": 24,
    "start_time": "2024-03-20T23:15:06.592Z"
   },
   {
    "duration": 9,
    "start_time": "2024-03-20T23:15:06.618Z"
   },
   {
    "duration": 6,
    "start_time": "2024-03-20T23:15:06.630Z"
   },
   {
    "duration": 16,
    "start_time": "2024-03-20T23:15:06.637Z"
   },
   {
    "duration": 7,
    "start_time": "2024-03-20T23:15:06.654Z"
   },
   {
    "duration": 5,
    "start_time": "2024-03-20T23:15:06.663Z"
   },
   {
    "duration": 4,
    "start_time": "2024-03-20T23:15:06.670Z"
   },
   {
    "duration": 40,
    "start_time": "2024-03-20T23:15:06.675Z"
   },
   {
    "duration": 15,
    "start_time": "2024-03-20T23:15:06.717Z"
   },
   {
    "duration": 162,
    "start_time": "2024-03-20T23:15:06.734Z"
   },
   {
    "duration": 93,
    "start_time": "2024-03-20T23:15:06.898Z"
   },
   {
    "duration": 20,
    "start_time": "2024-03-20T23:15:06.995Z"
   },
   {
    "duration": 194,
    "start_time": "2024-03-20T23:15:07.017Z"
   },
   {
    "duration": 9,
    "start_time": "2024-03-20T23:15:07.214Z"
   },
   {
    "duration": 179,
    "start_time": "2024-03-20T23:15:07.225Z"
   },
   {
    "duration": 14,
    "start_time": "2024-03-20T23:15:07.406Z"
   },
   {
    "duration": 212,
    "start_time": "2024-03-20T23:15:07.422Z"
   },
   {
    "duration": 11,
    "start_time": "2024-03-20T23:15:07.636Z"
   },
   {
    "duration": 16,
    "start_time": "2024-03-20T23:15:07.649Z"
   },
   {
    "duration": 11,
    "start_time": "2024-03-20T23:15:07.667Z"
   },
   {
    "duration": 48,
    "start_time": "2024-03-20T23:15:07.679Z"
   },
   {
    "duration": 10,
    "start_time": "2024-03-20T23:15:07.729Z"
   },
   {
    "duration": 7,
    "start_time": "2024-03-20T23:15:07.741Z"
   },
   {
    "duration": 46,
    "start_time": "2024-03-20T23:15:07.750Z"
   },
   {
    "duration": 17,
    "start_time": "2024-03-20T23:15:07.798Z"
   },
   {
    "duration": 302,
    "start_time": "2024-03-20T23:15:07.816Z"
   },
   {
    "duration": 10,
    "start_time": "2024-03-20T23:15:08.121Z"
   },
   {
    "duration": 279,
    "start_time": "2024-03-20T23:15:08.133Z"
   },
   {
    "duration": 295,
    "start_time": "2024-03-20T23:15:08.415Z"
   },
   {
    "duration": 8,
    "start_time": "2024-03-20T23:15:08.714Z"
   },
   {
    "duration": 278,
    "start_time": "2024-03-20T23:15:08.723Z"
   },
   {
    "duration": 13,
    "start_time": "2024-03-20T23:15:09.002Z"
   },
   {
    "duration": 290,
    "start_time": "2024-03-20T23:15:09.017Z"
   },
   {
    "duration": 224,
    "start_time": "2024-03-20T23:15:09.308Z"
   },
   {
    "duration": 22,
    "start_time": "2024-03-20T23:15:09.534Z"
   },
   {
    "duration": 9,
    "start_time": "2024-03-20T23:15:09.558Z"
   },
   {
    "duration": 15,
    "start_time": "2024-03-20T23:15:09.568Z"
   },
   {
    "duration": 3,
    "start_time": "2024-03-20T23:15:09.585Z"
   },
   {
    "duration": 9,
    "start_time": "2024-03-20T23:15:09.614Z"
   },
   {
    "duration": 136,
    "start_time": "2024-03-20T23:15:09.625Z"
   },
   {
    "duration": 11,
    "start_time": "2024-03-20T23:15:09.762Z"
   },
   {
    "duration": 7,
    "start_time": "2024-03-20T23:15:09.775Z"
   },
   {
    "duration": 8,
    "start_time": "2024-03-20T23:15:09.784Z"
   },
   {
    "duration": 26,
    "start_time": "2024-03-20T23:15:09.793Z"
   },
   {
    "duration": 79,
    "start_time": "2024-03-20T23:15:09.821Z"
   },
   {
    "duration": 65,
    "start_time": "2024-03-20T23:17:47.791Z"
   },
   {
    "duration": 2,
    "start_time": "2024-03-20T23:23:51.626Z"
   },
   {
    "duration": 1175,
    "start_time": "2024-03-21T20:27:45.081Z"
   },
   {
    "duration": 72,
    "start_time": "2024-03-21T20:27:46.258Z"
   },
   {
    "duration": 22,
    "start_time": "2024-03-21T20:27:46.332Z"
   },
   {
    "duration": 27,
    "start_time": "2024-03-21T20:27:46.355Z"
   },
   {
    "duration": 13,
    "start_time": "2024-03-21T20:27:46.384Z"
   },
   {
    "duration": 10,
    "start_time": "2024-03-21T20:27:46.398Z"
   },
   {
    "duration": 23,
    "start_time": "2024-03-21T20:27:46.410Z"
   },
   {
    "duration": 14,
    "start_time": "2024-03-21T20:27:46.435Z"
   },
   {
    "duration": 7,
    "start_time": "2024-03-21T20:27:46.451Z"
   },
   {
    "duration": 31,
    "start_time": "2024-03-21T20:27:46.460Z"
   },
   {
    "duration": 14,
    "start_time": "2024-03-21T20:27:46.493Z"
   },
   {
    "duration": 12,
    "start_time": "2024-03-21T20:27:46.509Z"
   },
   {
    "duration": 170,
    "start_time": "2024-03-21T20:27:46.523Z"
   },
   {
    "duration": 102,
    "start_time": "2024-03-21T20:27:46.696Z"
   },
   {
    "duration": 8,
    "start_time": "2024-03-21T20:27:46.800Z"
   },
   {
    "duration": 203,
    "start_time": "2024-03-21T20:27:46.809Z"
   },
   {
    "duration": 8,
    "start_time": "2024-03-21T20:27:47.015Z"
   },
   {
    "duration": 181,
    "start_time": "2024-03-21T20:27:47.025Z"
   },
   {
    "duration": 8,
    "start_time": "2024-03-21T20:27:47.208Z"
   },
   {
    "duration": 206,
    "start_time": "2024-03-21T20:27:47.217Z"
   },
   {
    "duration": 9,
    "start_time": "2024-03-21T20:27:47.425Z"
   },
   {
    "duration": 11,
    "start_time": "2024-03-21T20:27:47.436Z"
   },
   {
    "duration": 25,
    "start_time": "2024-03-21T20:27:47.448Z"
   },
   {
    "duration": 26,
    "start_time": "2024-03-21T20:27:47.475Z"
   },
   {
    "duration": 8,
    "start_time": "2024-03-21T20:27:47.503Z"
   },
   {
    "duration": 6,
    "start_time": "2024-03-21T20:27:47.513Z"
   },
   {
    "duration": 42,
    "start_time": "2024-03-21T20:27:47.520Z"
   },
   {
    "duration": 16,
    "start_time": "2024-03-21T20:27:47.563Z"
   },
   {
    "duration": 286,
    "start_time": "2024-03-21T20:27:47.581Z"
   },
   {
    "duration": 8,
    "start_time": "2024-03-21T20:27:47.873Z"
   },
   {
    "duration": 308,
    "start_time": "2024-03-21T20:27:47.882Z"
   },
   {
    "duration": 312,
    "start_time": "2024-03-21T20:27:48.191Z"
   },
   {
    "duration": 8,
    "start_time": "2024-03-21T20:27:48.505Z"
   },
   {
    "duration": 281,
    "start_time": "2024-03-21T20:27:48.514Z"
   },
   {
    "duration": 8,
    "start_time": "2024-03-21T20:27:48.797Z"
   },
   {
    "duration": 287,
    "start_time": "2024-03-21T20:27:48.807Z"
   },
   {
    "duration": 236,
    "start_time": "2024-03-21T20:27:49.096Z"
   },
   {
    "duration": 22,
    "start_time": "2024-03-21T20:27:49.334Z"
   },
   {
    "duration": 23,
    "start_time": "2024-03-21T20:27:49.357Z"
   },
   {
    "duration": 21,
    "start_time": "2024-03-21T20:27:49.381Z"
   },
   {
    "duration": 3,
    "start_time": "2024-03-21T20:27:49.406Z"
   },
   {
    "duration": 15,
    "start_time": "2024-03-21T20:27:49.411Z"
   },
   {
    "duration": 150,
    "start_time": "2024-03-21T20:27:49.428Z"
   },
   {
    "duration": 12,
    "start_time": "2024-03-21T20:27:49.580Z"
   },
   {
    "duration": 24,
    "start_time": "2024-03-21T20:27:49.594Z"
   },
   {
    "duration": 26,
    "start_time": "2024-03-21T20:27:49.620Z"
   },
   {
    "duration": 11,
    "start_time": "2024-03-21T20:27:49.648Z"
   },
   {
    "duration": 304,
    "start_time": "2024-03-21T20:49:00.561Z"
   },
   {
    "duration": 189,
    "start_time": "2024-03-21T20:49:03.337Z"
   },
   {
    "duration": 11,
    "start_time": "2024-03-21T20:54:29.600Z"
   },
   {
    "duration": 1203,
    "start_time": "2024-03-21T21:02:55.449Z"
   },
   {
    "duration": 89,
    "start_time": "2024-03-21T21:02:56.654Z"
   },
   {
    "duration": 24,
    "start_time": "2024-03-21T21:02:56.745Z"
   },
   {
    "duration": 35,
    "start_time": "2024-03-21T21:02:56.770Z"
   },
   {
    "duration": 7,
    "start_time": "2024-03-21T21:02:56.807Z"
   },
   {
    "duration": 24,
    "start_time": "2024-03-21T21:02:56.816Z"
   },
   {
    "duration": 11,
    "start_time": "2024-03-21T21:02:56.841Z"
   },
   {
    "duration": 5,
    "start_time": "2024-03-21T21:02:56.853Z"
   },
   {
    "duration": 8,
    "start_time": "2024-03-21T21:02:56.860Z"
   },
   {
    "duration": 12,
    "start_time": "2024-03-21T21:02:56.869Z"
   },
   {
    "duration": 15,
    "start_time": "2024-03-21T21:02:56.883Z"
   },
   {
    "duration": 4,
    "start_time": "2024-03-21T21:02:56.899Z"
   },
   {
    "duration": 186,
    "start_time": "2024-03-21T21:02:56.905Z"
   },
   {
    "duration": 107,
    "start_time": "2024-03-21T21:02:57.094Z"
   },
   {
    "duration": 8,
    "start_time": "2024-03-21T21:02:57.203Z"
   },
   {
    "duration": 209,
    "start_time": "2024-03-21T21:02:57.212Z"
   },
   {
    "duration": 8,
    "start_time": "2024-03-21T21:02:57.422Z"
   },
   {
    "duration": 190,
    "start_time": "2024-03-21T21:02:57.432Z"
   },
   {
    "duration": 8,
    "start_time": "2024-03-21T21:02:57.624Z"
   },
   {
    "duration": 219,
    "start_time": "2024-03-21T21:02:57.633Z"
   },
   {
    "duration": 9,
    "start_time": "2024-03-21T21:02:57.854Z"
   },
   {
    "duration": 9,
    "start_time": "2024-03-21T21:02:57.884Z"
   },
   {
    "duration": 10,
    "start_time": "2024-03-21T21:02:57.895Z"
   },
   {
    "duration": 26,
    "start_time": "2024-03-21T21:02:57.906Z"
   },
   {
    "duration": 9,
    "start_time": "2024-03-21T21:02:57.933Z"
   },
   {
    "duration": 6,
    "start_time": "2024-03-21T21:02:57.943Z"
   },
   {
    "duration": 46,
    "start_time": "2024-03-21T21:02:57.951Z"
   },
   {
    "duration": 8,
    "start_time": "2024-03-21T21:02:57.998Z"
   },
   {
    "duration": 313,
    "start_time": "2024-03-21T21:02:58.007Z"
   },
   {
    "duration": 8,
    "start_time": "2024-03-21T21:02:58.322Z"
   },
   {
    "duration": 283,
    "start_time": "2024-03-21T21:02:58.331Z"
   },
   {
    "duration": 322,
    "start_time": "2024-03-21T21:02:58.616Z"
   },
   {
    "duration": 9,
    "start_time": "2024-03-21T21:02:58.940Z"
   },
   {
    "duration": 295,
    "start_time": "2024-03-21T21:02:58.950Z"
   },
   {
    "duration": 9,
    "start_time": "2024-03-21T21:02:59.247Z"
   },
   {
    "duration": 310,
    "start_time": "2024-03-21T21:02:59.257Z"
   },
   {
    "duration": 242,
    "start_time": "2024-03-21T21:02:59.574Z"
   },
   {
    "duration": 22,
    "start_time": "2024-03-21T21:02:59.818Z"
   },
   {
    "duration": 9,
    "start_time": "2024-03-21T21:02:59.841Z"
   },
   {
    "duration": 37,
    "start_time": "2024-03-21T21:02:59.851Z"
   },
   {
    "duration": 4,
    "start_time": "2024-03-21T21:02:59.892Z"
   },
   {
    "duration": 13,
    "start_time": "2024-03-21T21:02:59.897Z"
   },
   {
    "duration": 161,
    "start_time": "2024-03-21T21:02:59.911Z"
   },
   {
    "duration": 16,
    "start_time": "2024-03-21T21:03:00.077Z"
   },
   {
    "duration": 28,
    "start_time": "2024-03-21T21:03:00.094Z"
   },
   {
    "duration": 50,
    "start_time": "2024-03-21T21:03:00.124Z"
   },
   {
    "duration": 68,
    "start_time": "2024-03-21T21:03:00.176Z"
   },
   {
    "duration": 76,
    "start_time": "2024-03-22T15:21:49.144Z"
   },
   {
    "duration": 1267,
    "start_time": "2024-03-22T15:21:58.755Z"
   },
   {
    "duration": 105,
    "start_time": "2024-03-22T15:22:00.024Z"
   },
   {
    "duration": 0,
    "start_time": "2024-03-22T15:22:00.133Z"
   },
   {
    "duration": 0,
    "start_time": "2024-03-22T15:22:00.135Z"
   },
   {
    "duration": 0,
    "start_time": "2024-03-22T15:22:00.136Z"
   },
   {
    "duration": 0,
    "start_time": "2024-03-22T15:22:00.137Z"
   },
   {
    "duration": 0,
    "start_time": "2024-03-22T15:22:00.139Z"
   },
   {
    "duration": 0,
    "start_time": "2024-03-22T15:22:00.140Z"
   },
   {
    "duration": 0,
    "start_time": "2024-03-22T15:22:00.141Z"
   },
   {
    "duration": 0,
    "start_time": "2024-03-22T15:22:00.143Z"
   },
   {
    "duration": 0,
    "start_time": "2024-03-22T15:22:00.145Z"
   },
   {
    "duration": 0,
    "start_time": "2024-03-22T15:22:00.146Z"
   },
   {
    "duration": 0,
    "start_time": "2024-03-22T15:22:00.148Z"
   },
   {
    "duration": 0,
    "start_time": "2024-03-22T15:22:00.150Z"
   },
   {
    "duration": 0,
    "start_time": "2024-03-22T15:22:00.152Z"
   },
   {
    "duration": 0,
    "start_time": "2024-03-22T15:22:00.154Z"
   },
   {
    "duration": 0,
    "start_time": "2024-03-22T15:22:00.155Z"
   },
   {
    "duration": 0,
    "start_time": "2024-03-22T15:22:00.156Z"
   },
   {
    "duration": 0,
    "start_time": "2024-03-22T15:22:00.157Z"
   },
   {
    "duration": 0,
    "start_time": "2024-03-22T15:22:00.158Z"
   },
   {
    "duration": 0,
    "start_time": "2024-03-22T15:22:00.159Z"
   },
   {
    "duration": 0,
    "start_time": "2024-03-22T15:22:00.162Z"
   },
   {
    "duration": 0,
    "start_time": "2024-03-22T15:22:00.163Z"
   },
   {
    "duration": 0,
    "start_time": "2024-03-22T15:22:00.164Z"
   },
   {
    "duration": 0,
    "start_time": "2024-03-22T15:22:00.165Z"
   },
   {
    "duration": 0,
    "start_time": "2024-03-22T15:22:00.215Z"
   },
   {
    "duration": 0,
    "start_time": "2024-03-22T15:22:00.216Z"
   },
   {
    "duration": 0,
    "start_time": "2024-03-22T15:22:00.217Z"
   },
   {
    "duration": 0,
    "start_time": "2024-03-22T15:22:00.218Z"
   },
   {
    "duration": 0,
    "start_time": "2024-03-22T15:22:00.218Z"
   },
   {
    "duration": 0,
    "start_time": "2024-03-22T15:22:00.219Z"
   },
   {
    "duration": 0,
    "start_time": "2024-03-22T15:22:00.220Z"
   },
   {
    "duration": 0,
    "start_time": "2024-03-22T15:22:00.221Z"
   },
   {
    "duration": 0,
    "start_time": "2024-03-22T15:22:00.222Z"
   },
   {
    "duration": 0,
    "start_time": "2024-03-22T15:22:00.223Z"
   },
   {
    "duration": 0,
    "start_time": "2024-03-22T15:22:00.224Z"
   },
   {
    "duration": 0,
    "start_time": "2024-03-22T15:22:00.225Z"
   },
   {
    "duration": 0,
    "start_time": "2024-03-22T15:22:00.226Z"
   },
   {
    "duration": 0,
    "start_time": "2024-03-22T15:22:00.227Z"
   },
   {
    "duration": 0,
    "start_time": "2024-03-22T15:22:00.228Z"
   },
   {
    "duration": 0,
    "start_time": "2024-03-22T15:22:00.229Z"
   },
   {
    "duration": 0,
    "start_time": "2024-03-22T15:22:00.229Z"
   },
   {
    "duration": 0,
    "start_time": "2024-03-22T15:22:00.231Z"
   },
   {
    "duration": 0,
    "start_time": "2024-03-22T15:22:00.232Z"
   },
   {
    "duration": 0,
    "start_time": "2024-03-22T15:22:00.232Z"
   },
   {
    "duration": 0,
    "start_time": "2024-03-22T15:22:00.233Z"
   },
   {
    "duration": 0,
    "start_time": "2024-03-22T15:22:00.234Z"
   },
   {
    "duration": 3,
    "start_time": "2024-03-22T15:23:05.471Z"
   },
   {
    "duration": 19,
    "start_time": "2024-03-22T15:23:07.279Z"
   },
   {
    "duration": 1105,
    "start_time": "2024-03-22T15:23:50.677Z"
   },
   {
    "duration": 125,
    "start_time": "2024-03-22T15:23:51.784Z"
   },
   {
    "duration": 0,
    "start_time": "2024-03-22T15:23:51.915Z"
   },
   {
    "duration": 0,
    "start_time": "2024-03-22T15:23:51.916Z"
   },
   {
    "duration": 0,
    "start_time": "2024-03-22T15:23:51.918Z"
   },
   {
    "duration": 0,
    "start_time": "2024-03-22T15:23:51.920Z"
   },
   {
    "duration": 0,
    "start_time": "2024-03-22T15:23:51.921Z"
   },
   {
    "duration": 0,
    "start_time": "2024-03-22T15:23:51.922Z"
   },
   {
    "duration": 0,
    "start_time": "2024-03-22T15:23:51.924Z"
   },
   {
    "duration": 0,
    "start_time": "2024-03-22T15:23:51.925Z"
   },
   {
    "duration": 0,
    "start_time": "2024-03-22T15:23:51.926Z"
   },
   {
    "duration": 0,
    "start_time": "2024-03-22T15:23:51.927Z"
   },
   {
    "duration": 0,
    "start_time": "2024-03-22T15:23:51.929Z"
   },
   {
    "duration": 0,
    "start_time": "2024-03-22T15:23:51.930Z"
   },
   {
    "duration": 0,
    "start_time": "2024-03-22T15:23:51.932Z"
   },
   {
    "duration": 0,
    "start_time": "2024-03-22T15:23:51.934Z"
   },
   {
    "duration": 1,
    "start_time": "2024-03-22T15:23:51.935Z"
   },
   {
    "duration": 0,
    "start_time": "2024-03-22T15:23:51.937Z"
   },
   {
    "duration": 0,
    "start_time": "2024-03-22T15:23:51.938Z"
   },
   {
    "duration": 0,
    "start_time": "2024-03-22T15:23:51.940Z"
   },
   {
    "duration": 0,
    "start_time": "2024-03-22T15:23:51.942Z"
   },
   {
    "duration": 0,
    "start_time": "2024-03-22T15:23:51.943Z"
   },
   {
    "duration": 0,
    "start_time": "2024-03-22T15:23:51.945Z"
   },
   {
    "duration": 0,
    "start_time": "2024-03-22T15:23:51.946Z"
   },
   {
    "duration": 0,
    "start_time": "2024-03-22T15:23:51.948Z"
   },
   {
    "duration": 0,
    "start_time": "2024-03-22T15:23:51.949Z"
   },
   {
    "duration": 0,
    "start_time": "2024-03-22T15:23:51.951Z"
   },
   {
    "duration": 0,
    "start_time": "2024-03-22T15:23:51.952Z"
   },
   {
    "duration": 0,
    "start_time": "2024-03-22T15:23:51.953Z"
   },
   {
    "duration": 0,
    "start_time": "2024-03-22T15:23:51.954Z"
   },
   {
    "duration": 0,
    "start_time": "2024-03-22T15:23:51.955Z"
   },
   {
    "duration": 0,
    "start_time": "2024-03-22T15:23:51.956Z"
   },
   {
    "duration": 0,
    "start_time": "2024-03-22T15:23:52.015Z"
   },
   {
    "duration": 0,
    "start_time": "2024-03-22T15:23:52.016Z"
   },
   {
    "duration": 0,
    "start_time": "2024-03-22T15:23:52.017Z"
   },
   {
    "duration": 0,
    "start_time": "2024-03-22T15:23:52.018Z"
   },
   {
    "duration": 0,
    "start_time": "2024-03-22T15:23:52.019Z"
   },
   {
    "duration": 0,
    "start_time": "2024-03-22T15:23:52.020Z"
   },
   {
    "duration": 0,
    "start_time": "2024-03-22T15:23:52.021Z"
   },
   {
    "duration": 0,
    "start_time": "2024-03-22T15:23:52.022Z"
   },
   {
    "duration": 0,
    "start_time": "2024-03-22T15:23:52.023Z"
   },
   {
    "duration": 0,
    "start_time": "2024-03-22T15:23:52.024Z"
   },
   {
    "duration": 0,
    "start_time": "2024-03-22T15:23:52.025Z"
   },
   {
    "duration": 0,
    "start_time": "2024-03-22T15:23:52.026Z"
   },
   {
    "duration": 0,
    "start_time": "2024-03-22T15:23:52.027Z"
   },
   {
    "duration": 0,
    "start_time": "2024-03-22T15:23:52.028Z"
   },
   {
    "duration": 0,
    "start_time": "2024-03-22T15:23:52.029Z"
   },
   {
    "duration": 18,
    "start_time": "2024-03-22T15:25:04.240Z"
   },
   {
    "duration": 3,
    "start_time": "2024-03-22T15:25:13.407Z"
   },
   {
    "duration": 17,
    "start_time": "2024-03-22T15:25:14.496Z"
   },
   {
    "duration": 10,
    "start_time": "2024-03-22T15:25:15.251Z"
   },
   {
    "duration": 18,
    "start_time": "2024-03-22T15:25:56.484Z"
   },
   {
    "duration": 1135,
    "start_time": "2024-03-22T15:35:37.665Z"
   },
   {
    "duration": 113,
    "start_time": "2024-03-22T15:35:38.802Z"
   },
   {
    "duration": 0,
    "start_time": "2024-03-22T15:35:38.919Z"
   },
   {
    "duration": 0,
    "start_time": "2024-03-22T15:35:38.921Z"
   },
   {
    "duration": 0,
    "start_time": "2024-03-22T15:35:38.922Z"
   },
   {
    "duration": 0,
    "start_time": "2024-03-22T15:35:38.923Z"
   },
   {
    "duration": 0,
    "start_time": "2024-03-22T15:35:38.924Z"
   },
   {
    "duration": 0,
    "start_time": "2024-03-22T15:35:38.925Z"
   },
   {
    "duration": 0,
    "start_time": "2024-03-22T15:35:38.926Z"
   },
   {
    "duration": 0,
    "start_time": "2024-03-22T15:35:38.927Z"
   },
   {
    "duration": 0,
    "start_time": "2024-03-22T15:35:38.928Z"
   },
   {
    "duration": 0,
    "start_time": "2024-03-22T15:35:38.930Z"
   },
   {
    "duration": 0,
    "start_time": "2024-03-22T15:35:38.931Z"
   },
   {
    "duration": 0,
    "start_time": "2024-03-22T15:35:38.932Z"
   },
   {
    "duration": 0,
    "start_time": "2024-03-22T15:35:38.933Z"
   },
   {
    "duration": 0,
    "start_time": "2024-03-22T15:35:38.934Z"
   },
   {
    "duration": 0,
    "start_time": "2024-03-22T15:35:38.935Z"
   },
   {
    "duration": 0,
    "start_time": "2024-03-22T15:35:38.936Z"
   },
   {
    "duration": 0,
    "start_time": "2024-03-22T15:35:38.937Z"
   },
   {
    "duration": 0,
    "start_time": "2024-03-22T15:35:38.938Z"
   },
   {
    "duration": 0,
    "start_time": "2024-03-22T15:35:38.939Z"
   },
   {
    "duration": 0,
    "start_time": "2024-03-22T15:35:38.940Z"
   },
   {
    "duration": 0,
    "start_time": "2024-03-22T15:35:38.942Z"
   },
   {
    "duration": 1,
    "start_time": "2024-03-22T15:35:38.942Z"
   },
   {
    "duration": 0,
    "start_time": "2024-03-22T15:35:38.943Z"
   },
   {
    "duration": 0,
    "start_time": "2024-03-22T15:35:38.944Z"
   },
   {
    "duration": 0,
    "start_time": "2024-03-22T15:35:38.945Z"
   },
   {
    "duration": 0,
    "start_time": "2024-03-22T15:35:38.946Z"
   },
   {
    "duration": 0,
    "start_time": "2024-03-22T15:35:38.947Z"
   },
   {
    "duration": 0,
    "start_time": "2024-03-22T15:35:38.948Z"
   },
   {
    "duration": 0,
    "start_time": "2024-03-22T15:35:38.949Z"
   },
   {
    "duration": 0,
    "start_time": "2024-03-22T15:35:38.950Z"
   },
   {
    "duration": 0,
    "start_time": "2024-03-22T15:35:38.951Z"
   },
   {
    "duration": 0,
    "start_time": "2024-03-22T15:35:38.952Z"
   },
   {
    "duration": 0,
    "start_time": "2024-03-22T15:35:38.953Z"
   },
   {
    "duration": 0,
    "start_time": "2024-03-22T15:35:38.954Z"
   },
   {
    "duration": 0,
    "start_time": "2024-03-22T15:35:38.955Z"
   },
   {
    "duration": 0,
    "start_time": "2024-03-22T15:35:38.956Z"
   },
   {
    "duration": 0,
    "start_time": "2024-03-22T15:35:39.015Z"
   },
   {
    "duration": 0,
    "start_time": "2024-03-22T15:35:39.016Z"
   },
   {
    "duration": 0,
    "start_time": "2024-03-22T15:35:39.017Z"
   },
   {
    "duration": 0,
    "start_time": "2024-03-22T15:35:39.019Z"
   },
   {
    "duration": 0,
    "start_time": "2024-03-22T15:35:39.020Z"
   },
   {
    "duration": 0,
    "start_time": "2024-03-22T15:35:39.021Z"
   },
   {
    "duration": 0,
    "start_time": "2024-03-22T15:35:39.022Z"
   },
   {
    "duration": 0,
    "start_time": "2024-03-22T15:35:39.023Z"
   },
   {
    "duration": 0,
    "start_time": "2024-03-22T15:35:39.024Z"
   },
   {
    "duration": 211,
    "start_time": "2024-03-22T15:49:47.632Z"
   },
   {
    "duration": 1156,
    "start_time": "2024-03-22T15:49:57.638Z"
   },
   {
    "duration": 70,
    "start_time": "2024-03-22T15:49:58.796Z"
   },
   {
    "duration": 23,
    "start_time": "2024-03-22T15:49:58.868Z"
   },
   {
    "duration": 27,
    "start_time": "2024-03-22T15:49:58.893Z"
   },
   {
    "duration": 7,
    "start_time": "2024-03-22T15:49:58.922Z"
   },
   {
    "duration": 7,
    "start_time": "2024-03-22T15:49:58.931Z"
   },
   {
    "duration": 16,
    "start_time": "2024-03-22T15:49:58.940Z"
   },
   {
    "duration": 6,
    "start_time": "2024-03-22T15:49:58.957Z"
   },
   {
    "duration": 14,
    "start_time": "2024-03-22T15:49:58.964Z"
   },
   {
    "duration": 3,
    "start_time": "2024-03-22T15:49:58.981Z"
   },
   {
    "duration": 12,
    "start_time": "2024-03-22T15:49:58.986Z"
   },
   {
    "duration": 5,
    "start_time": "2024-03-22T15:49:59.015Z"
   },
   {
    "duration": 169,
    "start_time": "2024-03-22T15:49:59.022Z"
   },
   {
    "duration": 93,
    "start_time": "2024-03-22T15:49:59.192Z"
   },
   {
    "duration": 11,
    "start_time": "2024-03-22T15:49:59.287Z"
   },
   {
    "duration": 197,
    "start_time": "2024-03-22T15:49:59.315Z"
   },
   {
    "duration": 9,
    "start_time": "2024-03-22T15:49:59.515Z"
   },
   {
    "duration": 188,
    "start_time": "2024-03-22T15:49:59.526Z"
   },
   {
    "duration": 8,
    "start_time": "2024-03-22T15:49:59.716Z"
   },
   {
    "duration": 214,
    "start_time": "2024-03-22T15:49:59.726Z"
   },
   {
    "duration": 9,
    "start_time": "2024-03-22T15:49:59.942Z"
   },
   {
    "duration": 9,
    "start_time": "2024-03-22T15:49:59.952Z"
   },
   {
    "duration": 13,
    "start_time": "2024-03-22T15:49:59.962Z"
   },
   {
    "duration": 47,
    "start_time": "2024-03-22T15:49:59.976Z"
   },
   {
    "duration": 10,
    "start_time": "2024-03-22T15:50:00.025Z"
   },
   {
    "duration": 56,
    "start_time": "2024-03-22T15:50:00.036Z"
   },
   {
    "duration": 88,
    "start_time": "2024-03-22T15:50:00.094Z"
   },
   {
    "duration": 110,
    "start_time": "2024-03-22T15:50:00.187Z"
   },
   {
    "duration": 319,
    "start_time": "2024-03-22T15:50:00.299Z"
   },
   {
    "duration": 8,
    "start_time": "2024-03-22T15:50:00.620Z"
   },
   {
    "duration": 372,
    "start_time": "2024-03-22T15:50:00.630Z"
   },
   {
    "duration": 327,
    "start_time": "2024-03-22T15:50:01.004Z"
   },
   {
    "duration": 9,
    "start_time": "2024-03-22T15:50:01.333Z"
   },
   {
    "duration": 342,
    "start_time": "2024-03-22T15:50:01.343Z"
   },
   {
    "duration": 8,
    "start_time": "2024-03-22T15:50:01.686Z"
   },
   {
    "duration": 321,
    "start_time": "2024-03-22T15:50:01.696Z"
   },
   {
    "duration": 250,
    "start_time": "2024-03-22T15:50:02.019Z"
   },
   {
    "duration": 23,
    "start_time": "2024-03-22T15:50:02.270Z"
   },
   {
    "duration": 27,
    "start_time": "2024-03-22T15:50:02.295Z"
   },
   {
    "duration": 31,
    "start_time": "2024-03-22T15:50:02.324Z"
   },
   {
    "duration": 24,
    "start_time": "2024-03-22T15:50:02.357Z"
   },
   {
    "duration": 12,
    "start_time": "2024-03-22T15:50:02.383Z"
   },
   {
    "duration": 145,
    "start_time": "2024-03-22T15:50:02.396Z"
   },
   {
    "duration": 12,
    "start_time": "2024-03-22T15:50:02.543Z"
   },
   {
    "duration": 43,
    "start_time": "2024-03-22T15:50:02.556Z"
   },
   {
    "duration": 18,
    "start_time": "2024-03-22T15:50:02.601Z"
   },
   {
    "duration": 11,
    "start_time": "2024-03-22T15:50:02.621Z"
   },
   {
    "duration": 102,
    "start_time": "2024-03-22T15:53:28.294Z"
   },
   {
    "duration": 10,
    "start_time": "2024-03-22T15:53:35.396Z"
   },
   {
    "duration": 9,
    "start_time": "2024-03-22T15:53:41.849Z"
   },
   {
    "duration": 66,
    "start_time": "2024-03-22T15:54:09.043Z"
   },
   {
    "duration": 5,
    "start_time": "2024-03-22T15:54:17.071Z"
   },
   {
    "duration": 10,
    "start_time": "2024-03-22T15:54:56.278Z"
   },
   {
    "duration": 5,
    "start_time": "2024-03-22T15:54:59.762Z"
   },
   {
    "duration": 75,
    "start_time": "2024-03-22T15:55:38.342Z"
   },
   {
    "duration": 123,
    "start_time": "2024-03-22T15:57:16.943Z"
   },
   {
    "duration": 11,
    "start_time": "2024-03-22T16:00:55.404Z"
   },
   {
    "duration": 9,
    "start_time": "2024-03-22T16:01:59.418Z"
   },
   {
    "duration": 1224,
    "start_time": "2024-03-22T16:02:16.418Z"
   },
   {
    "duration": 1240,
    "start_time": "2024-03-22T16:02:43.480Z"
   },
   {
    "duration": 1164,
    "start_time": "2024-03-22T16:08:36.776Z"
   },
   {
    "duration": 11,
    "start_time": "2024-03-22T16:09:08.617Z"
   },
   {
    "duration": 62,
    "start_time": "2024-03-22T16:09:46.110Z"
   },
   {
    "duration": 12,
    "start_time": "2024-03-22T16:09:51.191Z"
   },
   {
    "duration": 11,
    "start_time": "2024-03-22T16:10:51.677Z"
   },
   {
    "duration": 10,
    "start_time": "2024-03-22T16:10:58.717Z"
   },
   {
    "duration": 10,
    "start_time": "2024-03-22T16:11:56.187Z"
   },
   {
    "duration": 9,
    "start_time": "2024-03-22T16:19:47.410Z"
   },
   {
    "duration": 99,
    "start_time": "2024-03-22T16:19:58.329Z"
   },
   {
    "duration": 129,
    "start_time": "2024-03-22T16:20:30.495Z"
   },
   {
    "duration": 135,
    "start_time": "2024-03-22T16:20:33.671Z"
   },
   {
    "duration": 205,
    "start_time": "2024-03-22T16:20:49.669Z"
   },
   {
    "duration": 105,
    "start_time": "2024-03-22T16:36:33.484Z"
   },
   {
    "duration": 119,
    "start_time": "2024-03-22T16:36:41.992Z"
   },
   {
    "duration": 111,
    "start_time": "2024-03-22T16:36:54.494Z"
   },
   {
    "duration": 147,
    "start_time": "2024-03-22T16:37:04.637Z"
   },
   {
    "duration": 125,
    "start_time": "2024-03-22T16:37:10.396Z"
   },
   {
    "duration": 141,
    "start_time": "2024-03-22T16:37:15.048Z"
   },
   {
    "duration": 117,
    "start_time": "2024-03-22T16:37:23.902Z"
   },
   {
    "duration": 98,
    "start_time": "2024-03-22T16:37:55.842Z"
   },
   {
    "duration": 128,
    "start_time": "2024-03-22T16:38:04.482Z"
   },
   {
    "duration": 9,
    "start_time": "2024-03-22T16:38:15.302Z"
   },
   {
    "duration": 9,
    "start_time": "2024-03-22T16:38:18.494Z"
   },
   {
    "duration": 119,
    "start_time": "2024-03-22T16:38:26.089Z"
   },
   {
    "duration": 119,
    "start_time": "2024-03-22T16:38:31.072Z"
   },
   {
    "duration": 13,
    "start_time": "2024-03-22T16:38:43.468Z"
   },
   {
    "duration": 64,
    "start_time": "2024-03-22T16:38:53.221Z"
   },
   {
    "duration": 10,
    "start_time": "2024-03-22T16:39:03.174Z"
   },
   {
    "duration": 9,
    "start_time": "2024-03-22T16:39:08.791Z"
   },
   {
    "duration": 117,
    "start_time": "2024-03-22T16:39:11.471Z"
   },
   {
    "duration": 50,
    "start_time": "2024-03-22T18:14:23.399Z"
   },
   {
    "duration": 7,
    "start_time": "2024-03-22T18:14:54.514Z"
   },
   {
    "duration": 1310,
    "start_time": "2024-03-22T18:15:08.944Z"
   },
   {
    "duration": 198,
    "start_time": "2024-03-22T18:15:10.257Z"
   },
   {
    "duration": 22,
    "start_time": "2024-03-22T18:15:10.457Z"
   },
   {
    "duration": 33,
    "start_time": "2024-03-22T18:15:10.481Z"
   },
   {
    "duration": 7,
    "start_time": "2024-03-22T18:15:10.516Z"
   },
   {
    "duration": 9,
    "start_time": "2024-03-22T18:15:10.524Z"
   },
   {
    "duration": 10,
    "start_time": "2024-03-22T18:15:10.535Z"
   },
   {
    "duration": 17,
    "start_time": "2024-03-22T18:15:10.546Z"
   },
   {
    "duration": 18,
    "start_time": "2024-03-22T18:15:10.564Z"
   },
   {
    "duration": 4,
    "start_time": "2024-03-22T18:15:10.583Z"
   },
   {
    "duration": 5,
    "start_time": "2024-03-22T18:15:10.588Z"
   },
   {
    "duration": 10,
    "start_time": "2024-03-22T18:15:10.594Z"
   },
   {
    "duration": 4,
    "start_time": "2024-03-22T18:15:10.605Z"
   },
   {
    "duration": 122,
    "start_time": "2024-03-22T18:15:10.611Z"
   },
   {
    "duration": 0,
    "start_time": "2024-03-22T18:15:10.735Z"
   },
   {
    "duration": 0,
    "start_time": "2024-03-22T18:15:10.736Z"
   },
   {
    "duration": 0,
    "start_time": "2024-03-22T18:15:10.737Z"
   },
   {
    "duration": 0,
    "start_time": "2024-03-22T18:15:10.738Z"
   },
   {
    "duration": 0,
    "start_time": "2024-03-22T18:15:10.738Z"
   },
   {
    "duration": 0,
    "start_time": "2024-03-22T18:15:10.740Z"
   },
   {
    "duration": 0,
    "start_time": "2024-03-22T18:15:10.741Z"
   },
   {
    "duration": 0,
    "start_time": "2024-03-22T18:15:10.742Z"
   },
   {
    "duration": 0,
    "start_time": "2024-03-22T18:15:10.743Z"
   },
   {
    "duration": 0,
    "start_time": "2024-03-22T18:15:10.744Z"
   },
   {
    "duration": 0,
    "start_time": "2024-03-22T18:15:10.745Z"
   },
   {
    "duration": 0,
    "start_time": "2024-03-22T18:15:10.746Z"
   },
   {
    "duration": 0,
    "start_time": "2024-03-22T18:15:10.746Z"
   },
   {
    "duration": 0,
    "start_time": "2024-03-22T18:15:10.747Z"
   },
   {
    "duration": 0,
    "start_time": "2024-03-22T18:15:10.748Z"
   },
   {
    "duration": 0,
    "start_time": "2024-03-22T18:15:10.750Z"
   },
   {
    "duration": 0,
    "start_time": "2024-03-22T18:15:10.750Z"
   },
   {
    "duration": 0,
    "start_time": "2024-03-22T18:15:10.751Z"
   },
   {
    "duration": 0,
    "start_time": "2024-03-22T18:15:10.752Z"
   },
   {
    "duration": 0,
    "start_time": "2024-03-22T18:15:10.781Z"
   },
   {
    "duration": 0,
    "start_time": "2024-03-22T18:15:10.783Z"
   },
   {
    "duration": 0,
    "start_time": "2024-03-22T18:15:10.784Z"
   },
   {
    "duration": 0,
    "start_time": "2024-03-22T18:15:10.785Z"
   },
   {
    "duration": 0,
    "start_time": "2024-03-22T18:15:10.786Z"
   },
   {
    "duration": 0,
    "start_time": "2024-03-22T18:15:10.787Z"
   },
   {
    "duration": 0,
    "start_time": "2024-03-22T18:15:10.788Z"
   },
   {
    "duration": 0,
    "start_time": "2024-03-22T18:15:10.789Z"
   },
   {
    "duration": 0,
    "start_time": "2024-03-22T18:15:10.791Z"
   },
   {
    "duration": 0,
    "start_time": "2024-03-22T18:15:10.792Z"
   },
   {
    "duration": 0,
    "start_time": "2024-03-22T18:15:10.793Z"
   },
   {
    "duration": 0,
    "start_time": "2024-03-22T18:15:10.794Z"
   },
   {
    "duration": 0,
    "start_time": "2024-03-22T18:15:10.795Z"
   },
   {
    "duration": 0,
    "start_time": "2024-03-22T18:15:10.796Z"
   },
   {
    "duration": 0,
    "start_time": "2024-03-22T18:15:10.797Z"
   },
   {
    "duration": 113,
    "start_time": "2024-03-22T18:15:30.729Z"
   },
   {
    "duration": 121,
    "start_time": "2024-03-22T18:15:43.941Z"
   },
   {
    "duration": 1123,
    "start_time": "2024-03-22T18:15:55.963Z"
   },
   {
    "duration": 73,
    "start_time": "2024-03-22T18:15:57.089Z"
   },
   {
    "duration": 25,
    "start_time": "2024-03-22T18:15:57.164Z"
   },
   {
    "duration": 27,
    "start_time": "2024-03-22T18:15:57.192Z"
   },
   {
    "duration": 7,
    "start_time": "2024-03-22T18:15:57.220Z"
   },
   {
    "duration": 9,
    "start_time": "2024-03-22T18:15:57.228Z"
   },
   {
    "duration": 29,
    "start_time": "2024-03-22T18:15:57.238Z"
   },
   {
    "duration": 18,
    "start_time": "2024-03-22T18:15:57.268Z"
   },
   {
    "duration": 5,
    "start_time": "2024-03-22T18:15:57.288Z"
   },
   {
    "duration": 4,
    "start_time": "2024-03-22T18:15:57.296Z"
   },
   {
    "duration": 8,
    "start_time": "2024-03-22T18:15:57.301Z"
   },
   {
    "duration": 10,
    "start_time": "2024-03-22T18:15:57.310Z"
   },
   {
    "duration": 4,
    "start_time": "2024-03-22T18:15:57.321Z"
   },
   {
    "duration": 172,
    "start_time": "2024-03-22T18:15:57.327Z"
   },
   {
    "duration": 99,
    "start_time": "2024-03-22T18:15:57.501Z"
   },
   {
    "duration": 8,
    "start_time": "2024-03-22T18:15:57.602Z"
   },
   {
    "duration": 192,
    "start_time": "2024-03-22T18:15:57.611Z"
   },
   {
    "duration": 8,
    "start_time": "2024-03-22T18:15:57.805Z"
   },
   {
    "duration": 184,
    "start_time": "2024-03-22T18:15:57.814Z"
   },
   {
    "duration": 8,
    "start_time": "2024-03-22T18:15:58.000Z"
   },
   {
    "duration": 214,
    "start_time": "2024-03-22T18:15:58.009Z"
   },
   {
    "duration": 10,
    "start_time": "2024-03-22T18:15:58.224Z"
   },
   {
    "duration": 10,
    "start_time": "2024-03-22T18:15:58.236Z"
   },
   {
    "duration": 18,
    "start_time": "2024-03-22T18:15:58.247Z"
   },
   {
    "duration": 42,
    "start_time": "2024-03-22T18:15:58.267Z"
   },
   {
    "duration": 11,
    "start_time": "2024-03-22T18:15:58.311Z"
   },
   {
    "duration": 8,
    "start_time": "2024-03-22T18:15:58.324Z"
   },
   {
    "duration": 54,
    "start_time": "2024-03-22T18:15:58.338Z"
   },
   {
    "duration": 10,
    "start_time": "2024-03-22T18:15:58.394Z"
   },
   {
    "duration": 298,
    "start_time": "2024-03-22T18:15:58.406Z"
   },
   {
    "duration": 8,
    "start_time": "2024-03-22T18:15:58.706Z"
   },
   {
    "duration": 268,
    "start_time": "2024-03-22T18:15:58.716Z"
   },
   {
    "duration": 314,
    "start_time": "2024-03-22T18:15:58.986Z"
   },
   {
    "duration": 8,
    "start_time": "2024-03-22T18:15:59.302Z"
   },
   {
    "duration": 271,
    "start_time": "2024-03-22T18:15:59.311Z"
   },
   {
    "duration": 9,
    "start_time": "2024-03-22T18:15:59.583Z"
   },
   {
    "duration": 327,
    "start_time": "2024-03-22T18:15:59.594Z"
   },
   {
    "duration": 266,
    "start_time": "2024-03-22T18:15:59.923Z"
   },
   {
    "duration": 22,
    "start_time": "2024-03-22T18:16:00.190Z"
   },
   {
    "duration": 67,
    "start_time": "2024-03-22T18:16:00.214Z"
   },
   {
    "duration": 61,
    "start_time": "2024-03-22T18:16:00.282Z"
   },
   {
    "duration": 49,
    "start_time": "2024-03-22T18:16:00.344Z"
   },
   {
    "duration": 139,
    "start_time": "2024-03-22T18:16:00.394Z"
   },
   {
    "duration": 215,
    "start_time": "2024-03-22T18:16:00.534Z"
   },
   {
    "duration": 61,
    "start_time": "2024-03-22T18:16:00.750Z"
   },
   {
    "duration": 120,
    "start_time": "2024-03-22T18:16:00.813Z"
   },
   {
    "duration": 163,
    "start_time": "2024-03-22T18:16:00.935Z"
   },
   {
    "duration": 115,
    "start_time": "2024-03-22T18:16:01.099Z"
   },
   {
    "duration": 122,
    "start_time": "2024-03-22T18:16:40.356Z"
   },
   {
    "duration": 107,
    "start_time": "2024-03-22T18:16:49.449Z"
   },
   {
    "duration": 124,
    "start_time": "2024-03-22T18:17:08.220Z"
   },
   {
    "duration": 135,
    "start_time": "2024-03-22T18:17:25.767Z"
   },
   {
    "duration": 139,
    "start_time": "2024-03-22T18:17:33.017Z"
   },
   {
    "duration": 9,
    "start_time": "2024-03-22T18:20:51.343Z"
   },
   {
    "duration": 13,
    "start_time": "2024-03-22T18:20:55.972Z"
   },
   {
    "duration": 13,
    "start_time": "2024-03-22T18:21:03.180Z"
   },
   {
    "duration": 226,
    "start_time": "2024-03-22T18:21:12.331Z"
   },
   {
    "duration": 108,
    "start_time": "2024-03-22T18:21:18.422Z"
   },
   {
    "duration": 104,
    "start_time": "2024-03-22T18:21:22.370Z"
   },
   {
    "duration": 98,
    "start_time": "2024-03-22T18:21:25.557Z"
   },
   {
    "duration": 99,
    "start_time": "2024-03-22T18:21:33.970Z"
   },
   {
    "duration": 125,
    "start_time": "2024-03-22T18:21:42.199Z"
   },
   {
    "duration": 97,
    "start_time": "2024-03-22T18:22:16.736Z"
   },
   {
    "duration": 10,
    "start_time": "2024-03-22T18:23:17.218Z"
   },
   {
    "duration": 103,
    "start_time": "2024-03-22T18:23:23.027Z"
   },
   {
    "duration": 120,
    "start_time": "2024-03-22T18:23:31.375Z"
   },
   {
    "duration": 96,
    "start_time": "2024-03-22T18:23:35.852Z"
   },
   {
    "duration": 106,
    "start_time": "2024-03-22T18:23:43.672Z"
   },
   {
    "duration": 104,
    "start_time": "2024-03-22T18:24:00.753Z"
   },
   {
    "duration": 98,
    "start_time": "2024-03-22T18:24:10.872Z"
   },
   {
    "duration": 139,
    "start_time": "2024-03-22T18:24:19.743Z"
   },
   {
    "duration": 9,
    "start_time": "2024-03-22T18:27:49.317Z"
   },
   {
    "duration": 5,
    "start_time": "2024-03-22T18:27:54.753Z"
   },
   {
    "duration": 127,
    "start_time": "2024-03-22T18:27:59.658Z"
   },
   {
    "duration": 9,
    "start_time": "2024-03-22T18:28:22.744Z"
   },
   {
    "duration": 279,
    "start_time": "2024-03-22T18:28:28.773Z"
   },
   {
    "duration": 117,
    "start_time": "2024-03-22T18:28:39.494Z"
   },
   {
    "duration": 125,
    "start_time": "2024-03-22T18:30:22.641Z"
   },
   {
    "duration": 116,
    "start_time": "2024-03-22T18:30:48.188Z"
   },
   {
    "duration": 147,
    "start_time": "2024-03-22T18:31:44.135Z"
   },
   {
    "duration": 122,
    "start_time": "2024-03-22T18:31:51.194Z"
   },
   {
    "duration": 135,
    "start_time": "2024-03-22T18:32:03.274Z"
   },
   {
    "duration": 134,
    "start_time": "2024-03-22T18:33:06.124Z"
   },
   {
    "duration": 71,
    "start_time": "2024-03-22T18:34:13.807Z"
   },
   {
    "duration": 134,
    "start_time": "2024-03-22T18:34:38.935Z"
   },
   {
    "duration": 136,
    "start_time": "2024-03-22T18:34:42.936Z"
   },
   {
    "duration": 84,
    "start_time": "2024-03-22T18:34:52.727Z"
   },
   {
    "duration": 90,
    "start_time": "2024-03-22T18:34:59.752Z"
   },
   {
    "duration": 87,
    "start_time": "2024-03-22T18:35:02.273Z"
   },
   {
    "duration": 84,
    "start_time": "2024-03-22T18:35:05.715Z"
   },
   {
    "duration": 178,
    "start_time": "2024-03-22T18:35:12.102Z"
   },
   {
    "duration": 188,
    "start_time": "2024-03-22T18:35:17.979Z"
   },
   {
    "duration": 153,
    "start_time": "2024-03-22T18:35:24.441Z"
   },
   {
    "duration": 153,
    "start_time": "2024-03-22T18:35:30.323Z"
   },
   {
    "duration": 158,
    "start_time": "2024-03-22T18:35:47.959Z"
   },
   {
    "duration": 163,
    "start_time": "2024-03-22T18:35:58.023Z"
   },
   {
    "duration": 184,
    "start_time": "2024-03-22T18:36:03.160Z"
   },
   {
    "duration": 145,
    "start_time": "2024-03-22T18:36:13.847Z"
   },
   {
    "duration": 155,
    "start_time": "2024-03-22T18:36:24.971Z"
   },
   {
    "duration": 167,
    "start_time": "2024-03-22T18:36:43.008Z"
   },
   {
    "duration": 249,
    "start_time": "2024-03-22T18:37:01.867Z"
   },
   {
    "duration": 161,
    "start_time": "2024-03-22T18:37:48.970Z"
   },
   {
    "duration": 374,
    "start_time": "2024-03-22T18:39:02.234Z"
   },
   {
    "duration": 151,
    "start_time": "2024-03-22T18:39:06.348Z"
   },
   {
    "duration": 149,
    "start_time": "2024-03-22T18:39:09.619Z"
   },
   {
    "duration": 134,
    "start_time": "2024-03-22T18:42:10.611Z"
   },
   {
    "duration": 142,
    "start_time": "2024-03-22T18:42:24.563Z"
   },
   {
    "duration": 136,
    "start_time": "2024-03-22T18:42:45.013Z"
   },
   {
    "duration": 142,
    "start_time": "2024-03-22T18:42:51.561Z"
   },
   {
    "duration": 129,
    "start_time": "2024-03-22T18:43:04.718Z"
   },
   {
    "duration": 129,
    "start_time": "2024-03-22T18:43:15.154Z"
   },
   {
    "duration": 126,
    "start_time": "2024-03-22T18:44:45.402Z"
   },
   {
    "duration": 133,
    "start_time": "2024-03-22T18:45:00.531Z"
   },
   {
    "duration": 133,
    "start_time": "2024-03-22T18:45:17.919Z"
   },
   {
    "duration": 129,
    "start_time": "2024-03-22T18:45:23.870Z"
   },
   {
    "duration": 112,
    "start_time": "2024-03-22T18:45:29.463Z"
   },
   {
    "duration": 138,
    "start_time": "2024-03-22T18:45:39.334Z"
   },
   {
    "duration": 76,
    "start_time": "2024-03-22T19:45:18.648Z"
   },
   {
    "duration": 73,
    "start_time": "2024-03-22T19:45:23.977Z"
   },
   {
    "duration": 15,
    "start_time": "2024-03-22T19:45:27.416Z"
   },
   {
    "duration": 11,
    "start_time": "2024-03-22T19:45:32.726Z"
   },
   {
    "duration": 9,
    "start_time": "2024-03-22T19:45:47.808Z"
   },
   {
    "duration": 14,
    "start_time": "2024-03-22T19:45:56.261Z"
   },
   {
    "duration": 11,
    "start_time": "2024-03-22T19:46:04.066Z"
   },
   {
    "duration": 16,
    "start_time": "2024-03-22T19:46:11.950Z"
   },
   {
    "duration": 8,
    "start_time": "2024-03-22T19:46:17.643Z"
   },
   {
    "duration": 7,
    "start_time": "2024-03-22T19:46:23.108Z"
   },
   {
    "duration": 9,
    "start_time": "2024-03-22T19:46:26.256Z"
   },
   {
    "duration": 63,
    "start_time": "2024-03-22T19:47:56.949Z"
   },
   {
    "duration": 11,
    "start_time": "2024-03-22T19:52:46.524Z"
   },
   {
    "duration": 13,
    "start_time": "2024-03-22T19:52:50.514Z"
   },
   {
    "duration": 77,
    "start_time": "2024-03-22T19:53:38.098Z"
   },
   {
    "duration": 14,
    "start_time": "2024-03-22T19:54:00.788Z"
   },
   {
    "duration": 68,
    "start_time": "2024-03-22T19:54:28.367Z"
   },
   {
    "duration": 5,
    "start_time": "2024-03-22T19:54:39.322Z"
   },
   {
    "duration": 4,
    "start_time": "2024-03-22T19:54:46.165Z"
   },
   {
    "duration": 6,
    "start_time": "2024-03-22T19:54:59.113Z"
   },
   {
    "duration": 1056,
    "start_time": "2024-03-22T19:56:35.664Z"
   },
   {
    "duration": 1071,
    "start_time": "2024-03-22T19:56:39.548Z"
   },
   {
    "duration": 1141,
    "start_time": "2024-03-22T19:56:50.361Z"
   },
   {
    "duration": 5,
    "start_time": "2024-03-22T19:56:53.749Z"
   },
   {
    "duration": 11,
    "start_time": "2024-03-22T19:57:46.557Z"
   },
   {
    "duration": 14,
    "start_time": "2024-03-22T19:57:49.865Z"
   },
   {
    "duration": 5,
    "start_time": "2024-03-22T19:58:04.310Z"
   },
   {
    "duration": 13,
    "start_time": "2024-03-22T19:58:36.965Z"
   },
   {
    "duration": 13,
    "start_time": "2024-03-22T19:58:39.368Z"
   },
   {
    "duration": 5,
    "start_time": "2024-03-22T19:58:54.349Z"
   },
   {
    "duration": 5,
    "start_time": "2024-03-22T19:59:00.604Z"
   },
   {
    "duration": 5,
    "start_time": "2024-03-22T19:59:17.584Z"
   },
   {
    "duration": 196,
    "start_time": "2024-03-22T20:03:26.400Z"
   },
   {
    "duration": 211,
    "start_time": "2024-03-22T20:03:42.409Z"
   },
   {
    "duration": 236,
    "start_time": "2024-03-22T20:03:48.720Z"
   },
   {
    "duration": 204,
    "start_time": "2024-03-22T20:04:14.861Z"
   },
   {
    "duration": 68,
    "start_time": "2024-03-22T20:04:23.538Z"
   },
   {
    "duration": 214,
    "start_time": "2024-03-22T20:04:28.653Z"
   },
   {
    "duration": 223,
    "start_time": "2024-03-22T20:04:57.327Z"
   },
   {
    "duration": 174,
    "start_time": "2024-03-22T20:05:53.223Z"
   },
   {
    "duration": 206,
    "start_time": "2024-03-22T20:06:51.223Z"
   },
   {
    "duration": 223,
    "start_time": "2024-03-22T20:07:05.216Z"
   },
   {
    "duration": 451,
    "start_time": "2024-03-22T20:09:03.613Z"
   },
   {
    "duration": 222,
    "start_time": "2024-03-22T20:09:14.120Z"
   },
   {
    "duration": 225,
    "start_time": "2024-03-22T20:09:24.578Z"
   },
   {
    "duration": 177,
    "start_time": "2024-03-22T20:12:45.890Z"
   },
   {
    "duration": 63,
    "start_time": "2024-03-22T20:13:22.093Z"
   },
   {
    "duration": 73,
    "start_time": "2024-03-22T20:13:25.864Z"
   },
   {
    "duration": 4,
    "start_time": "2024-03-22T20:13:31.848Z"
   },
   {
    "duration": 4,
    "start_time": "2024-03-22T20:13:35.547Z"
   },
   {
    "duration": 186,
    "start_time": "2024-03-22T20:13:42.856Z"
   },
   {
    "duration": 168,
    "start_time": "2024-03-22T20:14:40.628Z"
   },
   {
    "duration": 69,
    "start_time": "2024-03-22T20:14:50.476Z"
   },
   {
    "duration": 188,
    "start_time": "2024-03-22T20:14:58.320Z"
   },
   {
    "duration": 154,
    "start_time": "2024-03-22T20:15:13.307Z"
   },
   {
    "duration": 151,
    "start_time": "2024-03-22T20:15:37.398Z"
   },
   {
    "duration": 151,
    "start_time": "2024-03-22T20:15:54.753Z"
   },
   {
    "duration": 164,
    "start_time": "2024-03-22T20:16:04.489Z"
   },
   {
    "duration": 151,
    "start_time": "2024-03-22T20:16:27.989Z"
   },
   {
    "duration": 159,
    "start_time": "2024-03-22T20:16:40.952Z"
   },
   {
    "duration": 148,
    "start_time": "2024-03-22T20:17:06.814Z"
   },
   {
    "duration": 159,
    "start_time": "2024-03-22T20:17:23.365Z"
   },
   {
    "duration": 150,
    "start_time": "2024-03-22T20:17:44.705Z"
   },
   {
    "duration": 185,
    "start_time": "2024-03-22T20:17:52.404Z"
   },
   {
    "duration": 158,
    "start_time": "2024-03-22T20:18:04.155Z"
   },
   {
    "duration": 143,
    "start_time": "2024-03-22T20:18:18.542Z"
   },
   {
    "duration": 166,
    "start_time": "2024-03-22T20:18:35.056Z"
   },
   {
    "duration": 74,
    "start_time": "2024-03-22T20:18:44.676Z"
   },
   {
    "duration": 166,
    "start_time": "2024-03-22T20:18:49.672Z"
   },
   {
    "duration": 382,
    "start_time": "2024-03-22T20:18:52.861Z"
   },
   {
    "duration": 154,
    "start_time": "2024-03-22T20:19:00.132Z"
   },
   {
    "duration": 150,
    "start_time": "2024-03-22T20:19:07.406Z"
   },
   {
    "duration": 165,
    "start_time": "2024-03-22T20:19:10.683Z"
   },
   {
    "duration": 159,
    "start_time": "2024-03-22T20:19:24.623Z"
   },
   {
    "duration": 76,
    "start_time": "2024-03-22T20:19:40.368Z"
   },
   {
    "duration": 75,
    "start_time": "2024-03-22T20:19:45.852Z"
   },
   {
    "duration": 384,
    "start_time": "2024-03-22T20:19:50.387Z"
   },
   {
    "duration": 250,
    "start_time": "2024-03-22T20:20:00.408Z"
   },
   {
    "duration": 235,
    "start_time": "2024-03-22T20:20:32.713Z"
   },
   {
    "duration": 236,
    "start_time": "2024-03-22T20:20:44.543Z"
   },
   {
    "duration": 243,
    "start_time": "2024-03-22T20:20:59.300Z"
   },
   {
    "duration": 486,
    "start_time": "2024-03-22T20:21:03.585Z"
   },
   {
    "duration": 114,
    "start_time": "2024-03-22T20:21:49.648Z"
   },
   {
    "duration": 231,
    "start_time": "2024-03-22T20:21:55.002Z"
   },
   {
    "duration": 217,
    "start_time": "2024-03-22T20:22:13.610Z"
   },
   {
    "duration": 206,
    "start_time": "2024-03-22T20:22:23.960Z"
   },
   {
    "duration": 237,
    "start_time": "2024-03-22T20:22:38.034Z"
   },
   {
    "duration": 234,
    "start_time": "2024-03-22T20:22:43.061Z"
   },
   {
    "duration": 224,
    "start_time": "2024-03-22T20:22:59.180Z"
   },
   {
    "duration": 218,
    "start_time": "2024-03-22T20:23:04.315Z"
   },
   {
    "duration": 241,
    "start_time": "2024-03-22T20:23:07.079Z"
   },
   {
    "duration": 206,
    "start_time": "2024-03-22T20:23:17.919Z"
   },
   {
    "duration": 213,
    "start_time": "2024-03-22T20:23:25.175Z"
   },
   {
    "duration": 225,
    "start_time": "2024-03-22T20:23:53.803Z"
   },
   {
    "duration": 18,
    "start_time": "2024-03-22T20:24:23.386Z"
   },
   {
    "duration": 13,
    "start_time": "2024-03-22T20:24:33.974Z"
   },
   {
    "duration": 13,
    "start_time": "2024-03-22T20:24:52.730Z"
   },
   {
    "duration": 74,
    "start_time": "2024-03-22T20:25:44.053Z"
   },
   {
    "duration": 72,
    "start_time": "2024-03-22T20:26:01.937Z"
   },
   {
    "duration": 75,
    "start_time": "2024-03-22T20:26:32.570Z"
   },
   {
    "duration": 68,
    "start_time": "2024-03-22T20:27:02.550Z"
   },
   {
    "duration": 68,
    "start_time": "2024-03-22T20:27:06.149Z"
   },
   {
    "duration": 133,
    "start_time": "2024-03-22T20:28:19.799Z"
   },
   {
    "duration": 73,
    "start_time": "2024-03-22T20:28:28.610Z"
   },
   {
    "duration": 202,
    "start_time": "2024-03-22T20:28:38.443Z"
   },
   {
    "duration": 1121,
    "start_time": "2024-03-22T20:29:00.193Z"
   },
   {
    "duration": 69,
    "start_time": "2024-03-22T20:29:01.316Z"
   },
   {
    "duration": 34,
    "start_time": "2024-03-22T20:29:01.387Z"
   },
   {
    "duration": 68,
    "start_time": "2024-03-22T20:29:01.424Z"
   },
   {
    "duration": 27,
    "start_time": "2024-03-22T20:29:01.493Z"
   },
   {
    "duration": 37,
    "start_time": "2024-03-22T20:29:01.522Z"
   },
   {
    "duration": 33,
    "start_time": "2024-03-22T20:29:01.560Z"
   },
   {
    "duration": 17,
    "start_time": "2024-03-22T20:29:01.595Z"
   },
   {
    "duration": 40,
    "start_time": "2024-03-22T20:29:01.614Z"
   },
   {
    "duration": 23,
    "start_time": "2024-03-22T20:29:01.658Z"
   },
   {
    "duration": 36,
    "start_time": "2024-03-22T20:29:01.683Z"
   },
   {
    "duration": 26,
    "start_time": "2024-03-22T20:29:01.721Z"
   },
   {
    "duration": 10,
    "start_time": "2024-03-22T20:29:01.749Z"
   },
   {
    "duration": 194,
    "start_time": "2024-03-22T20:29:01.760Z"
   },
   {
    "duration": 89,
    "start_time": "2024-03-22T20:29:01.956Z"
   },
   {
    "duration": 9,
    "start_time": "2024-03-22T20:29:02.047Z"
   },
   {
    "duration": 200,
    "start_time": "2024-03-22T20:29:02.058Z"
   },
   {
    "duration": 10,
    "start_time": "2024-03-22T20:29:02.260Z"
   },
   {
    "duration": 154,
    "start_time": "2024-03-22T20:29:02.281Z"
   },
   {
    "duration": 9,
    "start_time": "2024-03-22T20:29:02.437Z"
   },
   {
    "duration": 229,
    "start_time": "2024-03-22T20:29:02.456Z"
   },
   {
    "duration": 72,
    "start_time": "2024-03-22T20:29:02.687Z"
   },
   {
    "duration": 0,
    "start_time": "2024-03-22T20:29:02.762Z"
   },
   {
    "duration": 0,
    "start_time": "2024-03-22T20:29:02.763Z"
   },
   {
    "duration": 0,
    "start_time": "2024-03-22T20:29:02.764Z"
   },
   {
    "duration": 0,
    "start_time": "2024-03-22T20:29:02.766Z"
   },
   {
    "duration": 0,
    "start_time": "2024-03-22T20:29:02.767Z"
   },
   {
    "duration": 0,
    "start_time": "2024-03-22T20:29:02.768Z"
   },
   {
    "duration": 0,
    "start_time": "2024-03-22T20:29:02.770Z"
   },
   {
    "duration": 0,
    "start_time": "2024-03-22T20:29:02.771Z"
   },
   {
    "duration": 0,
    "start_time": "2024-03-22T20:29:02.772Z"
   },
   {
    "duration": 0,
    "start_time": "2024-03-22T20:29:02.773Z"
   },
   {
    "duration": 0,
    "start_time": "2024-03-22T20:29:02.774Z"
   },
   {
    "duration": 0,
    "start_time": "2024-03-22T20:29:02.775Z"
   },
   {
    "duration": 0,
    "start_time": "2024-03-22T20:29:02.776Z"
   },
   {
    "duration": 0,
    "start_time": "2024-03-22T20:29:02.777Z"
   },
   {
    "duration": 0,
    "start_time": "2024-03-22T20:29:02.778Z"
   },
   {
    "duration": 0,
    "start_time": "2024-03-22T20:29:02.779Z"
   },
   {
    "duration": 0,
    "start_time": "2024-03-22T20:29:02.780Z"
   },
   {
    "duration": 0,
    "start_time": "2024-03-22T20:29:02.782Z"
   },
   {
    "duration": 0,
    "start_time": "2024-03-22T20:29:02.784Z"
   },
   {
    "duration": 0,
    "start_time": "2024-03-22T20:29:02.785Z"
   },
   {
    "duration": 0,
    "start_time": "2024-03-22T20:29:02.786Z"
   },
   {
    "duration": 0,
    "start_time": "2024-03-22T20:29:02.787Z"
   },
   {
    "duration": 0,
    "start_time": "2024-03-22T20:29:02.789Z"
   },
   {
    "duration": 0,
    "start_time": "2024-03-22T20:29:02.790Z"
   },
   {
    "duration": 0,
    "start_time": "2024-03-22T20:29:02.791Z"
   },
   {
    "duration": 0,
    "start_time": "2024-03-22T20:29:02.792Z"
   },
   {
    "duration": 0,
    "start_time": "2024-03-22T20:29:02.794Z"
   },
   {
    "duration": 0,
    "start_time": "2024-03-22T20:29:02.795Z"
   },
   {
    "duration": 0,
    "start_time": "2024-03-22T20:29:02.796Z"
   },
   {
    "duration": 0,
    "start_time": "2024-03-22T20:29:02.797Z"
   },
   {
    "duration": 0,
    "start_time": "2024-03-22T20:29:02.798Z"
   },
   {
    "duration": 1117,
    "start_time": "2024-03-22T20:29:27.013Z"
   },
   {
    "duration": 76,
    "start_time": "2024-03-22T20:29:28.131Z"
   },
   {
    "duration": 23,
    "start_time": "2024-03-22T20:29:28.209Z"
   },
   {
    "duration": 24,
    "start_time": "2024-03-22T20:29:28.234Z"
   },
   {
    "duration": 8,
    "start_time": "2024-03-22T20:29:28.259Z"
   },
   {
    "duration": 14,
    "start_time": "2024-03-22T20:29:28.268Z"
   },
   {
    "duration": 5,
    "start_time": "2024-03-22T20:29:28.283Z"
   },
   {
    "duration": 13,
    "start_time": "2024-03-22T20:29:28.289Z"
   },
   {
    "duration": 6,
    "start_time": "2024-03-22T20:29:28.303Z"
   },
   {
    "duration": 7,
    "start_time": "2024-03-22T20:29:28.311Z"
   },
   {
    "duration": 4,
    "start_time": "2024-03-22T20:29:28.319Z"
   },
   {
    "duration": 10,
    "start_time": "2024-03-22T20:29:28.325Z"
   },
   {
    "duration": 8,
    "start_time": "2024-03-22T20:29:28.336Z"
   },
   {
    "duration": 168,
    "start_time": "2024-03-22T20:29:28.345Z"
   },
   {
    "duration": 90,
    "start_time": "2024-03-22T20:29:28.514Z"
   },
   {
    "duration": 7,
    "start_time": "2024-03-22T20:29:28.605Z"
   },
   {
    "duration": 181,
    "start_time": "2024-03-22T20:29:28.614Z"
   },
   {
    "duration": 8,
    "start_time": "2024-03-22T20:29:28.797Z"
   },
   {
    "duration": 158,
    "start_time": "2024-03-22T20:29:28.807Z"
   },
   {
    "duration": 8,
    "start_time": "2024-03-22T20:29:28.966Z"
   },
   {
    "duration": 200,
    "start_time": "2024-03-22T20:29:28.982Z"
   },
   {
    "duration": 9,
    "start_time": "2024-03-22T20:29:29.183Z"
   },
   {
    "duration": 4,
    "start_time": "2024-03-22T20:29:29.194Z"
   },
   {
    "duration": 11,
    "start_time": "2024-03-22T20:29:29.200Z"
   },
   {
    "duration": 9,
    "start_time": "2024-03-22T20:29:29.212Z"
   },
   {
    "duration": 18,
    "start_time": "2024-03-22T20:29:29.222Z"
   },
   {
    "duration": 52,
    "start_time": "2024-03-22T20:29:29.242Z"
   },
   {
    "duration": 11,
    "start_time": "2024-03-22T20:29:29.298Z"
   },
   {
    "duration": 5,
    "start_time": "2024-03-22T20:29:29.310Z"
   },
   {
    "duration": 10,
    "start_time": "2024-03-22T20:29:29.316Z"
   },
   {
    "duration": 6,
    "start_time": "2024-03-22T20:29:29.328Z"
   },
   {
    "duration": 56,
    "start_time": "2024-03-22T20:29:29.335Z"
   },
   {
    "duration": 19,
    "start_time": "2024-03-22T20:29:29.393Z"
   },
   {
    "duration": 100,
    "start_time": "2024-03-22T20:29:29.413Z"
   },
   {
    "duration": 0,
    "start_time": "2024-03-22T20:29:29.515Z"
   },
   {
    "duration": 0,
    "start_time": "2024-03-22T20:29:29.516Z"
   },
   {
    "duration": 0,
    "start_time": "2024-03-22T20:29:29.518Z"
   },
   {
    "duration": 0,
    "start_time": "2024-03-22T20:29:29.519Z"
   },
   {
    "duration": 0,
    "start_time": "2024-03-22T20:29:29.520Z"
   },
   {
    "duration": 0,
    "start_time": "2024-03-22T20:29:29.522Z"
   },
   {
    "duration": 0,
    "start_time": "2024-03-22T20:29:29.523Z"
   },
   {
    "duration": 0,
    "start_time": "2024-03-22T20:29:29.524Z"
   },
   {
    "duration": 0,
    "start_time": "2024-03-22T20:29:29.524Z"
   },
   {
    "duration": 0,
    "start_time": "2024-03-22T20:29:29.525Z"
   },
   {
    "duration": 0,
    "start_time": "2024-03-22T20:29:29.527Z"
   },
   {
    "duration": 0,
    "start_time": "2024-03-22T20:29:29.528Z"
   },
   {
    "duration": 0,
    "start_time": "2024-03-22T20:29:29.529Z"
   },
   {
    "duration": 0,
    "start_time": "2024-03-22T20:29:29.530Z"
   },
   {
    "duration": 0,
    "start_time": "2024-03-22T20:29:29.531Z"
   },
   {
    "duration": 0,
    "start_time": "2024-03-22T20:29:29.532Z"
   },
   {
    "duration": 0,
    "start_time": "2024-03-22T20:29:29.533Z"
   },
   {
    "duration": 0,
    "start_time": "2024-03-22T20:29:29.534Z"
   },
   {
    "duration": 12,
    "start_time": "2024-03-22T20:30:05.372Z"
   },
   {
    "duration": 212,
    "start_time": "2024-03-22T20:30:05.904Z"
   },
   {
    "duration": 203,
    "start_time": "2024-03-22T20:30:19.796Z"
   },
   {
    "duration": 211,
    "start_time": "2024-03-22T20:30:28.947Z"
   },
   {
    "duration": 286,
    "start_time": "2024-03-22T20:31:43.393Z"
   },
   {
    "duration": 291,
    "start_time": "2024-03-22T20:32:00.753Z"
   },
   {
    "duration": 90,
    "start_time": "2024-03-22T20:32:24.446Z"
   },
   {
    "duration": 214,
    "start_time": "2024-03-22T20:32:30.621Z"
   },
   {
    "duration": 214,
    "start_time": "2024-03-22T20:33:21.171Z"
   },
   {
    "duration": 214,
    "start_time": "2024-03-22T20:33:26.123Z"
   },
   {
    "duration": 219,
    "start_time": "2024-03-22T20:33:30.521Z"
   },
   {
    "duration": 250,
    "start_time": "2024-03-22T20:33:58.787Z"
   },
   {
    "duration": 227,
    "start_time": "2024-03-22T20:34:32.415Z"
   },
   {
    "duration": 170,
    "start_time": "2024-03-22T20:34:43.497Z"
   },
   {
    "duration": 197,
    "start_time": "2024-03-22T20:34:57.923Z"
   },
   {
    "duration": 565,
    "start_time": "2024-03-22T20:35:20.937Z"
   },
   {
    "duration": 495,
    "start_time": "2024-03-22T20:35:35.959Z"
   },
   {
    "duration": 240,
    "start_time": "2024-03-22T20:36:14.198Z"
   },
   {
    "duration": 229,
    "start_time": "2024-03-22T20:36:34.613Z"
   },
   {
    "duration": 69,
    "start_time": "2024-03-22T20:48:59.691Z"
   },
   {
    "duration": 80,
    "start_time": "2024-03-22T20:53:56.471Z"
   },
   {
    "duration": 4,
    "start_time": "2024-03-22T20:54:14.507Z"
   },
   {
    "duration": 247,
    "start_time": "2024-03-22T20:54:48.810Z"
   },
   {
    "duration": 266,
    "start_time": "2024-03-22T20:55:03.625Z"
   },
   {
    "duration": 218,
    "start_time": "2024-03-22T20:55:23.272Z"
   },
   {
    "duration": 248,
    "start_time": "2024-03-22T20:55:29.280Z"
   },
   {
    "duration": 21,
    "start_time": "2024-03-22T20:59:04.782Z"
   },
   {
    "duration": 831,
    "start_time": "2024-03-22T20:59:16.869Z"
   },
   {
    "duration": 1155,
    "start_time": "2024-03-22T20:59:35.211Z"
   },
   {
    "duration": 68,
    "start_time": "2024-03-22T20:59:36.368Z"
   },
   {
    "duration": 22,
    "start_time": "2024-03-22T20:59:36.437Z"
   },
   {
    "duration": 26,
    "start_time": "2024-03-22T20:59:36.461Z"
   },
   {
    "duration": 17,
    "start_time": "2024-03-22T20:59:36.489Z"
   },
   {
    "duration": 9,
    "start_time": "2024-03-22T20:59:36.508Z"
   },
   {
    "duration": 10,
    "start_time": "2024-03-22T20:59:36.519Z"
   },
   {
    "duration": 11,
    "start_time": "2024-03-22T20:59:36.530Z"
   },
   {
    "duration": 5,
    "start_time": "2024-03-22T20:59:36.542Z"
   },
   {
    "duration": 7,
    "start_time": "2024-03-22T20:59:36.548Z"
   },
   {
    "duration": 28,
    "start_time": "2024-03-22T20:59:36.556Z"
   },
   {
    "duration": 12,
    "start_time": "2024-03-22T20:59:36.586Z"
   },
   {
    "duration": 4,
    "start_time": "2024-03-22T20:59:36.599Z"
   },
   {
    "duration": 166,
    "start_time": "2024-03-22T20:59:36.606Z"
   },
   {
    "duration": 86,
    "start_time": "2024-03-22T20:59:36.774Z"
   },
   {
    "duration": 8,
    "start_time": "2024-03-22T20:59:36.861Z"
   },
   {
    "duration": 195,
    "start_time": "2024-03-22T20:59:36.870Z"
   },
   {
    "duration": 17,
    "start_time": "2024-03-22T20:59:37.066Z"
   },
   {
    "duration": 160,
    "start_time": "2024-03-22T20:59:37.084Z"
   },
   {
    "duration": 10,
    "start_time": "2024-03-22T20:59:37.246Z"
   },
   {
    "duration": 213,
    "start_time": "2024-03-22T20:59:37.258Z"
   },
   {
    "duration": 17,
    "start_time": "2024-03-22T20:59:37.473Z"
   },
   {
    "duration": 5,
    "start_time": "2024-03-22T20:59:37.492Z"
   },
   {
    "duration": 10,
    "start_time": "2024-03-22T20:59:37.499Z"
   },
   {
    "duration": 10,
    "start_time": "2024-03-22T20:59:37.510Z"
   },
   {
    "duration": 14,
    "start_time": "2024-03-22T20:59:37.522Z"
   },
   {
    "duration": 68,
    "start_time": "2024-03-22T20:59:37.538Z"
   },
   {
    "duration": 13,
    "start_time": "2024-03-22T20:59:37.608Z"
   },
   {
    "duration": 5,
    "start_time": "2024-03-22T20:59:37.623Z"
   },
   {
    "duration": 10,
    "start_time": "2024-03-22T20:59:37.630Z"
   },
   {
    "duration": 40,
    "start_time": "2024-03-22T20:59:37.642Z"
   },
   {
    "duration": 23,
    "start_time": "2024-03-22T20:59:37.684Z"
   },
   {
    "duration": 21,
    "start_time": "2024-03-22T20:59:37.709Z"
   },
   {
    "duration": 537,
    "start_time": "2024-03-22T20:59:37.732Z"
   },
   {
    "duration": 20,
    "start_time": "2024-03-22T20:59:38.271Z"
   },
   {
    "duration": 580,
    "start_time": "2024-03-22T20:59:38.292Z"
   },
   {
    "duration": 245,
    "start_time": "2024-03-22T20:59:38.873Z"
   },
   {
    "duration": 245,
    "start_time": "2024-03-22T20:59:39.120Z"
   },
   {
    "duration": 34,
    "start_time": "2024-03-22T20:59:39.366Z"
   },
   {
    "duration": 11,
    "start_time": "2024-03-22T20:59:39.401Z"
   },
   {
    "duration": 16,
    "start_time": "2024-03-22T20:59:39.417Z"
   },
   {
    "duration": 3,
    "start_time": "2024-03-22T20:59:39.435Z"
   },
   {
    "duration": 12,
    "start_time": "2024-03-22T20:59:39.440Z"
   },
   {
    "duration": 126,
    "start_time": "2024-03-22T20:59:39.483Z"
   },
   {
    "duration": 12,
    "start_time": "2024-03-22T20:59:39.611Z"
   },
   {
    "duration": 8,
    "start_time": "2024-03-22T20:59:39.624Z"
   },
   {
    "duration": 11,
    "start_time": "2024-03-22T20:59:39.633Z"
   },
   {
    "duration": 38,
    "start_time": "2024-03-22T20:59:39.646Z"
   },
   {
    "duration": 22,
    "start_time": "2024-03-22T21:01:06.407Z"
   },
   {
    "duration": 9,
    "start_time": "2024-03-22T21:01:06.956Z"
   },
   {
    "duration": 15,
    "start_time": "2024-03-22T21:01:11.658Z"
   },
   {
    "duration": 169,
    "start_time": "2024-03-22T21:06:13.873Z"
   },
   {
    "duration": 8,
    "start_time": "2024-03-22T21:07:21.636Z"
   },
   {
    "duration": 7,
    "start_time": "2024-03-22T21:07:37.231Z"
   },
   {
    "duration": 25,
    "start_time": "2024-03-22T21:14:34.323Z"
   },
   {
    "duration": 10,
    "start_time": "2024-03-22T21:14:34.992Z"
   },
   {
    "duration": 25,
    "start_time": "2024-03-22T21:14:37.375Z"
   },
   {
    "duration": 10,
    "start_time": "2024-03-22T21:14:37.895Z"
   },
   {
    "duration": 34,
    "start_time": "2024-03-22T21:14:43.115Z"
   },
   {
    "duration": 15,
    "start_time": "2024-03-22T21:14:43.531Z"
   },
   {
    "duration": 23,
    "start_time": "2024-03-22T21:14:47.348Z"
   },
   {
    "duration": 10,
    "start_time": "2024-03-22T21:14:47.650Z"
   },
   {
    "duration": 6,
    "start_time": "2024-03-22T21:21:30.742Z"
   },
   {
    "duration": 114,
    "start_time": "2024-03-22T21:21:47.193Z"
   },
   {
    "duration": 10,
    "start_time": "2024-03-22T21:21:56.595Z"
   },
   {
    "duration": 10,
    "start_time": "2024-03-22T21:22:23.153Z"
   },
   {
    "duration": 10,
    "start_time": "2024-03-22T21:22:25.889Z"
   },
   {
    "duration": 14,
    "start_time": "2024-03-22T21:22:30.552Z"
   },
   {
    "duration": 9,
    "start_time": "2024-03-22T21:22:59.342Z"
   },
   {
    "duration": 5,
    "start_time": "2024-03-22T21:23:04.381Z"
   },
   {
    "duration": 6,
    "start_time": "2024-03-22T21:23:10.902Z"
   },
   {
    "duration": 7,
    "start_time": "2024-03-22T21:23:14.729Z"
   },
   {
    "duration": 5,
    "start_time": "2024-03-22T21:23:18.234Z"
   },
   {
    "duration": 14,
    "start_time": "2024-03-22T21:23:22.164Z"
   },
   {
    "duration": 21,
    "start_time": "2024-03-22T21:24:04.321Z"
   },
   {
    "duration": 10,
    "start_time": "2024-03-22T21:24:19.099Z"
   },
   {
    "duration": 14,
    "start_time": "2024-03-22T21:24:23.001Z"
   },
   {
    "duration": 13,
    "start_time": "2024-03-22T21:25:53.516Z"
   },
   {
    "duration": 9,
    "start_time": "2024-03-22T21:26:08.244Z"
   },
   {
    "duration": 1171,
    "start_time": "2024-03-22T21:27:54.257Z"
   },
   {
    "duration": 6,
    "start_time": "2024-03-22T21:28:00.561Z"
   },
   {
    "duration": 72,
    "start_time": "2024-03-22T21:28:10.981Z"
   },
   {
    "duration": 23,
    "start_time": "2024-03-22T21:29:20.995Z"
   },
   {
    "duration": 16,
    "start_time": "2024-03-22T21:29:27.176Z"
   },
   {
    "duration": 5,
    "start_time": "2024-03-22T21:31:03.797Z"
   },
   {
    "duration": 1228,
    "start_time": "2024-03-22T21:31:12.847Z"
   },
   {
    "duration": 81,
    "start_time": "2024-03-22T21:31:14.077Z"
   },
   {
    "duration": 24,
    "start_time": "2024-03-22T21:31:14.159Z"
   },
   {
    "duration": 43,
    "start_time": "2024-03-22T21:31:14.185Z"
   },
   {
    "duration": 8,
    "start_time": "2024-03-22T21:31:14.230Z"
   },
   {
    "duration": 16,
    "start_time": "2024-03-22T21:31:14.240Z"
   },
   {
    "duration": 31,
    "start_time": "2024-03-22T21:31:14.258Z"
   },
   {
    "duration": 12,
    "start_time": "2024-03-22T21:31:14.290Z"
   },
   {
    "duration": 6,
    "start_time": "2024-03-22T21:31:14.304Z"
   },
   {
    "duration": 20,
    "start_time": "2024-03-22T21:31:14.312Z"
   },
   {
    "duration": 5,
    "start_time": "2024-03-22T21:31:14.333Z"
   },
   {
    "duration": 10,
    "start_time": "2024-03-22T21:31:14.340Z"
   },
   {
    "duration": 5,
    "start_time": "2024-03-22T21:31:14.352Z"
   },
   {
    "duration": 180,
    "start_time": "2024-03-22T21:31:14.384Z"
   },
   {
    "duration": 97,
    "start_time": "2024-03-22T21:31:14.566Z"
   },
   {
    "duration": 20,
    "start_time": "2024-03-22T21:31:14.664Z"
   },
   {
    "duration": 204,
    "start_time": "2024-03-22T21:31:14.685Z"
   },
   {
    "duration": 12,
    "start_time": "2024-03-22T21:31:14.891Z"
   },
   {
    "duration": 214,
    "start_time": "2024-03-22T21:31:14.905Z"
   },
   {
    "duration": 12,
    "start_time": "2024-03-22T21:31:15.121Z"
   },
   {
    "duration": 241,
    "start_time": "2024-03-22T21:31:15.135Z"
   },
   {
    "duration": 32,
    "start_time": "2024-03-22T21:31:15.377Z"
   },
   {
    "duration": 121,
    "start_time": "2024-03-22T21:31:15.412Z"
   },
   {
    "duration": 0,
    "start_time": "2024-03-22T21:31:15.535Z"
   },
   {
    "duration": 0,
    "start_time": "2024-03-22T21:31:15.536Z"
   },
   {
    "duration": 0,
    "start_time": "2024-03-22T21:31:15.538Z"
   },
   {
    "duration": 0,
    "start_time": "2024-03-22T21:31:15.539Z"
   },
   {
    "duration": 0,
    "start_time": "2024-03-22T21:31:15.541Z"
   },
   {
    "duration": 0,
    "start_time": "2024-03-22T21:31:15.542Z"
   },
   {
    "duration": 0,
    "start_time": "2024-03-22T21:31:15.544Z"
   },
   {
    "duration": 0,
    "start_time": "2024-03-22T21:31:15.545Z"
   },
   {
    "duration": 0,
    "start_time": "2024-03-22T21:31:15.547Z"
   },
   {
    "duration": 0,
    "start_time": "2024-03-22T21:31:15.549Z"
   },
   {
    "duration": 0,
    "start_time": "2024-03-22T21:31:15.550Z"
   },
   {
    "duration": 0,
    "start_time": "2024-03-22T21:31:15.551Z"
   },
   {
    "duration": 0,
    "start_time": "2024-03-22T21:31:15.553Z"
   },
   {
    "duration": 0,
    "start_time": "2024-03-22T21:31:15.554Z"
   },
   {
    "duration": 0,
    "start_time": "2024-03-22T21:31:15.583Z"
   },
   {
    "duration": 0,
    "start_time": "2024-03-22T21:31:15.585Z"
   },
   {
    "duration": 0,
    "start_time": "2024-03-22T21:31:15.586Z"
   },
   {
    "duration": 0,
    "start_time": "2024-03-22T21:31:15.587Z"
   },
   {
    "duration": 0,
    "start_time": "2024-03-22T21:31:15.588Z"
   },
   {
    "duration": 0,
    "start_time": "2024-03-22T21:31:15.589Z"
   },
   {
    "duration": 0,
    "start_time": "2024-03-22T21:31:15.591Z"
   },
   {
    "duration": 0,
    "start_time": "2024-03-22T21:31:15.592Z"
   },
   {
    "duration": 0,
    "start_time": "2024-03-22T21:31:15.593Z"
   },
   {
    "duration": 0,
    "start_time": "2024-03-22T21:31:15.594Z"
   },
   {
    "duration": 0,
    "start_time": "2024-03-22T21:31:15.595Z"
   },
   {
    "duration": 3,
    "start_time": "2024-03-22T21:32:26.985Z"
   },
   {
    "duration": 11,
    "start_time": "2024-03-22T21:32:28.532Z"
   },
   {
    "duration": 6,
    "start_time": "2024-03-22T21:32:39.052Z"
   },
   {
    "duration": 1257,
    "start_time": "2024-03-22T21:32:54.980Z"
   },
   {
    "duration": 68,
    "start_time": "2024-03-22T21:32:56.239Z"
   },
   {
    "duration": 37,
    "start_time": "2024-03-22T21:32:56.308Z"
   },
   {
    "duration": 42,
    "start_time": "2024-03-22T21:32:56.349Z"
   },
   {
    "duration": 11,
    "start_time": "2024-03-22T21:32:56.394Z"
   },
   {
    "duration": 16,
    "start_time": "2024-03-22T21:32:56.408Z"
   },
   {
    "duration": 5,
    "start_time": "2024-03-22T21:32:56.426Z"
   },
   {
    "duration": 11,
    "start_time": "2024-03-22T21:32:56.433Z"
   },
   {
    "duration": 6,
    "start_time": "2024-03-22T21:32:56.446Z"
   },
   {
    "duration": 6,
    "start_time": "2024-03-22T21:32:56.481Z"
   },
   {
    "duration": 4,
    "start_time": "2024-03-22T21:32:56.489Z"
   },
   {
    "duration": 7,
    "start_time": "2024-03-22T21:32:56.495Z"
   },
   {
    "duration": 27,
    "start_time": "2024-03-22T21:32:56.504Z"
   },
   {
    "duration": 4,
    "start_time": "2024-03-22T21:32:56.533Z"
   },
   {
    "duration": 174,
    "start_time": "2024-03-22T21:32:56.539Z"
   },
   {
    "duration": 112,
    "start_time": "2024-03-22T21:32:56.715Z"
   },
   {
    "duration": 8,
    "start_time": "2024-03-22T21:32:56.829Z"
   },
   {
    "duration": 212,
    "start_time": "2024-03-22T21:32:56.838Z"
   },
   {
    "duration": 9,
    "start_time": "2024-03-22T21:32:57.052Z"
   },
   {
    "duration": 189,
    "start_time": "2024-03-22T21:32:57.062Z"
   },
   {
    "duration": 12,
    "start_time": "2024-03-22T21:32:57.254Z"
   },
   {
    "duration": 231,
    "start_time": "2024-03-22T21:32:57.269Z"
   },
   {
    "duration": 12,
    "start_time": "2024-03-22T21:32:57.502Z"
   },
   {
    "duration": 10,
    "start_time": "2024-03-22T21:32:57.517Z"
   },
   {
    "duration": 14,
    "start_time": "2024-03-22T21:32:57.529Z"
   },
   {
    "duration": 38,
    "start_time": "2024-03-22T21:32:57.546Z"
   },
   {
    "duration": 34,
    "start_time": "2024-03-22T21:32:57.587Z"
   },
   {
    "duration": 11,
    "start_time": "2024-03-22T21:32:57.626Z"
   },
   {
    "duration": 5,
    "start_time": "2024-03-22T21:32:57.639Z"
   },
   {
    "duration": 50,
    "start_time": "2024-03-22T21:32:57.646Z"
   },
   {
    "duration": 19,
    "start_time": "2024-03-22T21:32:57.698Z"
   },
   {
    "duration": 8,
    "start_time": "2024-03-22T21:32:57.719Z"
   },
   {
    "duration": 14,
    "start_time": "2024-03-22T21:32:57.729Z"
   },
   {
    "duration": 45,
    "start_time": "2024-03-22T21:32:57.745Z"
   },
   {
    "duration": 17,
    "start_time": "2024-03-22T21:32:57.792Z"
   },
   {
    "duration": 583,
    "start_time": "2024-03-22T21:32:57.811Z"
   },
   {
    "duration": 13,
    "start_time": "2024-03-22T21:32:58.395Z"
   },
   {
    "duration": 664,
    "start_time": "2024-03-22T21:32:58.410Z"
   },
   {
    "duration": 276,
    "start_time": "2024-03-22T21:32:59.083Z"
   },
   {
    "duration": 248,
    "start_time": "2024-03-22T21:32:59.360Z"
   },
   {
    "duration": 24,
    "start_time": "2024-03-22T21:32:59.609Z"
   },
   {
    "duration": 10,
    "start_time": "2024-03-22T21:32:59.635Z"
   },
   {
    "duration": 38,
    "start_time": "2024-03-22T21:32:59.646Z"
   },
   {
    "duration": 11,
    "start_time": "2024-03-22T21:32:59.685Z"
   },
   {
    "duration": 154,
    "start_time": "2024-03-22T21:32:59.698Z"
   },
   {
    "duration": 12,
    "start_time": "2024-03-22T21:32:59.854Z"
   },
   {
    "duration": 18,
    "start_time": "2024-03-22T21:32:59.868Z"
   },
   {
    "duration": 16,
    "start_time": "2024-03-22T21:32:59.888Z"
   },
   {
    "duration": 11,
    "start_time": "2024-03-22T21:32:59.906Z"
   },
   {
    "duration": 3,
    "start_time": "2024-03-22T21:33:26.974Z"
   },
   {
    "duration": 101,
    "start_time": "2024-03-22T21:33:28.164Z"
   },
   {
    "duration": 12,
    "start_time": "2024-03-22T21:33:35.383Z"
   },
   {
    "duration": 11,
    "start_time": "2024-03-22T21:33:40.999Z"
   },
   {
    "duration": 8,
    "start_time": "2024-03-22T21:33:48.109Z"
   },
   {
    "duration": 1149,
    "start_time": "2024-03-22T21:33:56.117Z"
   },
   {
    "duration": 72,
    "start_time": "2024-03-22T21:33:57.268Z"
   },
   {
    "duration": 27,
    "start_time": "2024-03-22T21:33:57.342Z"
   },
   {
    "duration": 40,
    "start_time": "2024-03-22T21:33:57.372Z"
   },
   {
    "duration": 8,
    "start_time": "2024-03-22T21:33:57.414Z"
   },
   {
    "duration": 11,
    "start_time": "2024-03-22T21:33:57.423Z"
   },
   {
    "duration": 6,
    "start_time": "2024-03-22T21:33:57.438Z"
   },
   {
    "duration": 42,
    "start_time": "2024-03-22T21:33:57.445Z"
   },
   {
    "duration": 6,
    "start_time": "2024-03-22T21:33:57.489Z"
   },
   {
    "duration": 5,
    "start_time": "2024-03-22T21:33:57.498Z"
   },
   {
    "duration": 5,
    "start_time": "2024-03-22T21:33:57.505Z"
   },
   {
    "duration": 9,
    "start_time": "2024-03-22T21:33:57.512Z"
   },
   {
    "duration": 16,
    "start_time": "2024-03-22T21:33:57.522Z"
   },
   {
    "duration": 8,
    "start_time": "2024-03-22T21:33:57.540Z"
   },
   {
    "duration": 188,
    "start_time": "2024-03-22T21:33:57.550Z"
   },
   {
    "duration": 98,
    "start_time": "2024-03-22T21:33:57.739Z"
   },
   {
    "duration": 8,
    "start_time": "2024-03-22T21:33:57.839Z"
   },
   {
    "duration": 226,
    "start_time": "2024-03-22T21:33:57.849Z"
   },
   {
    "duration": 13,
    "start_time": "2024-03-22T21:33:58.077Z"
   },
   {
    "duration": 174,
    "start_time": "2024-03-22T21:33:58.093Z"
   },
   {
    "duration": 15,
    "start_time": "2024-03-22T21:33:58.269Z"
   },
   {
    "duration": 211,
    "start_time": "2024-03-22T21:33:58.285Z"
   },
   {
    "duration": 10,
    "start_time": "2024-03-22T21:33:58.497Z"
   },
   {
    "duration": 129,
    "start_time": "2024-03-22T21:33:58.508Z"
   },
   {
    "duration": 0,
    "start_time": "2024-03-22T21:33:58.639Z"
   },
   {
    "duration": 0,
    "start_time": "2024-03-22T21:33:58.640Z"
   },
   {
    "duration": 0,
    "start_time": "2024-03-22T21:33:58.642Z"
   },
   {
    "duration": 0,
    "start_time": "2024-03-22T21:33:58.643Z"
   },
   {
    "duration": 0,
    "start_time": "2024-03-22T21:33:58.644Z"
   },
   {
    "duration": 0,
    "start_time": "2024-03-22T21:33:58.645Z"
   },
   {
    "duration": 0,
    "start_time": "2024-03-22T21:33:58.648Z"
   },
   {
    "duration": 0,
    "start_time": "2024-03-22T21:33:58.649Z"
   },
   {
    "duration": 0,
    "start_time": "2024-03-22T21:33:58.651Z"
   },
   {
    "duration": 0,
    "start_time": "2024-03-22T21:33:58.652Z"
   },
   {
    "duration": 0,
    "start_time": "2024-03-22T21:33:58.654Z"
   },
   {
    "duration": 0,
    "start_time": "2024-03-22T21:33:58.682Z"
   },
   {
    "duration": 0,
    "start_time": "2024-03-22T21:33:58.683Z"
   },
   {
    "duration": 0,
    "start_time": "2024-03-22T21:33:58.684Z"
   },
   {
    "duration": 0,
    "start_time": "2024-03-22T21:33:58.685Z"
   },
   {
    "duration": 0,
    "start_time": "2024-03-22T21:33:58.686Z"
   },
   {
    "duration": 0,
    "start_time": "2024-03-22T21:33:58.687Z"
   },
   {
    "duration": 0,
    "start_time": "2024-03-22T21:33:58.688Z"
   },
   {
    "duration": 0,
    "start_time": "2024-03-22T21:33:58.689Z"
   },
   {
    "duration": 0,
    "start_time": "2024-03-22T21:33:58.691Z"
   },
   {
    "duration": 0,
    "start_time": "2024-03-22T21:33:58.692Z"
   },
   {
    "duration": 0,
    "start_time": "2024-03-22T21:33:58.693Z"
   },
   {
    "duration": 0,
    "start_time": "2024-03-22T21:33:58.694Z"
   },
   {
    "duration": 0,
    "start_time": "2024-03-22T21:33:58.696Z"
   },
   {
    "duration": 0,
    "start_time": "2024-03-22T21:33:58.697Z"
   },
   {
    "duration": 6,
    "start_time": "2024-03-22T21:36:33.595Z"
   },
   {
    "duration": 4,
    "start_time": "2024-03-22T21:36:35.233Z"
   },
   {
    "duration": 12,
    "start_time": "2024-03-22T21:36:37.526Z"
   },
   {
    "duration": 5,
    "start_time": "2024-03-22T21:36:39.298Z"
   },
   {
    "duration": 7,
    "start_time": "2024-03-22T21:36:52.010Z"
   },
   {
    "duration": 5,
    "start_time": "2024-03-22T21:37:00.417Z"
   },
   {
    "duration": 5,
    "start_time": "2024-03-22T21:37:08.730Z"
   },
   {
    "duration": 5,
    "start_time": "2024-03-22T21:37:09.470Z"
   },
   {
    "duration": 13,
    "start_time": "2024-03-22T21:37:09.882Z"
   },
   {
    "duration": 6,
    "start_time": "2024-03-22T21:37:10.538Z"
   },
   {
    "duration": 18,
    "start_time": "2024-03-22T21:37:16.775Z"
   },
   {
    "duration": 6,
    "start_time": "2024-03-22T21:37:30.877Z"
   },
   {
    "duration": 6,
    "start_time": "2024-03-22T21:37:38.126Z"
   },
   {
    "duration": 16,
    "start_time": "2024-03-22T21:37:38.889Z"
   },
   {
    "duration": 13,
    "start_time": "2024-03-22T21:37:43.421Z"
   },
   {
    "duration": 12,
    "start_time": "2024-03-22T21:37:57.379Z"
   },
   {
    "duration": 11,
    "start_time": "2024-03-22T21:37:57.935Z"
   },
   {
    "duration": 12,
    "start_time": "2024-03-22T21:37:58.281Z"
   },
   {
    "duration": 12,
    "start_time": "2024-03-22T21:38:38.814Z"
   },
   {
    "duration": 11,
    "start_time": "2024-03-22T21:39:20.660Z"
   },
   {
    "duration": 1349,
    "start_time": "2024-03-22T21:39:33.190Z"
   },
   {
    "duration": 88,
    "start_time": "2024-03-22T21:39:34.542Z"
   },
   {
    "duration": 28,
    "start_time": "2024-03-22T21:39:34.631Z"
   },
   {
    "duration": 38,
    "start_time": "2024-03-22T21:39:34.661Z"
   },
   {
    "duration": 13,
    "start_time": "2024-03-22T21:39:34.702Z"
   },
   {
    "duration": 19,
    "start_time": "2024-03-22T21:39:34.717Z"
   },
   {
    "duration": 7,
    "start_time": "2024-03-22T21:39:34.738Z"
   },
   {
    "duration": 39,
    "start_time": "2024-03-22T21:39:34.746Z"
   },
   {
    "duration": 8,
    "start_time": "2024-03-22T21:39:34.787Z"
   },
   {
    "duration": 11,
    "start_time": "2024-03-22T21:39:34.797Z"
   },
   {
    "duration": 9,
    "start_time": "2024-03-22T21:39:34.809Z"
   },
   {
    "duration": 4,
    "start_time": "2024-03-22T21:39:34.820Z"
   },
   {
    "duration": 7,
    "start_time": "2024-03-22T21:39:34.825Z"
   },
   {
    "duration": 50,
    "start_time": "2024-03-22T21:39:34.835Z"
   },
   {
    "duration": 10,
    "start_time": "2024-03-22T21:39:34.886Z"
   },
   {
    "duration": 171,
    "start_time": "2024-03-22T21:39:34.898Z"
   },
   {
    "duration": 122,
    "start_time": "2024-03-22T21:39:35.072Z"
   },
   {
    "duration": 12,
    "start_time": "2024-03-22T21:39:35.196Z"
   },
   {
    "duration": 213,
    "start_time": "2024-03-22T21:39:35.210Z"
   },
   {
    "duration": 10,
    "start_time": "2024-03-22T21:39:35.425Z"
   },
   {
    "duration": 195,
    "start_time": "2024-03-22T21:39:35.437Z"
   },
   {
    "duration": 9,
    "start_time": "2024-03-22T21:39:35.634Z"
   },
   {
    "duration": 232,
    "start_time": "2024-03-22T21:39:35.646Z"
   },
   {
    "duration": 12,
    "start_time": "2024-03-22T21:39:35.882Z"
   },
   {
    "duration": 142,
    "start_time": "2024-03-22T21:39:35.897Z"
   },
   {
    "duration": 0,
    "start_time": "2024-03-22T21:39:36.042Z"
   },
   {
    "duration": 0,
    "start_time": "2024-03-22T21:39:36.044Z"
   },
   {
    "duration": 0,
    "start_time": "2024-03-22T21:39:36.045Z"
   },
   {
    "duration": 0,
    "start_time": "2024-03-22T21:39:36.046Z"
   },
   {
    "duration": 0,
    "start_time": "2024-03-22T21:39:36.048Z"
   },
   {
    "duration": 0,
    "start_time": "2024-03-22T21:39:36.050Z"
   },
   {
    "duration": 0,
    "start_time": "2024-03-22T21:39:36.052Z"
   },
   {
    "duration": 0,
    "start_time": "2024-03-22T21:39:36.053Z"
   },
   {
    "duration": 0,
    "start_time": "2024-03-22T21:39:36.054Z"
   },
   {
    "duration": 0,
    "start_time": "2024-03-22T21:39:36.056Z"
   },
   {
    "duration": 0,
    "start_time": "2024-03-22T21:39:36.057Z"
   },
   {
    "duration": 0,
    "start_time": "2024-03-22T21:39:36.084Z"
   },
   {
    "duration": 0,
    "start_time": "2024-03-22T21:39:36.085Z"
   },
   {
    "duration": 0,
    "start_time": "2024-03-22T21:39:36.087Z"
   },
   {
    "duration": 0,
    "start_time": "2024-03-22T21:39:36.089Z"
   },
   {
    "duration": 0,
    "start_time": "2024-03-22T21:39:36.091Z"
   },
   {
    "duration": 0,
    "start_time": "2024-03-22T21:39:36.094Z"
   },
   {
    "duration": 0,
    "start_time": "2024-03-22T21:39:36.095Z"
   },
   {
    "duration": 0,
    "start_time": "2024-03-22T21:39:36.097Z"
   },
   {
    "duration": 0,
    "start_time": "2024-03-22T21:39:36.098Z"
   },
   {
    "duration": 0,
    "start_time": "2024-03-22T21:39:36.100Z"
   },
   {
    "duration": 0,
    "start_time": "2024-03-22T21:39:36.101Z"
   },
   {
    "duration": 0,
    "start_time": "2024-03-22T21:39:36.103Z"
   },
   {
    "duration": 0,
    "start_time": "2024-03-22T21:39:36.104Z"
   },
   {
    "duration": 0,
    "start_time": "2024-03-22T21:39:36.105Z"
   },
   {
    "duration": 16,
    "start_time": "2024-03-22T21:40:19.862Z"
   },
   {
    "duration": 6,
    "start_time": "2024-03-22T21:40:43.166Z"
   },
   {
    "duration": 5,
    "start_time": "2024-03-22T21:40:46.680Z"
   },
   {
    "duration": 5,
    "start_time": "2024-03-22T21:40:47.819Z"
   },
   {
    "duration": 13,
    "start_time": "2024-03-22T21:40:48.637Z"
   },
   {
    "duration": 5,
    "start_time": "2024-03-22T21:42:20.097Z"
   },
   {
    "duration": 5,
    "start_time": "2024-03-22T21:42:21.285Z"
   },
   {
    "duration": 9,
    "start_time": "2024-03-22T21:42:29.563Z"
   },
   {
    "duration": 1231,
    "start_time": "2024-03-22T21:42:38.134Z"
   },
   {
    "duration": 70,
    "start_time": "2024-03-22T21:42:39.366Z"
   },
   {
    "duration": 25,
    "start_time": "2024-03-22T21:42:39.438Z"
   },
   {
    "duration": 44,
    "start_time": "2024-03-22T21:42:39.465Z"
   },
   {
    "duration": 11,
    "start_time": "2024-03-22T21:42:39.512Z"
   },
   {
    "duration": 8,
    "start_time": "2024-03-22T21:42:39.526Z"
   },
   {
    "duration": 7,
    "start_time": "2024-03-22T21:42:39.536Z"
   },
   {
    "duration": 46,
    "start_time": "2024-03-22T21:42:39.545Z"
   },
   {
    "duration": 10,
    "start_time": "2024-03-22T21:42:39.593Z"
   },
   {
    "duration": 27,
    "start_time": "2024-03-22T21:42:39.606Z"
   },
   {
    "duration": 22,
    "start_time": "2024-03-22T21:42:39.634Z"
   },
   {
    "duration": 15,
    "start_time": "2024-03-22T21:42:39.657Z"
   },
   {
    "duration": 24,
    "start_time": "2024-03-22T21:42:39.674Z"
   },
   {
    "duration": 11,
    "start_time": "2024-03-22T21:42:39.703Z"
   },
   {
    "duration": 9,
    "start_time": "2024-03-22T21:42:39.715Z"
   },
   {
    "duration": 172,
    "start_time": "2024-03-22T21:42:39.726Z"
   },
   {
    "duration": 130,
    "start_time": "2024-03-22T21:42:39.900Z"
   },
   {
    "duration": 11,
    "start_time": "2024-03-22T21:42:40.033Z"
   },
   {
    "duration": 209,
    "start_time": "2024-03-22T21:42:40.046Z"
   },
   {
    "duration": 9,
    "start_time": "2024-03-22T21:42:40.256Z"
   },
   {
    "duration": 190,
    "start_time": "2024-03-22T21:42:40.266Z"
   },
   {
    "duration": 9,
    "start_time": "2024-03-22T21:42:40.457Z"
   },
   {
    "duration": 215,
    "start_time": "2024-03-22T21:42:40.467Z"
   },
   {
    "duration": 10,
    "start_time": "2024-03-22T21:42:40.684Z"
   },
   {
    "duration": 11,
    "start_time": "2024-03-22T21:42:40.697Z"
   },
   {
    "duration": 15,
    "start_time": "2024-03-22T21:42:40.710Z"
   },
   {
    "duration": 11,
    "start_time": "2024-03-22T21:42:40.727Z"
   },
   {
    "duration": 77,
    "start_time": "2024-03-22T21:42:40.740Z"
   },
   {
    "duration": 11,
    "start_time": "2024-03-22T21:42:40.820Z"
   },
   {
    "duration": 5,
    "start_time": "2024-03-22T21:42:40.833Z"
   },
   {
    "duration": 43,
    "start_time": "2024-03-22T21:42:40.840Z"
   },
   {
    "duration": 27,
    "start_time": "2024-03-22T21:42:40.886Z"
   },
   {
    "duration": 10,
    "start_time": "2024-03-22T21:42:40.915Z"
   },
   {
    "duration": 8,
    "start_time": "2024-03-22T21:42:40.927Z"
   },
   {
    "duration": 54,
    "start_time": "2024-03-22T21:42:40.937Z"
   },
   {
    "duration": 22,
    "start_time": "2024-03-22T21:42:40.994Z"
   },
   {
    "duration": 544,
    "start_time": "2024-03-22T21:42:41.018Z"
   },
   {
    "duration": 27,
    "start_time": "2024-03-22T21:42:41.564Z"
   },
   {
    "duration": 614,
    "start_time": "2024-03-22T21:42:41.593Z"
   },
   {
    "duration": 291,
    "start_time": "2024-03-22T21:42:42.209Z"
   },
   {
    "duration": 296,
    "start_time": "2024-03-22T21:42:42.506Z"
   },
   {
    "duration": 26,
    "start_time": "2024-03-22T21:42:42.804Z"
   },
   {
    "duration": 9,
    "start_time": "2024-03-22T21:42:42.832Z"
   },
   {
    "duration": 40,
    "start_time": "2024-03-22T21:42:42.843Z"
   },
   {
    "duration": 12,
    "start_time": "2024-03-22T21:42:42.885Z"
   },
   {
    "duration": 171,
    "start_time": "2024-03-22T21:42:42.899Z"
   },
   {
    "duration": 22,
    "start_time": "2024-03-22T21:42:43.072Z"
   },
   {
    "duration": 9,
    "start_time": "2024-03-22T21:42:43.096Z"
   },
   {
    "duration": 10,
    "start_time": "2024-03-22T21:42:43.107Z"
   },
   {
    "duration": 15,
    "start_time": "2024-03-22T21:42:43.120Z"
   },
   {
    "duration": 4,
    "start_time": "2024-03-22T21:43:36.633Z"
   },
   {
    "duration": 6,
    "start_time": "2024-03-22T21:44:02.833Z"
   },
   {
    "duration": 5,
    "start_time": "2024-03-22T21:44:03.052Z"
   },
   {
    "duration": 11,
    "start_time": "2024-03-22T21:44:03.526Z"
   },
   {
    "duration": 78,
    "start_time": "2024-03-22T21:46:31.212Z"
   },
   {
    "duration": 34,
    "start_time": "2024-03-22T21:47:50.849Z"
   },
   {
    "duration": 71,
    "start_time": "2024-03-22T21:49:42.481Z"
   },
   {
    "duration": 7,
    "start_time": "2024-03-22T21:51:41.679Z"
   },
   {
    "duration": 6,
    "start_time": "2024-03-22T21:51:50.351Z"
   },
   {
    "duration": 8,
    "start_time": "2024-03-22T21:51:55.680Z"
   },
   {
    "duration": 595,
    "start_time": "2024-03-22T21:52:57.676Z"
   },
   {
    "duration": 721,
    "start_time": "2024-03-22T21:53:16.671Z"
   },
   {
    "duration": 551,
    "start_time": "2024-03-22T21:53:29.668Z"
   },
   {
    "duration": 685,
    "start_time": "2024-03-22T21:53:42.654Z"
   },
   {
    "duration": 332,
    "start_time": "2024-03-22T21:54:12.393Z"
   },
   {
    "duration": 274,
    "start_time": "2024-03-22T21:54:46.408Z"
   },
   {
    "duration": 257,
    "start_time": "2024-03-22T21:54:50.638Z"
   },
   {
    "duration": 24,
    "start_time": "2024-03-22T21:54:58.899Z"
   },
   {
    "duration": 16,
    "start_time": "2024-03-22T21:54:59.281Z"
   },
   {
    "duration": 24,
    "start_time": "2024-03-22T21:55:03.402Z"
   },
   {
    "duration": 14,
    "start_time": "2024-03-22T21:55:03.590Z"
   },
   {
    "duration": 36,
    "start_time": "2024-03-22T21:55:17.072Z"
   },
   {
    "duration": 1241,
    "start_time": "2024-03-22T21:55:40.112Z"
   },
   {
    "duration": 75,
    "start_time": "2024-03-22T21:55:41.355Z"
   },
   {
    "duration": 26,
    "start_time": "2024-03-22T21:55:41.432Z"
   },
   {
    "duration": 35,
    "start_time": "2024-03-22T21:55:41.460Z"
   },
   {
    "duration": 12,
    "start_time": "2024-03-22T21:55:41.497Z"
   },
   {
    "duration": 7,
    "start_time": "2024-03-22T21:55:41.511Z"
   },
   {
    "duration": 8,
    "start_time": "2024-03-22T21:55:41.520Z"
   },
   {
    "duration": 13,
    "start_time": "2024-03-22T21:55:41.530Z"
   },
   {
    "duration": 52,
    "start_time": "2024-03-22T21:55:41.545Z"
   },
   {
    "duration": 6,
    "start_time": "2024-03-22T21:55:41.601Z"
   },
   {
    "duration": 12,
    "start_time": "2024-03-22T21:55:41.612Z"
   },
   {
    "duration": 7,
    "start_time": "2024-03-22T21:55:41.626Z"
   },
   {
    "duration": 13,
    "start_time": "2024-03-22T21:55:41.635Z"
   },
   {
    "duration": 11,
    "start_time": "2024-03-22T21:55:41.650Z"
   },
   {
    "duration": 204,
    "start_time": "2024-03-22T21:55:41.662Z"
   },
   {
    "duration": 125,
    "start_time": "2024-03-22T21:55:41.868Z"
   },
   {
    "duration": 10,
    "start_time": "2024-03-22T21:55:41.997Z"
   },
   {
    "duration": 250,
    "start_time": "2024-03-22T21:55:42.009Z"
   },
   {
    "duration": 12,
    "start_time": "2024-03-22T21:55:42.261Z"
   },
   {
    "duration": 180,
    "start_time": "2024-03-22T21:55:42.275Z"
   },
   {
    "duration": 11,
    "start_time": "2024-03-22T21:55:42.458Z"
   },
   {
    "duration": 280,
    "start_time": "2024-03-22T21:55:42.482Z"
   },
   {
    "duration": 24,
    "start_time": "2024-03-22T21:55:42.764Z"
   },
   {
    "duration": 20,
    "start_time": "2024-03-22T21:55:42.793Z"
   },
   {
    "duration": 14,
    "start_time": "2024-03-22T21:55:42.815Z"
   },
   {
    "duration": 14,
    "start_time": "2024-03-22T21:55:42.831Z"
   },
   {
    "duration": 48,
    "start_time": "2024-03-22T21:55:42.847Z"
   },
   {
    "duration": 15,
    "start_time": "2024-03-22T21:55:42.900Z"
   },
   {
    "duration": 5,
    "start_time": "2024-03-22T21:55:42.917Z"
   },
   {
    "duration": 12,
    "start_time": "2024-03-22T21:55:42.924Z"
   },
   {
    "duration": 8,
    "start_time": "2024-03-22T21:55:42.938Z"
   },
   {
    "duration": 37,
    "start_time": "2024-03-22T21:55:42.985Z"
   },
   {
    "duration": 7,
    "start_time": "2024-03-22T21:55:43.024Z"
   },
   {
    "duration": 18,
    "start_time": "2024-03-22T21:55:43.032Z"
   },
   {
    "duration": 655,
    "start_time": "2024-03-22T21:55:43.051Z"
   },
   {
    "duration": 17,
    "start_time": "2024-03-22T21:55:43.708Z"
   },
   {
    "duration": 858,
    "start_time": "2024-03-22T21:55:43.727Z"
   },
   {
    "duration": 342,
    "start_time": "2024-03-22T21:55:44.588Z"
   },
   {
    "duration": 320,
    "start_time": "2024-03-22T21:55:44.932Z"
   },
   {
    "duration": 24,
    "start_time": "2024-03-22T21:55:45.254Z"
   },
   {
    "duration": 50,
    "start_time": "2024-03-22T21:55:45.280Z"
   },
   {
    "duration": 51,
    "start_time": "2024-03-22T21:55:45.332Z"
   },
   {
    "duration": 46,
    "start_time": "2024-03-22T21:55:45.386Z"
   },
   {
    "duration": 273,
    "start_time": "2024-03-22T21:55:45.434Z"
   },
   {
    "duration": 16,
    "start_time": "2024-03-22T21:55:45.710Z"
   },
   {
    "duration": 16,
    "start_time": "2024-03-22T21:55:45.728Z"
   },
   {
    "duration": 18,
    "start_time": "2024-03-22T21:55:45.747Z"
   },
   {
    "duration": 28,
    "start_time": "2024-03-22T21:55:45.767Z"
   },
   {
    "duration": 25,
    "start_time": "2024-03-22T21:56:16.708Z"
   },
   {
    "duration": 15,
    "start_time": "2024-03-22T21:56:17.688Z"
   },
   {
    "duration": 29,
    "start_time": "2024-03-22T21:56:30.872Z"
   },
   {
    "duration": 12,
    "start_time": "2024-03-22T21:56:31.174Z"
   },
   {
    "duration": 22,
    "start_time": "2024-03-22T21:56:39.611Z"
   },
   {
    "duration": 10,
    "start_time": "2024-03-22T21:56:40.219Z"
   },
   {
    "duration": 1207,
    "start_time": "2024-03-22T21:56:55.173Z"
   },
   {
    "duration": 78,
    "start_time": "2024-03-22T21:56:56.382Z"
   },
   {
    "duration": 42,
    "start_time": "2024-03-22T21:56:56.461Z"
   },
   {
    "duration": 29,
    "start_time": "2024-03-22T21:56:56.505Z"
   },
   {
    "duration": 8,
    "start_time": "2024-03-22T21:56:56.536Z"
   },
   {
    "duration": 10,
    "start_time": "2024-03-22T21:56:56.545Z"
   },
   {
    "duration": 31,
    "start_time": "2024-03-22T21:56:56.557Z"
   },
   {
    "duration": 15,
    "start_time": "2024-03-22T21:56:56.590Z"
   },
   {
    "duration": 8,
    "start_time": "2024-03-22T21:56:56.606Z"
   },
   {
    "duration": 5,
    "start_time": "2024-03-22T21:56:56.618Z"
   },
   {
    "duration": 6,
    "start_time": "2024-03-22T21:56:56.625Z"
   },
   {
    "duration": 12,
    "start_time": "2024-03-22T21:56:56.633Z"
   },
   {
    "duration": 40,
    "start_time": "2024-03-22T21:56:56.647Z"
   },
   {
    "duration": 13,
    "start_time": "2024-03-22T21:56:56.698Z"
   },
   {
    "duration": 181,
    "start_time": "2024-03-22T21:56:56.712Z"
   },
   {
    "duration": 97,
    "start_time": "2024-03-22T21:56:56.895Z"
   },
   {
    "duration": 9,
    "start_time": "2024-03-22T21:56:56.996Z"
   },
   {
    "duration": 211,
    "start_time": "2024-03-22T21:56:57.006Z"
   },
   {
    "duration": 10,
    "start_time": "2024-03-22T21:56:57.218Z"
   },
   {
    "duration": 186,
    "start_time": "2024-03-22T21:56:57.230Z"
   },
   {
    "duration": 9,
    "start_time": "2024-03-22T21:56:57.417Z"
   },
   {
    "duration": 226,
    "start_time": "2024-03-22T21:56:57.427Z"
   },
   {
    "duration": 9,
    "start_time": "2024-03-22T21:56:57.655Z"
   },
   {
    "duration": 33,
    "start_time": "2024-03-22T21:56:57.666Z"
   },
   {
    "duration": 21,
    "start_time": "2024-03-22T21:56:57.701Z"
   },
   {
    "duration": 10,
    "start_time": "2024-03-22T21:56:57.723Z"
   },
   {
    "duration": 51,
    "start_time": "2024-03-22T21:56:57.734Z"
   },
   {
    "duration": 16,
    "start_time": "2024-03-22T21:56:57.791Z"
   },
   {
    "duration": 6,
    "start_time": "2024-03-22T21:56:57.809Z"
   },
   {
    "duration": 14,
    "start_time": "2024-03-22T21:56:57.816Z"
   },
   {
    "duration": 7,
    "start_time": "2024-03-22T21:56:57.832Z"
   },
   {
    "duration": 58,
    "start_time": "2024-03-22T21:56:57.841Z"
   },
   {
    "duration": 10,
    "start_time": "2024-03-22T21:56:57.901Z"
   },
   {
    "duration": 23,
    "start_time": "2024-03-22T21:56:57.916Z"
   },
   {
    "duration": 607,
    "start_time": "2024-03-22T21:56:57.943Z"
   },
   {
    "duration": 13,
    "start_time": "2024-03-22T21:56:58.551Z"
   },
   {
    "duration": 641,
    "start_time": "2024-03-22T21:56:58.566Z"
   },
   {
    "duration": 268,
    "start_time": "2024-03-22T21:56:59.208Z"
   },
   {
    "duration": 282,
    "start_time": "2024-03-22T21:56:59.478Z"
   },
   {
    "duration": 41,
    "start_time": "2024-03-22T21:56:59.761Z"
   },
   {
    "duration": 10,
    "start_time": "2024-03-22T21:56:59.804Z"
   },
   {
    "duration": 21,
    "start_time": "2024-03-22T21:56:59.816Z"
   },
   {
    "duration": 13,
    "start_time": "2024-03-22T21:56:59.839Z"
   },
   {
    "duration": 197,
    "start_time": "2024-03-22T21:56:59.854Z"
   },
   {
    "duration": 12,
    "start_time": "2024-03-22T21:57:00.053Z"
   },
   {
    "duration": 37,
    "start_time": "2024-03-22T21:57:00.067Z"
   },
   {
    "duration": 150,
    "start_time": "2024-03-22T21:57:00.105Z"
   },
   {
    "duration": 122,
    "start_time": "2024-03-22T21:57:00.257Z"
   },
   {
    "duration": 22,
    "start_time": "2024-03-22T21:57:24.846Z"
   },
   {
    "duration": 10,
    "start_time": "2024-03-22T21:57:25.305Z"
   },
   {
    "duration": 1218,
    "start_time": "2024-03-22T21:57:31.455Z"
   },
   {
    "duration": 72,
    "start_time": "2024-03-22T21:57:32.675Z"
   },
   {
    "duration": 24,
    "start_time": "2024-03-22T21:57:32.748Z"
   },
   {
    "duration": 52,
    "start_time": "2024-03-22T21:57:32.773Z"
   },
   {
    "duration": 8,
    "start_time": "2024-03-22T21:57:32.826Z"
   },
   {
    "duration": 8,
    "start_time": "2024-03-22T21:57:32.836Z"
   },
   {
    "duration": 44,
    "start_time": "2024-03-22T21:57:32.846Z"
   },
   {
    "duration": 22,
    "start_time": "2024-03-22T21:57:32.900Z"
   },
   {
    "duration": 11,
    "start_time": "2024-03-22T21:57:32.923Z"
   },
   {
    "duration": 21,
    "start_time": "2024-03-22T21:57:32.936Z"
   },
   {
    "duration": 21,
    "start_time": "2024-03-22T21:57:32.959Z"
   },
   {
    "duration": 16,
    "start_time": "2024-03-22T21:57:32.982Z"
   },
   {
    "duration": 28,
    "start_time": "2024-03-22T21:57:32.999Z"
   },
   {
    "duration": 27,
    "start_time": "2024-03-22T21:57:33.030Z"
   },
   {
    "duration": 193,
    "start_time": "2024-03-22T21:57:33.059Z"
   },
   {
    "duration": 108,
    "start_time": "2024-03-22T21:57:33.254Z"
   },
   {
    "duration": 31,
    "start_time": "2024-03-22T21:57:33.364Z"
   },
   {
    "duration": 200,
    "start_time": "2024-03-22T21:57:33.398Z"
   },
   {
    "duration": 9,
    "start_time": "2024-03-22T21:57:33.600Z"
   },
   {
    "duration": 167,
    "start_time": "2024-03-22T21:57:33.611Z"
   },
   {
    "duration": 13,
    "start_time": "2024-03-22T21:57:33.786Z"
   },
   {
    "duration": 217,
    "start_time": "2024-03-22T21:57:33.800Z"
   },
   {
    "duration": 10,
    "start_time": "2024-03-22T21:57:34.018Z"
   },
   {
    "duration": 15,
    "start_time": "2024-03-22T21:57:34.029Z"
   },
   {
    "duration": 10,
    "start_time": "2024-03-22T21:57:34.045Z"
   },
   {
    "duration": 31,
    "start_time": "2024-03-22T21:57:34.056Z"
   },
   {
    "duration": 31,
    "start_time": "2024-03-22T21:57:34.089Z"
   },
   {
    "duration": 10,
    "start_time": "2024-03-22T21:57:34.124Z"
   },
   {
    "duration": 7,
    "start_time": "2024-03-22T21:57:34.135Z"
   },
   {
    "duration": 10,
    "start_time": "2024-03-22T21:57:34.143Z"
   },
   {
    "duration": 38,
    "start_time": "2024-03-22T21:57:34.155Z"
   },
   {
    "duration": 22,
    "start_time": "2024-03-22T21:57:34.196Z"
   },
   {
    "duration": 6,
    "start_time": "2024-03-22T21:57:34.219Z"
   },
   {
    "duration": 22,
    "start_time": "2024-03-22T21:57:34.226Z"
   },
   {
    "duration": 614,
    "start_time": "2024-03-22T21:57:34.249Z"
   },
   {
    "duration": 26,
    "start_time": "2024-03-22T21:57:34.864Z"
   },
   {
    "duration": 626,
    "start_time": "2024-03-22T21:57:34.892Z"
   },
   {
    "duration": 259,
    "start_time": "2024-03-22T21:57:35.519Z"
   },
   {
    "duration": 345,
    "start_time": "2024-03-22T21:57:35.779Z"
   },
   {
    "duration": 25,
    "start_time": "2024-03-22T21:57:36.125Z"
   },
   {
    "duration": 35,
    "start_time": "2024-03-22T21:57:36.152Z"
   },
   {
    "duration": 27,
    "start_time": "2024-03-22T21:57:36.188Z"
   },
   {
    "duration": 12,
    "start_time": "2024-03-22T21:57:36.217Z"
   },
   {
    "duration": 190,
    "start_time": "2024-03-22T21:57:36.231Z"
   },
   {
    "duration": 12,
    "start_time": "2024-03-22T21:57:36.422Z"
   },
   {
    "duration": 6,
    "start_time": "2024-03-22T21:57:36.436Z"
   },
   {
    "duration": 5,
    "start_time": "2024-03-22T21:57:36.444Z"
   },
   {
    "duration": 43,
    "start_time": "2024-03-22T21:57:36.451Z"
   },
   {
    "duration": 31,
    "start_time": "2024-03-22T21:57:58.410Z"
   },
   {
    "duration": 11,
    "start_time": "2024-03-22T21:57:58.613Z"
   },
   {
    "duration": 65,
    "start_time": "2024-03-22T21:58:57.467Z"
   },
   {
    "duration": 99,
    "start_time": "2024-03-22T21:59:31.027Z"
   },
   {
    "duration": 126,
    "start_time": "2024-03-22T22:01:39.178Z"
   },
   {
    "duration": 13,
    "start_time": "2024-03-22T22:01:43.888Z"
   },
   {
    "duration": 5,
    "start_time": "2024-03-22T22:01:46.899Z"
   },
   {
    "duration": 5,
    "start_time": "2024-03-22T22:01:50.219Z"
   },
   {
    "duration": 9,
    "start_time": "2024-03-22T22:01:50.669Z"
   },
   {
    "duration": 85,
    "start_time": "2024-03-22T22:03:00.246Z"
   },
   {
    "duration": 77,
    "start_time": "2024-03-22T22:04:22.988Z"
   },
   {
    "duration": 97,
    "start_time": "2024-03-22T22:05:45.165Z"
   },
   {
    "duration": 70,
    "start_time": "2024-03-22T22:08:47.240Z"
   },
   {
    "duration": 86,
    "start_time": "2024-03-22T22:12:17.845Z"
   },
   {
    "duration": 70,
    "start_time": "2024-03-22T22:14:46.074Z"
   },
   {
    "duration": 1187,
    "start_time": "2024-03-22T22:15:30.377Z"
   },
   {
    "duration": 75,
    "start_time": "2024-03-22T22:15:31.567Z"
   },
   {
    "duration": 24,
    "start_time": "2024-03-22T22:15:31.644Z"
   },
   {
    "duration": 54,
    "start_time": "2024-03-22T22:15:31.670Z"
   },
   {
    "duration": 32,
    "start_time": "2024-03-22T22:15:31.726Z"
   },
   {
    "duration": 41,
    "start_time": "2024-03-22T22:15:31.760Z"
   },
   {
    "duration": 19,
    "start_time": "2024-03-22T22:15:31.803Z"
   },
   {
    "duration": 13,
    "start_time": "2024-03-22T22:15:31.824Z"
   },
   {
    "duration": 6,
    "start_time": "2024-03-22T22:15:31.839Z"
   },
   {
    "duration": 24,
    "start_time": "2024-03-22T22:15:31.848Z"
   },
   {
    "duration": 7,
    "start_time": "2024-03-22T22:15:31.874Z"
   },
   {
    "duration": 18,
    "start_time": "2024-03-22T22:15:31.885Z"
   },
   {
    "duration": 9,
    "start_time": "2024-03-22T22:15:31.905Z"
   },
   {
    "duration": 22,
    "start_time": "2024-03-22T22:15:31.916Z"
   },
   {
    "duration": 15,
    "start_time": "2024-03-22T22:15:31.939Z"
   },
   {
    "duration": 178,
    "start_time": "2024-03-22T22:15:31.956Z"
   },
   {
    "duration": 95,
    "start_time": "2024-03-22T22:15:32.136Z"
   },
   {
    "duration": 8,
    "start_time": "2024-03-22T22:15:32.232Z"
   },
   {
    "duration": 221,
    "start_time": "2024-03-22T22:15:32.242Z"
   },
   {
    "duration": 25,
    "start_time": "2024-03-22T22:15:32.465Z"
   },
   {
    "duration": 206,
    "start_time": "2024-03-22T22:15:32.492Z"
   },
   {
    "duration": 10,
    "start_time": "2024-03-22T22:15:32.700Z"
   },
   {
    "duration": 221,
    "start_time": "2024-03-22T22:15:32.712Z"
   },
   {
    "duration": 10,
    "start_time": "2024-03-22T22:15:32.934Z"
   },
   {
    "duration": 12,
    "start_time": "2024-03-22T22:15:32.945Z"
   },
   {
    "duration": 38,
    "start_time": "2024-03-22T22:15:32.958Z"
   },
   {
    "duration": 12,
    "start_time": "2024-03-22T22:15:32.998Z"
   },
   {
    "duration": 33,
    "start_time": "2024-03-22T22:15:33.015Z"
   },
   {
    "duration": 11,
    "start_time": "2024-03-22T22:15:33.050Z"
   },
   {
    "duration": 36,
    "start_time": "2024-03-22T22:15:33.063Z"
   },
   {
    "duration": 12,
    "start_time": "2024-03-22T22:15:33.101Z"
   },
   {
    "duration": 9,
    "start_time": "2024-03-22T22:15:33.114Z"
   },
   {
    "duration": 37,
    "start_time": "2024-03-22T22:15:33.125Z"
   },
   {
    "duration": 11,
    "start_time": "2024-03-22T22:15:33.164Z"
   },
   {
    "duration": 31,
    "start_time": "2024-03-22T22:15:33.177Z"
   },
   {
    "duration": 556,
    "start_time": "2024-03-22T22:15:33.211Z"
   },
   {
    "duration": 23,
    "start_time": "2024-03-22T22:15:33.770Z"
   },
   {
    "duration": 675,
    "start_time": "2024-03-22T22:15:33.797Z"
   },
   {
    "duration": 277,
    "start_time": "2024-03-22T22:15:34.473Z"
   },
   {
    "duration": 265,
    "start_time": "2024-03-22T22:15:34.752Z"
   },
   {
    "duration": 23,
    "start_time": "2024-03-22T22:15:35.019Z"
   },
   {
    "duration": 18,
    "start_time": "2024-03-22T22:15:35.043Z"
   },
   {
    "duration": 35,
    "start_time": "2024-03-22T22:15:35.062Z"
   },
   {
    "duration": 33,
    "start_time": "2024-03-22T22:15:35.099Z"
   },
   {
    "duration": 175,
    "start_time": "2024-03-22T22:15:35.133Z"
   },
   {
    "duration": 12,
    "start_time": "2024-03-22T22:15:35.310Z"
   },
   {
    "duration": 17,
    "start_time": "2024-03-22T22:15:35.323Z"
   },
   {
    "duration": 7,
    "start_time": "2024-03-22T22:15:35.342Z"
   },
   {
    "duration": 57,
    "start_time": "2024-03-22T22:15:35.350Z"
   },
   {
    "duration": 143,
    "start_time": "2024-03-22T22:19:16.816Z"
   },
   {
    "duration": 140,
    "start_time": "2024-03-22T22:19:25.029Z"
   },
   {
    "duration": 22,
    "start_time": "2024-03-22T22:22:08.794Z"
   },
   {
    "duration": 1229,
    "start_time": "2024-03-22T22:25:55.649Z"
   },
   {
    "duration": 73,
    "start_time": "2024-03-22T22:25:56.879Z"
   },
   {
    "duration": 35,
    "start_time": "2024-03-22T22:25:56.954Z"
   },
   {
    "duration": 33,
    "start_time": "2024-03-22T22:25:56.993Z"
   },
   {
    "duration": 7,
    "start_time": "2024-03-22T22:25:57.028Z"
   },
   {
    "duration": 13,
    "start_time": "2024-03-22T22:25:57.037Z"
   },
   {
    "duration": 5,
    "start_time": "2024-03-22T22:25:57.052Z"
   },
   {
    "duration": 33,
    "start_time": "2024-03-22T22:25:57.058Z"
   },
   {
    "duration": 8,
    "start_time": "2024-03-22T22:25:57.102Z"
   },
   {
    "duration": 6,
    "start_time": "2024-03-22T22:25:57.113Z"
   },
   {
    "duration": 6,
    "start_time": "2024-03-22T22:25:57.120Z"
   },
   {
    "duration": 5,
    "start_time": "2024-03-22T22:25:57.127Z"
   },
   {
    "duration": 11,
    "start_time": "2024-03-22T22:25:57.134Z"
   },
   {
    "duration": 5,
    "start_time": "2024-03-22T22:25:57.147Z"
   },
   {
    "duration": 13,
    "start_time": "2024-03-22T22:25:57.186Z"
   },
   {
    "duration": 166,
    "start_time": "2024-03-22T22:25:57.201Z"
   },
   {
    "duration": 97,
    "start_time": "2024-03-22T22:25:57.369Z"
   },
   {
    "duration": 32,
    "start_time": "2024-03-22T22:25:57.468Z"
   },
   {
    "duration": 203,
    "start_time": "2024-03-22T22:25:57.502Z"
   },
   {
    "duration": 10,
    "start_time": "2024-03-22T22:25:57.707Z"
   },
   {
    "duration": 192,
    "start_time": "2024-03-22T22:25:57.719Z"
   },
   {
    "duration": 10,
    "start_time": "2024-03-22T22:25:57.913Z"
   },
   {
    "duration": 231,
    "start_time": "2024-03-22T22:25:57.925Z"
   },
   {
    "duration": 9,
    "start_time": "2024-03-22T22:25:58.157Z"
   },
   {
    "duration": 44,
    "start_time": "2024-03-22T22:25:58.168Z"
   },
   {
    "duration": 14,
    "start_time": "2024-03-22T22:25:58.214Z"
   },
   {
    "duration": 10,
    "start_time": "2024-03-22T22:25:58.230Z"
   },
   {
    "duration": 43,
    "start_time": "2024-03-22T22:25:58.243Z"
   },
   {
    "duration": 15,
    "start_time": "2024-03-22T22:25:58.288Z"
   },
   {
    "duration": 13,
    "start_time": "2024-03-22T22:25:58.305Z"
   },
   {
    "duration": 23,
    "start_time": "2024-03-22T22:25:58.320Z"
   },
   {
    "duration": 9,
    "start_time": "2024-03-22T22:25:58.345Z"
   },
   {
    "duration": 8,
    "start_time": "2024-03-22T22:25:58.356Z"
   },
   {
    "duration": 50,
    "start_time": "2024-03-22T22:25:58.366Z"
   },
   {
    "duration": 8,
    "start_time": "2024-03-22T22:25:58.418Z"
   },
   {
    "duration": 15,
    "start_time": "2024-03-22T22:25:58.428Z"
   },
   {
    "duration": 572,
    "start_time": "2024-03-22T22:25:58.445Z"
   },
   {
    "duration": 13,
    "start_time": "2024-03-22T22:25:59.018Z"
   },
   {
    "duration": 635,
    "start_time": "2024-03-22T22:25:59.032Z"
   },
   {
    "duration": 288,
    "start_time": "2024-03-22T22:25:59.669Z"
   },
   {
    "duration": 264,
    "start_time": "2024-03-22T22:25:59.959Z"
   },
   {
    "duration": 23,
    "start_time": "2024-03-22T22:26:00.225Z"
   },
   {
    "duration": 65,
    "start_time": "2024-03-22T22:26:00.249Z"
   },
   {
    "duration": 95,
    "start_time": "2024-03-22T22:26:00.316Z"
   },
   {
    "duration": 187,
    "start_time": "2024-03-22T22:26:00.412Z"
   },
   {
    "duration": 331,
    "start_time": "2024-03-22T22:26:00.601Z"
   },
   {
    "duration": 12,
    "start_time": "2024-03-22T22:26:00.934Z"
   },
   {
    "duration": 55,
    "start_time": "2024-03-22T22:26:00.947Z"
   },
   {
    "duration": 62,
    "start_time": "2024-03-22T22:26:01.004Z"
   },
   {
    "duration": 98,
    "start_time": "2024-03-22T22:26:01.068Z"
   },
   {
    "duration": 1233,
    "start_time": "2024-03-22T22:26:27.392Z"
   },
   {
    "duration": 73,
    "start_time": "2024-03-22T22:26:28.627Z"
   },
   {
    "duration": 24,
    "start_time": "2024-03-22T22:26:28.701Z"
   },
   {
    "duration": 28,
    "start_time": "2024-03-22T22:26:28.726Z"
   },
   {
    "duration": 8,
    "start_time": "2024-03-22T22:26:28.757Z"
   },
   {
    "duration": 10,
    "start_time": "2024-03-22T22:26:28.782Z"
   },
   {
    "duration": 15,
    "start_time": "2024-03-22T22:26:28.798Z"
   },
   {
    "duration": 12,
    "start_time": "2024-03-22T22:26:28.816Z"
   },
   {
    "duration": 7,
    "start_time": "2024-03-22T22:26:28.830Z"
   },
   {
    "duration": 5,
    "start_time": "2024-03-22T22:26:28.839Z"
   },
   {
    "duration": 8,
    "start_time": "2024-03-22T22:26:28.846Z"
   },
   {
    "duration": 32,
    "start_time": "2024-03-22T22:26:28.855Z"
   },
   {
    "duration": 15,
    "start_time": "2024-03-22T22:26:28.891Z"
   },
   {
    "duration": 5,
    "start_time": "2024-03-22T22:26:28.909Z"
   },
   {
    "duration": 25,
    "start_time": "2024-03-22T22:26:28.916Z"
   },
   {
    "duration": 199,
    "start_time": "2024-03-22T22:26:28.943Z"
   },
   {
    "duration": 104,
    "start_time": "2024-03-22T22:26:29.144Z"
   },
   {
    "duration": 9,
    "start_time": "2024-03-22T22:26:29.250Z"
   },
   {
    "duration": 231,
    "start_time": "2024-03-22T22:26:29.260Z"
   },
   {
    "duration": 9,
    "start_time": "2024-03-22T22:26:29.496Z"
   },
   {
    "duration": 161,
    "start_time": "2024-03-22T22:26:29.508Z"
   },
   {
    "duration": 26,
    "start_time": "2024-03-22T22:26:29.671Z"
   },
   {
    "duration": 223,
    "start_time": "2024-03-22T22:26:29.699Z"
   },
   {
    "duration": 8,
    "start_time": "2024-03-22T22:26:29.924Z"
   },
   {
    "duration": 10,
    "start_time": "2024-03-22T22:26:29.934Z"
   },
   {
    "duration": 12,
    "start_time": "2024-03-22T22:26:29.946Z"
   },
   {
    "duration": 38,
    "start_time": "2024-03-22T22:26:29.960Z"
   },
   {
    "duration": 27,
    "start_time": "2024-03-22T22:26:30.000Z"
   },
   {
    "duration": 50,
    "start_time": "2024-03-22T22:26:30.028Z"
   },
   {
    "duration": 60,
    "start_time": "2024-03-22T22:26:30.080Z"
   },
   {
    "duration": 79,
    "start_time": "2024-03-22T22:26:30.142Z"
   },
   {
    "duration": 66,
    "start_time": "2024-03-22T22:26:30.223Z"
   },
   {
    "duration": 56,
    "start_time": "2024-03-22T22:26:30.291Z"
   },
   {
    "duration": 113,
    "start_time": "2024-03-22T22:26:30.349Z"
   },
   {
    "duration": 47,
    "start_time": "2024-03-22T22:26:30.464Z"
   },
   {
    "duration": 81,
    "start_time": "2024-03-22T22:26:30.514Z"
   },
   {
    "duration": 627,
    "start_time": "2024-03-22T22:26:30.602Z"
   },
   {
    "duration": 14,
    "start_time": "2024-03-22T22:26:31.231Z"
   },
   {
    "duration": 657,
    "start_time": "2024-03-22T22:26:31.248Z"
   },
   {
    "duration": 265,
    "start_time": "2024-03-22T22:26:31.907Z"
   },
   {
    "duration": 256,
    "start_time": "2024-03-22T22:26:32.177Z"
   },
   {
    "duration": 24,
    "start_time": "2024-03-22T22:26:32.434Z"
   },
   {
    "duration": 28,
    "start_time": "2024-03-22T22:26:32.459Z"
   },
   {
    "duration": 27,
    "start_time": "2024-03-22T22:26:32.489Z"
   },
   {
    "duration": 13,
    "start_time": "2024-03-22T22:26:32.519Z"
   },
   {
    "duration": 199,
    "start_time": "2024-03-22T22:26:32.534Z"
   },
   {
    "duration": 12,
    "start_time": "2024-03-22T22:26:32.734Z"
   },
   {
    "duration": 18,
    "start_time": "2024-03-22T22:26:32.748Z"
   },
   {
    "duration": 24,
    "start_time": "2024-03-22T22:26:32.769Z"
   },
   {
    "duration": 12,
    "start_time": "2024-03-22T22:26:32.796Z"
   },
   {
    "duration": 1245,
    "start_time": "2024-03-22T22:34:27.051Z"
   },
   {
    "duration": 68,
    "start_time": "2024-03-22T22:34:28.298Z"
   },
   {
    "duration": 26,
    "start_time": "2024-03-22T22:34:28.368Z"
   },
   {
    "duration": 34,
    "start_time": "2024-03-22T22:34:28.396Z"
   },
   {
    "duration": 8,
    "start_time": "2024-03-22T22:34:28.431Z"
   },
   {
    "duration": 26,
    "start_time": "2024-03-22T22:34:28.441Z"
   },
   {
    "duration": 10,
    "start_time": "2024-03-22T22:34:28.469Z"
   },
   {
    "duration": 20,
    "start_time": "2024-03-22T22:34:28.482Z"
   },
   {
    "duration": 19,
    "start_time": "2024-03-22T22:34:28.504Z"
   },
   {
    "duration": 10,
    "start_time": "2024-03-22T22:34:28.526Z"
   },
   {
    "duration": 6,
    "start_time": "2024-03-22T22:34:28.538Z"
   },
   {
    "duration": 8,
    "start_time": "2024-03-22T22:34:28.545Z"
   },
   {
    "duration": 13,
    "start_time": "2024-03-22T22:34:28.555Z"
   },
   {
    "duration": 11,
    "start_time": "2024-03-22T22:34:28.569Z"
   },
   {
    "duration": 19,
    "start_time": "2024-03-22T22:34:28.582Z"
   },
   {
    "duration": 167,
    "start_time": "2024-03-22T22:34:28.603Z"
   },
   {
    "duration": 96,
    "start_time": "2024-03-22T22:34:28.771Z"
   },
   {
    "duration": 30,
    "start_time": "2024-03-22T22:34:28.868Z"
   },
   {
    "duration": 220,
    "start_time": "2024-03-22T22:34:28.900Z"
   },
   {
    "duration": 12,
    "start_time": "2024-03-22T22:34:29.122Z"
   },
   {
    "duration": 190,
    "start_time": "2024-03-22T22:34:29.136Z"
   },
   {
    "duration": 11,
    "start_time": "2024-03-22T22:34:29.328Z"
   },
   {
    "duration": 247,
    "start_time": "2024-03-22T22:34:29.341Z"
   },
   {
    "duration": 10,
    "start_time": "2024-03-22T22:34:29.598Z"
   },
   {
    "duration": 26,
    "start_time": "2024-03-22T22:34:29.609Z"
   },
   {
    "duration": 9,
    "start_time": "2024-03-22T22:34:29.637Z"
   },
   {
    "duration": 9,
    "start_time": "2024-03-22T22:34:29.648Z"
   },
   {
    "duration": 55,
    "start_time": "2024-03-22T22:34:29.661Z"
   },
   {
    "duration": 10,
    "start_time": "2024-03-22T22:34:29.717Z"
   },
   {
    "duration": 9,
    "start_time": "2024-03-22T22:34:29.728Z"
   },
   {
    "duration": 29,
    "start_time": "2024-03-22T22:34:29.738Z"
   },
   {
    "duration": 9,
    "start_time": "2024-03-22T22:34:29.769Z"
   },
   {
    "duration": 16,
    "start_time": "2024-03-22T22:34:29.782Z"
   },
   {
    "duration": 21,
    "start_time": "2024-03-22T22:34:29.801Z"
   },
   {
    "duration": 7,
    "start_time": "2024-03-22T22:34:29.825Z"
   },
   {
    "duration": 33,
    "start_time": "2024-03-22T22:34:29.833Z"
   },
   {
    "duration": 547,
    "start_time": "2024-03-22T22:34:29.887Z"
   },
   {
    "duration": 14,
    "start_time": "2024-03-22T22:34:30.435Z"
   },
   {
    "duration": 741,
    "start_time": "2024-03-22T22:34:30.451Z"
   },
   {
    "duration": 269,
    "start_time": "2024-03-22T22:34:31.196Z"
   },
   {
    "duration": 259,
    "start_time": "2024-03-22T22:34:31.467Z"
   },
   {
    "duration": 24,
    "start_time": "2024-03-22T22:34:31.727Z"
   },
   {
    "duration": 10,
    "start_time": "2024-03-22T22:34:31.753Z"
   },
   {
    "duration": 19,
    "start_time": "2024-03-22T22:34:31.786Z"
   },
   {
    "duration": 10,
    "start_time": "2024-03-22T22:34:31.807Z"
   },
   {
    "duration": 186,
    "start_time": "2024-03-22T22:34:31.819Z"
   },
   {
    "duration": 14,
    "start_time": "2024-03-22T22:34:32.006Z"
   },
   {
    "duration": 9,
    "start_time": "2024-03-22T22:34:32.022Z"
   },
   {
    "duration": 6,
    "start_time": "2024-03-22T22:34:32.032Z"
   },
   {
    "duration": 50,
    "start_time": "2024-03-22T22:34:32.040Z"
   },
   {
    "duration": 1259,
    "start_time": "2024-03-22T22:35:18.107Z"
   },
   {
    "duration": 72,
    "start_time": "2024-03-22T22:35:19.368Z"
   },
   {
    "duration": 25,
    "start_time": "2024-03-22T22:35:19.442Z"
   },
   {
    "duration": 33,
    "start_time": "2024-03-22T22:35:19.470Z"
   },
   {
    "duration": 7,
    "start_time": "2024-03-22T22:35:19.505Z"
   },
   {
    "duration": 8,
    "start_time": "2024-03-22T22:35:19.514Z"
   },
   {
    "duration": 5,
    "start_time": "2024-03-22T22:35:19.523Z"
   },
   {
    "duration": 8,
    "start_time": "2024-03-22T22:35:19.530Z"
   },
   {
    "duration": 6,
    "start_time": "2024-03-22T22:35:19.539Z"
   },
   {
    "duration": 8,
    "start_time": "2024-03-22T22:35:19.586Z"
   },
   {
    "duration": 5,
    "start_time": "2024-03-22T22:35:19.596Z"
   },
   {
    "duration": 8,
    "start_time": "2024-03-22T22:35:19.603Z"
   },
   {
    "duration": 9,
    "start_time": "2024-03-22T22:35:19.613Z"
   },
   {
    "duration": 14,
    "start_time": "2024-03-22T22:35:19.624Z"
   },
   {
    "duration": 10,
    "start_time": "2024-03-22T22:35:19.639Z"
   },
   {
    "duration": 213,
    "start_time": "2024-03-22T22:35:19.651Z"
   },
   {
    "duration": 101,
    "start_time": "2024-03-22T22:35:19.865Z"
   },
   {
    "duration": 21,
    "start_time": "2024-03-22T22:35:19.968Z"
   },
   {
    "duration": 212,
    "start_time": "2024-03-22T22:35:19.995Z"
   },
   {
    "duration": 9,
    "start_time": "2024-03-22T22:35:20.209Z"
   },
   {
    "duration": 189,
    "start_time": "2024-03-22T22:35:20.220Z"
   },
   {
    "duration": 8,
    "start_time": "2024-03-22T22:35:20.411Z"
   },
   {
    "duration": 237,
    "start_time": "2024-03-22T22:35:20.422Z"
   },
   {
    "duration": 10,
    "start_time": "2024-03-22T22:35:20.661Z"
   },
   {
    "duration": 18,
    "start_time": "2024-03-22T22:35:20.691Z"
   },
   {
    "duration": 21,
    "start_time": "2024-03-22T22:35:20.712Z"
   },
   {
    "duration": 12,
    "start_time": "2024-03-22T22:35:20.736Z"
   },
   {
    "duration": 39,
    "start_time": "2024-03-22T22:35:20.753Z"
   },
   {
    "duration": 11,
    "start_time": "2024-03-22T22:35:20.797Z"
   },
   {
    "duration": 5,
    "start_time": "2024-03-22T22:35:20.809Z"
   },
   {
    "duration": 16,
    "start_time": "2024-03-22T22:35:20.815Z"
   },
   {
    "duration": 8,
    "start_time": "2024-03-22T22:35:20.833Z"
   },
   {
    "duration": 11,
    "start_time": "2024-03-22T22:35:20.843Z"
   },
   {
    "duration": 47,
    "start_time": "2024-03-22T22:35:20.855Z"
   },
   {
    "duration": 16,
    "start_time": "2024-03-22T22:35:20.903Z"
   },
   {
    "duration": 12,
    "start_time": "2024-03-22T22:35:20.920Z"
   },
   {
    "duration": 583,
    "start_time": "2024-03-22T22:35:20.934Z"
   },
   {
    "duration": 13,
    "start_time": "2024-03-22T22:35:21.518Z"
   },
   {
    "duration": 662,
    "start_time": "2024-03-22T22:35:21.533Z"
   },
   {
    "duration": 262,
    "start_time": "2024-03-22T22:35:22.197Z"
   },
   {
    "duration": 286,
    "start_time": "2024-03-22T22:35:22.461Z"
   },
   {
    "duration": 39,
    "start_time": "2024-03-22T22:35:22.749Z"
   },
   {
    "duration": 11,
    "start_time": "2024-03-22T22:35:22.796Z"
   },
   {
    "duration": 29,
    "start_time": "2024-03-22T22:35:22.809Z"
   },
   {
    "duration": 10,
    "start_time": "2024-03-22T22:35:22.840Z"
   },
   {
    "duration": 189,
    "start_time": "2024-03-22T22:35:22.851Z"
   },
   {
    "duration": 14,
    "start_time": "2024-03-22T22:35:23.042Z"
   },
   {
    "duration": 8,
    "start_time": "2024-03-22T22:35:23.058Z"
   },
   {
    "duration": 28,
    "start_time": "2024-03-22T22:35:23.067Z"
   },
   {
    "duration": 17,
    "start_time": "2024-03-22T22:35:23.108Z"
   },
   {
    "duration": 1406,
    "start_time": "2024-03-23T10:05:59.766Z"
   },
   {
    "duration": 294,
    "start_time": "2024-03-23T10:06:01.174Z"
   },
   {
    "duration": 23,
    "start_time": "2024-03-23T10:06:01.470Z"
   },
   {
    "duration": 57,
    "start_time": "2024-03-23T10:06:01.495Z"
   },
   {
    "duration": 52,
    "start_time": "2024-03-23T10:06:01.553Z"
   },
   {
    "duration": 66,
    "start_time": "2024-03-23T10:06:01.606Z"
   },
   {
    "duration": 42,
    "start_time": "2024-03-23T10:06:01.673Z"
   },
   {
    "duration": 49,
    "start_time": "2024-03-23T10:06:01.717Z"
   },
   {
    "duration": 39,
    "start_time": "2024-03-23T10:06:01.767Z"
   },
   {
    "duration": 84,
    "start_time": "2024-03-23T10:06:01.810Z"
   },
   {
    "duration": 53,
    "start_time": "2024-03-23T10:06:01.896Z"
   },
   {
    "duration": 67,
    "start_time": "2024-03-23T10:06:01.950Z"
   },
   {
    "duration": 270,
    "start_time": "2024-03-23T10:06:02.019Z"
   },
   {
    "duration": 19,
    "start_time": "2024-03-23T10:06:02.291Z"
   },
   {
    "duration": 23,
    "start_time": "2024-03-23T10:06:02.312Z"
   },
   {
    "duration": 174,
    "start_time": "2024-03-23T10:06:02.337Z"
   },
   {
    "duration": 99,
    "start_time": "2024-03-23T10:06:02.513Z"
   },
   {
    "duration": 8,
    "start_time": "2024-03-23T10:06:02.614Z"
   },
   {
    "duration": 226,
    "start_time": "2024-03-23T10:06:02.623Z"
   },
   {
    "duration": 9,
    "start_time": "2024-03-23T10:06:02.850Z"
   },
   {
    "duration": 160,
    "start_time": "2024-03-23T10:06:02.861Z"
   },
   {
    "duration": 8,
    "start_time": "2024-03-23T10:06:03.022Z"
   },
   {
    "duration": 211,
    "start_time": "2024-03-23T10:06:03.031Z"
   },
   {
    "duration": 9,
    "start_time": "2024-03-23T10:06:03.244Z"
   },
   {
    "duration": 25,
    "start_time": "2024-03-23T10:06:03.254Z"
   },
   {
    "duration": 10,
    "start_time": "2024-03-23T10:06:03.280Z"
   },
   {
    "duration": 10,
    "start_time": "2024-03-23T10:06:03.291Z"
   },
   {
    "duration": 25,
    "start_time": "2024-03-23T10:06:03.304Z"
   },
   {
    "duration": 10,
    "start_time": "2024-03-23T10:06:03.330Z"
   },
   {
    "duration": 4,
    "start_time": "2024-03-23T10:06:03.342Z"
   },
   {
    "duration": 46,
    "start_time": "2024-03-23T10:06:03.348Z"
   },
   {
    "duration": 9,
    "start_time": "2024-03-23T10:06:03.396Z"
   },
   {
    "duration": 16,
    "start_time": "2024-03-23T10:06:03.406Z"
   },
   {
    "duration": 22,
    "start_time": "2024-03-23T10:06:03.423Z"
   },
   {
    "duration": 18,
    "start_time": "2024-03-23T10:06:03.447Z"
   },
   {
    "duration": 21,
    "start_time": "2024-03-23T10:06:03.467Z"
   },
   {
    "duration": 520,
    "start_time": "2024-03-23T10:06:03.490Z"
   },
   {
    "duration": 13,
    "start_time": "2024-03-23T10:06:04.012Z"
   },
   {
    "duration": 624,
    "start_time": "2024-03-23T10:06:04.026Z"
   },
   {
    "duration": 243,
    "start_time": "2024-03-23T10:06:04.652Z"
   },
   {
    "duration": 242,
    "start_time": "2024-03-23T10:06:04.896Z"
   },
   {
    "duration": 28,
    "start_time": "2024-03-23T10:06:05.140Z"
   },
   {
    "duration": 24,
    "start_time": "2024-03-23T10:06:05.170Z"
   },
   {
    "duration": 15,
    "start_time": "2024-03-23T10:06:05.196Z"
   },
   {
    "duration": 9,
    "start_time": "2024-03-23T10:06:05.213Z"
   },
   {
    "duration": 169,
    "start_time": "2024-03-23T10:06:05.223Z"
   },
   {
    "duration": 12,
    "start_time": "2024-03-23T10:06:05.393Z"
   },
   {
    "duration": 10,
    "start_time": "2024-03-23T10:06:05.406Z"
   },
   {
    "duration": 14,
    "start_time": "2024-03-23T10:06:05.417Z"
   },
   {
    "duration": 15,
    "start_time": "2024-03-23T10:06:05.433Z"
   },
   {
    "duration": 1178,
    "start_time": "2024-03-23T10:06:22.360Z"
   },
   {
    "duration": 67,
    "start_time": "2024-03-23T10:06:23.540Z"
   },
   {
    "duration": 20,
    "start_time": "2024-03-23T10:06:23.608Z"
   },
   {
    "duration": 25,
    "start_time": "2024-03-23T10:06:23.630Z"
   },
   {
    "duration": 7,
    "start_time": "2024-03-23T10:06:23.657Z"
   },
   {
    "duration": 19,
    "start_time": "2024-03-23T10:06:23.665Z"
   },
   {
    "duration": 8,
    "start_time": "2024-03-23T10:06:23.685Z"
   },
   {
    "duration": 15,
    "start_time": "2024-03-23T10:06:23.694Z"
   },
   {
    "duration": 17,
    "start_time": "2024-03-23T10:06:23.710Z"
   },
   {
    "duration": 8,
    "start_time": "2024-03-23T10:06:23.728Z"
   },
   {
    "duration": 9,
    "start_time": "2024-03-23T10:06:23.737Z"
   },
   {
    "duration": 12,
    "start_time": "2024-03-23T10:06:23.747Z"
   },
   {
    "duration": 17,
    "start_time": "2024-03-23T10:06:23.761Z"
   },
   {
    "duration": 4,
    "start_time": "2024-03-23T10:06:23.781Z"
   },
   {
    "duration": 20,
    "start_time": "2024-03-23T10:06:23.786Z"
   },
   {
    "duration": 171,
    "start_time": "2024-03-23T10:06:23.808Z"
   },
   {
    "duration": 84,
    "start_time": "2024-03-23T10:06:23.981Z"
   },
   {
    "duration": 8,
    "start_time": "2024-03-23T10:06:24.067Z"
   },
   {
    "duration": 184,
    "start_time": "2024-03-23T10:06:24.087Z"
   },
   {
    "duration": 16,
    "start_time": "2024-03-23T10:06:24.273Z"
   },
   {
    "duration": 181,
    "start_time": "2024-03-23T10:06:24.291Z"
   },
   {
    "duration": 17,
    "start_time": "2024-03-23T10:06:24.474Z"
   },
   {
    "duration": 196,
    "start_time": "2024-03-23T10:06:24.493Z"
   },
   {
    "duration": 9,
    "start_time": "2024-03-23T10:06:24.690Z"
   },
   {
    "duration": 39,
    "start_time": "2024-03-23T10:06:24.700Z"
   },
   {
    "duration": 8,
    "start_time": "2024-03-23T10:06:24.741Z"
   },
   {
    "duration": 9,
    "start_time": "2024-03-23T10:06:24.751Z"
   },
   {
    "duration": 24,
    "start_time": "2024-03-23T10:06:24.761Z"
   },
   {
    "duration": 9,
    "start_time": "2024-03-23T10:06:24.787Z"
   },
   {
    "duration": 5,
    "start_time": "2024-03-23T10:06:24.797Z"
   },
   {
    "duration": 54,
    "start_time": "2024-03-23T10:06:24.803Z"
   },
   {
    "duration": 13,
    "start_time": "2024-03-23T10:06:24.858Z"
   },
   {
    "duration": 6,
    "start_time": "2024-03-23T10:06:24.873Z"
   },
   {
    "duration": 26,
    "start_time": "2024-03-23T10:06:24.881Z"
   },
   {
    "duration": 5,
    "start_time": "2024-03-23T10:06:24.908Z"
   },
   {
    "duration": 11,
    "start_time": "2024-03-23T10:06:24.914Z"
   },
   {
    "duration": 516,
    "start_time": "2024-03-23T10:06:24.926Z"
   },
   {
    "duration": 12,
    "start_time": "2024-03-23T10:06:25.444Z"
   },
   {
    "duration": 577,
    "start_time": "2024-03-23T10:06:25.457Z"
   },
   {
    "duration": 265,
    "start_time": "2024-03-23T10:06:26.036Z"
   },
   {
    "duration": 226,
    "start_time": "2024-03-23T10:06:26.307Z"
   },
   {
    "duration": 23,
    "start_time": "2024-03-23T10:06:26.535Z"
   },
   {
    "duration": 9,
    "start_time": "2024-03-23T10:06:26.560Z"
   },
   {
    "duration": 31,
    "start_time": "2024-03-23T10:06:26.571Z"
   },
   {
    "duration": 12,
    "start_time": "2024-03-23T10:06:26.604Z"
   },
   {
    "duration": 157,
    "start_time": "2024-03-23T10:06:26.617Z"
   },
   {
    "duration": 13,
    "start_time": "2024-03-23T10:06:26.776Z"
   },
   {
    "duration": 8,
    "start_time": "2024-03-23T10:06:26.790Z"
   },
   {
    "duration": 6,
    "start_time": "2024-03-23T10:06:26.799Z"
   },
   {
    "duration": 10,
    "start_time": "2024-03-23T10:06:26.806Z"
   },
   {
    "duration": 202,
    "start_time": "2024-03-23T10:19:38.144Z"
   },
   {
    "duration": 141,
    "start_time": "2024-03-23T10:19:57.743Z"
   },
   {
    "duration": 141,
    "start_time": "2024-03-23T10:20:54.294Z"
   },
   {
    "duration": 128,
    "start_time": "2024-03-23T10:22:16.895Z"
   },
   {
    "duration": 134,
    "start_time": "2024-03-23T10:22:26.681Z"
   },
   {
    "duration": 131,
    "start_time": "2024-03-23T10:22:48.894Z"
   },
   {
    "duration": 212,
    "start_time": "2024-03-23T10:23:11.359Z"
   },
   {
    "duration": 140,
    "start_time": "2024-03-23T10:23:18.606Z"
   },
   {
    "duration": 153,
    "start_time": "2024-03-23T10:34:27.282Z"
   },
   {
    "duration": 137,
    "start_time": "2024-03-23T10:35:36.482Z"
   },
   {
    "duration": 9,
    "start_time": "2024-03-23T10:36:12.866Z"
   },
   {
    "duration": 10,
    "start_time": "2024-03-23T10:36:18.225Z"
   },
   {
    "duration": 140,
    "start_time": "2024-03-23T10:36:21.618Z"
   },
   {
    "duration": 138,
    "start_time": "2024-03-23T10:36:26.211Z"
   },
   {
    "duration": 139,
    "start_time": "2024-03-23T10:36:35.714Z"
   },
   {
    "duration": 145,
    "start_time": "2024-03-23T10:36:39.706Z"
   },
   {
    "duration": 136,
    "start_time": "2024-03-23T10:37:05.499Z"
   },
   {
    "duration": 140,
    "start_time": "2024-03-23T10:42:24.820Z"
   },
   {
    "duration": 143,
    "start_time": "2024-03-23T10:42:30.756Z"
   },
   {
    "duration": 216,
    "start_time": "2024-03-23T10:42:34.588Z"
   },
   {
    "duration": 145,
    "start_time": "2024-03-23T10:42:53.956Z"
   },
   {
    "duration": 139,
    "start_time": "2024-03-23T10:42:58.452Z"
   },
   {
    "duration": 24,
    "start_time": "2024-03-23T10:51:55.390Z"
   },
   {
    "duration": 1349,
    "start_time": "2024-03-23T10:52:14.294Z"
   },
   {
    "duration": 987,
    "start_time": "2024-03-23T10:52:28.552Z"
   },
   {
    "duration": 8,
    "start_time": "2024-03-23T10:52:34.783Z"
   },
   {
    "duration": 27,
    "start_time": "2024-03-23T10:52:54.390Z"
   },
   {
    "duration": 9,
    "start_time": "2024-03-23T10:53:06.759Z"
   },
   {
    "duration": 8,
    "start_time": "2024-03-23T10:56:14.967Z"
   },
   {
    "duration": 11,
    "start_time": "2024-03-23T11:01:53.729Z"
   },
   {
    "duration": 1143,
    "start_time": "2024-03-23T11:06:07.601Z"
   },
   {
    "duration": 66,
    "start_time": "2024-03-23T11:06:08.746Z"
   },
   {
    "duration": 23,
    "start_time": "2024-03-23T11:06:08.816Z"
   },
   {
    "duration": 32,
    "start_time": "2024-03-23T11:06:08.840Z"
   },
   {
    "duration": 14,
    "start_time": "2024-03-23T11:06:08.873Z"
   },
   {
    "duration": 8,
    "start_time": "2024-03-23T11:06:08.889Z"
   },
   {
    "duration": 18,
    "start_time": "2024-03-23T11:06:08.898Z"
   },
   {
    "duration": 28,
    "start_time": "2024-03-23T11:06:08.917Z"
   },
   {
    "duration": 26,
    "start_time": "2024-03-23T11:06:08.948Z"
   },
   {
    "duration": 27,
    "start_time": "2024-03-23T11:06:08.976Z"
   },
   {
    "duration": 16,
    "start_time": "2024-03-23T11:06:09.005Z"
   },
   {
    "duration": 37,
    "start_time": "2024-03-23T11:06:09.023Z"
   },
   {
    "duration": 34,
    "start_time": "2024-03-23T11:06:09.061Z"
   },
   {
    "duration": 10,
    "start_time": "2024-03-23T11:06:09.096Z"
   },
   {
    "duration": 29,
    "start_time": "2024-03-23T11:06:09.107Z"
   },
   {
    "duration": 163,
    "start_time": "2024-03-23T11:06:09.138Z"
   },
   {
    "duration": 82,
    "start_time": "2024-03-23T11:06:09.302Z"
   },
   {
    "duration": 8,
    "start_time": "2024-03-23T11:06:09.388Z"
   },
   {
    "duration": 195,
    "start_time": "2024-03-23T11:06:09.397Z"
   },
   {
    "duration": 9,
    "start_time": "2024-03-23T11:06:09.594Z"
   },
   {
    "duration": 165,
    "start_time": "2024-03-23T11:06:09.604Z"
   },
   {
    "duration": 8,
    "start_time": "2024-03-23T11:06:09.771Z"
   },
   {
    "duration": 194,
    "start_time": "2024-03-23T11:06:09.788Z"
   },
   {
    "duration": 11,
    "start_time": "2024-03-23T11:06:09.983Z"
   },
   {
    "duration": 16,
    "start_time": "2024-03-23T11:06:09.995Z"
   },
   {
    "duration": 33,
    "start_time": "2024-03-23T11:06:10.013Z"
   },
   {
    "duration": 20,
    "start_time": "2024-03-23T11:06:10.050Z"
   },
   {
    "duration": 34,
    "start_time": "2024-03-23T11:06:10.071Z"
   },
   {
    "duration": 13,
    "start_time": "2024-03-23T11:06:10.106Z"
   },
   {
    "duration": 27,
    "start_time": "2024-03-23T11:06:10.120Z"
   },
   {
    "duration": 42,
    "start_time": "2024-03-23T11:06:10.148Z"
   },
   {
    "duration": 20,
    "start_time": "2024-03-23T11:06:10.191Z"
   },
   {
    "duration": 28,
    "start_time": "2024-03-23T11:06:10.212Z"
   },
   {
    "duration": 37,
    "start_time": "2024-03-23T11:06:10.241Z"
   },
   {
    "duration": 27,
    "start_time": "2024-03-23T11:06:10.279Z"
   },
   {
    "duration": 30,
    "start_time": "2024-03-23T11:06:10.308Z"
   },
   {
    "duration": 514,
    "start_time": "2024-03-23T11:06:10.340Z"
   },
   {
    "duration": 13,
    "start_time": "2024-03-23T11:06:10.855Z"
   },
   {
    "duration": 599,
    "start_time": "2024-03-23T11:06:10.869Z"
   },
   {
    "duration": 253,
    "start_time": "2024-03-23T11:06:11.470Z"
   },
   {
    "duration": 231,
    "start_time": "2024-03-23T11:06:11.725Z"
   },
   {
    "duration": 32,
    "start_time": "2024-03-23T11:06:11.958Z"
   },
   {
    "duration": 11,
    "start_time": "2024-03-23T11:06:11.991Z"
   },
   {
    "duration": 23,
    "start_time": "2024-03-23T11:06:12.004Z"
   },
   {
    "duration": 9,
    "start_time": "2024-03-23T11:06:12.029Z"
   },
   {
    "duration": 167,
    "start_time": "2024-03-23T11:06:12.039Z"
   },
   {
    "duration": 12,
    "start_time": "2024-03-23T11:06:12.207Z"
   },
   {
    "duration": 50,
    "start_time": "2024-03-23T11:06:12.220Z"
   },
   {
    "duration": 9,
    "start_time": "2024-03-23T11:06:12.272Z"
   },
   {
    "duration": 14,
    "start_time": "2024-03-23T11:06:12.283Z"
   },
   {
    "duration": 1308,
    "start_time": "2024-03-23T13:35:16.444Z"
   },
   {
    "duration": 214,
    "start_time": "2024-03-23T13:35:17.754Z"
   },
   {
    "duration": 31,
    "start_time": "2024-03-23T13:35:17.970Z"
   },
   {
    "duration": 27,
    "start_time": "2024-03-23T13:35:18.004Z"
   },
   {
    "duration": 13,
    "start_time": "2024-03-23T13:35:18.033Z"
   },
   {
    "duration": 9,
    "start_time": "2024-03-23T13:35:18.048Z"
   },
   {
    "duration": 6,
    "start_time": "2024-03-23T13:35:18.059Z"
   },
   {
    "duration": 11,
    "start_time": "2024-03-23T13:35:18.066Z"
   },
   {
    "duration": 13,
    "start_time": "2024-03-23T13:35:18.079Z"
   },
   {
    "duration": 5,
    "start_time": "2024-03-23T13:35:18.096Z"
   },
   {
    "duration": 5,
    "start_time": "2024-03-23T13:35:18.102Z"
   },
   {
    "duration": 36,
    "start_time": "2024-03-23T13:35:18.109Z"
   },
   {
    "duration": 11,
    "start_time": "2024-03-23T13:35:18.148Z"
   },
   {
    "duration": 16,
    "start_time": "2024-03-23T13:35:18.160Z"
   },
   {
    "duration": 18,
    "start_time": "2024-03-23T13:35:18.178Z"
   },
   {
    "duration": 158,
    "start_time": "2024-03-23T13:35:18.198Z"
   },
   {
    "duration": 89,
    "start_time": "2024-03-23T13:35:18.358Z"
   },
   {
    "duration": 9,
    "start_time": "2024-03-23T13:35:18.449Z"
   },
   {
    "duration": 178,
    "start_time": "2024-03-23T13:35:18.460Z"
   },
   {
    "duration": 11,
    "start_time": "2024-03-23T13:35:18.645Z"
   },
   {
    "duration": 150,
    "start_time": "2024-03-23T13:35:18.657Z"
   },
   {
    "duration": 9,
    "start_time": "2024-03-23T13:35:18.808Z"
   },
   {
    "duration": 188,
    "start_time": "2024-03-23T13:35:18.818Z"
   },
   {
    "duration": 10,
    "start_time": "2024-03-23T13:35:19.007Z"
   },
   {
    "duration": 12,
    "start_time": "2024-03-23T13:35:19.019Z"
   },
   {
    "duration": 8,
    "start_time": "2024-03-23T13:35:19.045Z"
   },
   {
    "duration": 16,
    "start_time": "2024-03-23T13:35:19.055Z"
   },
   {
    "duration": 23,
    "start_time": "2024-03-23T13:35:19.075Z"
   },
   {
    "duration": 9,
    "start_time": "2024-03-23T13:35:19.099Z"
   },
   {
    "duration": 5,
    "start_time": "2024-03-23T13:35:19.110Z"
   },
   {
    "duration": 17,
    "start_time": "2024-03-23T13:35:19.158Z"
   },
   {
    "duration": 8,
    "start_time": "2024-03-23T13:35:19.177Z"
   },
   {
    "duration": 7,
    "start_time": "2024-03-23T13:35:19.186Z"
   },
   {
    "duration": 40,
    "start_time": "2024-03-23T13:35:19.195Z"
   },
   {
    "duration": 18,
    "start_time": "2024-03-23T13:35:19.236Z"
   },
   {
    "duration": 24,
    "start_time": "2024-03-23T13:35:19.256Z"
   },
   {
    "duration": 502,
    "start_time": "2024-03-23T13:35:19.282Z"
   },
   {
    "duration": 12,
    "start_time": "2024-03-23T13:35:19.786Z"
   },
   {
    "duration": 544,
    "start_time": "2024-03-23T13:35:19.799Z"
   },
   {
    "duration": 253,
    "start_time": "2024-03-23T13:35:20.344Z"
   },
   {
    "duration": 224,
    "start_time": "2024-03-23T13:35:20.599Z"
   },
   {
    "duration": 33,
    "start_time": "2024-03-23T13:35:20.824Z"
   },
   {
    "duration": 10,
    "start_time": "2024-03-23T13:35:20.858Z"
   },
   {
    "duration": 18,
    "start_time": "2024-03-23T13:35:20.870Z"
   },
   {
    "duration": 8,
    "start_time": "2024-03-23T13:35:20.889Z"
   },
   {
    "duration": 147,
    "start_time": "2024-03-23T13:35:20.898Z"
   },
   {
    "duration": 16,
    "start_time": "2024-03-23T13:35:21.047Z"
   },
   {
    "duration": 9,
    "start_time": "2024-03-23T13:35:21.065Z"
   },
   {
    "duration": 8,
    "start_time": "2024-03-23T13:35:21.075Z"
   },
   {
    "duration": 27,
    "start_time": "2024-03-23T13:35:21.085Z"
   },
   {
    "duration": 217,
    "start_time": "2024-03-23T13:37:10.587Z"
   },
   {
    "duration": 137,
    "start_time": "2024-03-23T13:37:34.576Z"
   },
   {
    "duration": 64,
    "start_time": "2024-03-23T13:38:28.533Z"
   },
   {
    "duration": 8,
    "start_time": "2024-03-23T13:38:33.122Z"
   },
   {
    "duration": 8,
    "start_time": "2024-03-23T13:38:41.663Z"
   },
   {
    "duration": 8,
    "start_time": "2024-03-23T13:38:44.096Z"
   },
   {
    "duration": 8,
    "start_time": "2024-03-23T13:38:48.539Z"
   },
   {
    "duration": 9,
    "start_time": "2024-03-23T13:38:54.703Z"
   },
   {
    "duration": 12,
    "start_time": "2024-03-23T13:39:00.813Z"
   },
   {
    "duration": 113,
    "start_time": "2024-03-23T13:41:42.368Z"
   },
   {
    "duration": 128,
    "start_time": "2024-03-23T13:42:00.955Z"
   },
   {
    "duration": 123,
    "start_time": "2024-03-23T13:42:08.005Z"
   },
   {
    "duration": 118,
    "start_time": "2024-03-23T13:42:17.885Z"
   },
   {
    "duration": 217,
    "start_time": "2024-03-23T13:42:35.122Z"
   },
   {
    "duration": 128,
    "start_time": "2024-03-23T13:42:42.677Z"
   },
   {
    "duration": 137,
    "start_time": "2024-03-23T13:43:07.340Z"
   },
   {
    "duration": 118,
    "start_time": "2024-03-23T13:43:13.527Z"
   },
   {
    "duration": 9,
    "start_time": "2024-03-23T13:45:22.380Z"
   },
   {
    "duration": 9,
    "start_time": "2024-03-23T13:45:37.910Z"
   },
   {
    "duration": 9,
    "start_time": "2024-03-23T13:45:45.245Z"
   },
   {
    "duration": 48,
    "start_time": "2024-03-23T13:45:49.686Z"
   },
   {
    "duration": 132,
    "start_time": "2024-03-23T13:45:52.507Z"
   },
   {
    "duration": 133,
    "start_time": "2024-03-23T13:47:13.726Z"
   },
   {
    "duration": 112,
    "start_time": "2024-03-23T13:47:16.775Z"
   },
   {
    "duration": 3,
    "start_time": "2024-03-23T13:47:20.276Z"
   },
   {
    "duration": 6,
    "start_time": "2024-03-23T13:47:35.692Z"
   },
   {
    "duration": 3,
    "start_time": "2024-03-23T13:47:42.651Z"
   },
   {
    "duration": 135,
    "start_time": "2024-03-23T13:47:55.720Z"
   },
   {
    "duration": 219,
    "start_time": "2024-03-23T13:48:11.395Z"
   },
   {
    "duration": 137,
    "start_time": "2024-03-23T13:48:24.689Z"
   },
   {
    "duration": 220,
    "start_time": "2024-03-23T13:48:32.658Z"
   },
   {
    "duration": 154,
    "start_time": "2024-03-23T13:48:39.144Z"
   },
   {
    "duration": 150,
    "start_time": "2024-03-23T13:48:51.953Z"
   },
   {
    "duration": 174,
    "start_time": "2024-03-23T13:48:57.163Z"
   },
   {
    "duration": 61,
    "start_time": "2024-03-23T13:49:05.205Z"
   },
   {
    "duration": 65,
    "start_time": "2024-03-23T13:49:10.681Z"
   },
   {
    "duration": 152,
    "start_time": "2024-03-23T13:49:13.514Z"
   },
   {
    "duration": 148,
    "start_time": "2024-03-23T13:49:19.310Z"
   },
   {
    "duration": 61,
    "start_time": "2024-03-23T13:49:57.269Z"
   },
   {
    "duration": 55,
    "start_time": "2024-03-23T13:50:05.314Z"
   },
   {
    "duration": 150,
    "start_time": "2024-03-23T13:50:11.159Z"
   },
   {
    "duration": 50,
    "start_time": "2024-03-23T13:50:21.884Z"
   },
   {
    "duration": 51,
    "start_time": "2024-03-23T13:50:28.426Z"
   },
   {
    "duration": 155,
    "start_time": "2024-03-23T13:50:41.131Z"
   },
   {
    "duration": 146,
    "start_time": "2024-03-23T13:51:03.648Z"
   },
   {
    "duration": 145,
    "start_time": "2024-03-23T13:51:10.182Z"
   },
   {
    "duration": 150,
    "start_time": "2024-03-23T13:53:06.228Z"
   },
   {
    "duration": 210,
    "start_time": "2024-03-23T13:53:21.789Z"
   },
   {
    "duration": 152,
    "start_time": "2024-03-23T13:53:27.188Z"
   },
   {
    "duration": 157,
    "start_time": "2024-03-23T13:53:41.124Z"
   },
   {
    "duration": 1124,
    "start_time": "2024-03-23T13:53:56.970Z"
   },
   {
    "duration": 68,
    "start_time": "2024-03-23T13:53:58.097Z"
   },
   {
    "duration": 20,
    "start_time": "2024-03-23T13:53:58.167Z"
   },
   {
    "duration": 27,
    "start_time": "2024-03-23T13:53:58.188Z"
   },
   {
    "duration": 10,
    "start_time": "2024-03-23T13:53:58.218Z"
   },
   {
    "duration": 17,
    "start_time": "2024-03-23T13:53:58.229Z"
   },
   {
    "duration": 4,
    "start_time": "2024-03-23T13:53:58.248Z"
   },
   {
    "duration": 9,
    "start_time": "2024-03-23T13:53:58.253Z"
   },
   {
    "duration": 5,
    "start_time": "2024-03-23T13:53:58.263Z"
   },
   {
    "duration": 4,
    "start_time": "2024-03-23T13:53:58.269Z"
   },
   {
    "duration": 5,
    "start_time": "2024-03-23T13:53:58.274Z"
   },
   {
    "duration": 13,
    "start_time": "2024-03-23T13:53:58.280Z"
   },
   {
    "duration": 11,
    "start_time": "2024-03-23T13:53:58.294Z"
   },
   {
    "duration": 4,
    "start_time": "2024-03-23T13:53:58.307Z"
   },
   {
    "duration": 35,
    "start_time": "2024-03-23T13:53:58.312Z"
   },
   {
    "duration": 171,
    "start_time": "2024-03-23T13:53:58.349Z"
   },
   {
    "duration": 80,
    "start_time": "2024-03-23T13:53:58.521Z"
   },
   {
    "duration": 7,
    "start_time": "2024-03-23T13:53:58.602Z"
   },
   {
    "duration": 188,
    "start_time": "2024-03-23T13:53:58.611Z"
   },
   {
    "duration": 11,
    "start_time": "2024-03-23T13:53:58.801Z"
   },
   {
    "duration": 160,
    "start_time": "2024-03-23T13:53:58.813Z"
   },
   {
    "duration": 9,
    "start_time": "2024-03-23T13:53:58.974Z"
   },
   {
    "duration": 200,
    "start_time": "2024-03-23T13:53:58.984Z"
   },
   {
    "duration": 10,
    "start_time": "2024-03-23T13:53:59.186Z"
   },
   {
    "duration": 18,
    "start_time": "2024-03-23T13:53:59.198Z"
   },
   {
    "duration": 40,
    "start_time": "2024-03-23T13:53:59.218Z"
   },
   {
    "duration": 24,
    "start_time": "2024-03-23T13:53:59.259Z"
   },
   {
    "duration": 28,
    "start_time": "2024-03-23T13:53:59.285Z"
   },
   {
    "duration": 11,
    "start_time": "2024-03-23T13:53:59.315Z"
   },
   {
    "duration": 4,
    "start_time": "2024-03-23T13:53:59.329Z"
   },
   {
    "duration": 29,
    "start_time": "2024-03-23T13:53:59.334Z"
   },
   {
    "duration": 17,
    "start_time": "2024-03-23T13:53:59.364Z"
   },
   {
    "duration": 30,
    "start_time": "2024-03-23T13:53:59.383Z"
   },
   {
    "duration": 37,
    "start_time": "2024-03-23T13:53:59.415Z"
   },
   {
    "duration": 31,
    "start_time": "2024-03-23T13:53:59.453Z"
   },
   {
    "duration": 28,
    "start_time": "2024-03-23T13:53:59.486Z"
   },
   {
    "duration": 499,
    "start_time": "2024-03-23T13:53:59.516Z"
   },
   {
    "duration": 14,
    "start_time": "2024-03-23T13:54:00.017Z"
   },
   {
    "duration": 571,
    "start_time": "2024-03-23T13:54:00.045Z"
   },
   {
    "duration": 235,
    "start_time": "2024-03-23T13:54:00.618Z"
   },
   {
    "duration": 208,
    "start_time": "2024-03-23T13:54:00.856Z"
   },
   {
    "duration": 21,
    "start_time": "2024-03-23T13:54:01.065Z"
   },
   {
    "duration": 41,
    "start_time": "2024-03-23T13:54:01.087Z"
   },
   {
    "duration": 44,
    "start_time": "2024-03-23T13:54:01.129Z"
   },
   {
    "duration": 48,
    "start_time": "2024-03-23T13:54:01.175Z"
   },
   {
    "duration": 183,
    "start_time": "2024-03-23T13:54:01.224Z"
   },
   {
    "duration": 10,
    "start_time": "2024-03-23T13:54:01.408Z"
   },
   {
    "duration": 83,
    "start_time": "2024-03-23T13:54:01.420Z"
   },
   {
    "duration": 50,
    "start_time": "2024-03-23T13:54:01.504Z"
   },
   {
    "duration": 31,
    "start_time": "2024-03-23T13:54:01.556Z"
   },
   {
    "duration": 58,
    "start_time": "2024-03-23T13:55:07.629Z"
   },
   {
    "duration": 151,
    "start_time": "2024-03-23T13:56:28.742Z"
   },
   {
    "duration": 995,
    "start_time": "2024-03-23T13:56:37.294Z"
   },
   {
    "duration": 68,
    "start_time": "2024-03-23T13:56:38.291Z"
   },
   {
    "duration": 28,
    "start_time": "2024-03-23T13:56:38.361Z"
   },
   {
    "duration": 26,
    "start_time": "2024-03-23T13:56:38.392Z"
   },
   {
    "duration": 7,
    "start_time": "2024-03-23T13:56:38.419Z"
   },
   {
    "duration": 30,
    "start_time": "2024-03-23T13:56:38.427Z"
   },
   {
    "duration": 5,
    "start_time": "2024-03-23T13:56:38.458Z"
   },
   {
    "duration": 8,
    "start_time": "2024-03-23T13:56:38.465Z"
   },
   {
    "duration": 5,
    "start_time": "2024-03-23T13:56:38.474Z"
   },
   {
    "duration": 14,
    "start_time": "2024-03-23T13:56:38.482Z"
   },
   {
    "duration": 13,
    "start_time": "2024-03-23T13:56:38.497Z"
   },
   {
    "duration": 6,
    "start_time": "2024-03-23T13:56:38.511Z"
   },
   {
    "duration": 16,
    "start_time": "2024-03-23T13:56:38.518Z"
   },
   {
    "duration": 9,
    "start_time": "2024-03-23T13:56:38.536Z"
   },
   {
    "duration": 7,
    "start_time": "2024-03-23T13:56:38.547Z"
   },
   {
    "duration": 185,
    "start_time": "2024-03-23T13:56:38.556Z"
   },
   {
    "duration": 78,
    "start_time": "2024-03-23T13:56:38.744Z"
   },
   {
    "duration": 6,
    "start_time": "2024-03-23T13:56:38.824Z"
   },
   {
    "duration": 172,
    "start_time": "2024-03-23T13:56:38.831Z"
   },
   {
    "duration": 8,
    "start_time": "2024-03-23T13:56:39.004Z"
   },
   {
    "duration": 165,
    "start_time": "2024-03-23T13:56:39.013Z"
   },
   {
    "duration": 7,
    "start_time": "2024-03-23T13:56:39.180Z"
   },
   {
    "duration": 187,
    "start_time": "2024-03-23T13:56:39.188Z"
   },
   {
    "duration": 8,
    "start_time": "2024-03-23T13:56:39.376Z"
   },
   {
    "duration": 22,
    "start_time": "2024-03-23T13:56:39.385Z"
   },
   {
    "duration": 54,
    "start_time": "2024-03-23T13:56:39.409Z"
   },
   {
    "duration": 23,
    "start_time": "2024-03-23T13:56:39.465Z"
   },
   {
    "duration": 39,
    "start_time": "2024-03-23T13:56:39.491Z"
   },
   {
    "duration": 8,
    "start_time": "2024-03-23T13:56:39.532Z"
   },
   {
    "duration": 37,
    "start_time": "2024-03-23T13:56:39.541Z"
   },
   {
    "duration": 37,
    "start_time": "2024-03-23T13:56:39.579Z"
   },
   {
    "duration": 8,
    "start_time": "2024-03-23T13:56:39.617Z"
   },
   {
    "duration": 20,
    "start_time": "2024-03-23T13:56:39.626Z"
   },
   {
    "duration": 35,
    "start_time": "2024-03-23T13:56:39.648Z"
   },
   {
    "duration": 23,
    "start_time": "2024-03-23T13:56:39.685Z"
   },
   {
    "duration": 44,
    "start_time": "2024-03-23T13:56:39.710Z"
   },
   {
    "duration": 458,
    "start_time": "2024-03-23T13:56:39.756Z"
   },
   {
    "duration": 11,
    "start_time": "2024-03-23T13:56:40.216Z"
   },
   {
    "duration": 517,
    "start_time": "2024-03-23T13:56:40.228Z"
   },
   {
    "duration": 233,
    "start_time": "2024-03-23T13:56:40.746Z"
   },
   {
    "duration": 209,
    "start_time": "2024-03-23T13:56:40.981Z"
   },
   {
    "duration": 21,
    "start_time": "2024-03-23T13:56:41.191Z"
   },
   {
    "duration": 8,
    "start_time": "2024-03-23T13:56:41.213Z"
   },
   {
    "duration": 31,
    "start_time": "2024-03-23T13:56:41.222Z"
   },
   {
    "duration": 15,
    "start_time": "2024-03-23T13:56:41.254Z"
   },
   {
    "duration": 152,
    "start_time": "2024-03-23T13:56:41.270Z"
   },
   {
    "duration": 11,
    "start_time": "2024-03-23T13:56:41.423Z"
   },
   {
    "duration": 18,
    "start_time": "2024-03-23T13:56:41.445Z"
   },
   {
    "duration": 25,
    "start_time": "2024-03-23T13:56:41.464Z"
   },
   {
    "duration": 43,
    "start_time": "2024-03-23T13:56:41.491Z"
   },
   {
    "duration": 1147,
    "start_time": "2024-03-23T14:58:49.592Z"
   },
   {
    "duration": 201,
    "start_time": "2024-03-23T14:58:50.741Z"
   },
   {
    "duration": 24,
    "start_time": "2024-03-23T14:58:50.944Z"
   },
   {
    "duration": 34,
    "start_time": "2024-03-23T14:58:50.970Z"
   },
   {
    "duration": 7,
    "start_time": "2024-03-23T14:58:51.006Z"
   },
   {
    "duration": 16,
    "start_time": "2024-03-23T14:58:51.015Z"
   },
   {
    "duration": 15,
    "start_time": "2024-03-23T14:58:51.032Z"
   },
   {
    "duration": 13,
    "start_time": "2024-03-23T14:58:51.049Z"
   },
   {
    "duration": 20,
    "start_time": "2024-03-23T14:58:51.064Z"
   },
   {
    "duration": 4,
    "start_time": "2024-03-23T14:58:51.087Z"
   },
   {
    "duration": 23,
    "start_time": "2024-03-23T14:58:51.092Z"
   },
   {
    "duration": 6,
    "start_time": "2024-03-23T14:58:51.117Z"
   },
   {
    "duration": 13,
    "start_time": "2024-03-23T14:58:51.124Z"
   },
   {
    "duration": 5,
    "start_time": "2024-03-23T14:58:51.138Z"
   },
   {
    "duration": 12,
    "start_time": "2024-03-23T14:58:51.144Z"
   },
   {
    "duration": 202,
    "start_time": "2024-03-23T14:58:51.157Z"
   },
   {
    "duration": 95,
    "start_time": "2024-03-23T14:58:51.360Z"
   },
   {
    "duration": 7,
    "start_time": "2024-03-23T14:58:51.457Z"
   },
   {
    "duration": 210,
    "start_time": "2024-03-23T14:58:51.466Z"
   },
   {
    "duration": 12,
    "start_time": "2024-03-23T14:58:51.677Z"
   },
   {
    "duration": 162,
    "start_time": "2024-03-23T14:58:51.690Z"
   },
   {
    "duration": 9,
    "start_time": "2024-03-23T14:58:51.854Z"
   },
   {
    "duration": 217,
    "start_time": "2024-03-23T14:58:51.865Z"
   },
   {
    "duration": 10,
    "start_time": "2024-03-23T14:58:52.084Z"
   },
   {
    "duration": 24,
    "start_time": "2024-03-23T14:58:52.095Z"
   },
   {
    "duration": 10,
    "start_time": "2024-03-23T14:58:52.121Z"
   },
   {
    "duration": 9,
    "start_time": "2024-03-23T14:58:52.133Z"
   },
   {
    "duration": 36,
    "start_time": "2024-03-23T14:58:52.147Z"
   },
   {
    "duration": 33,
    "start_time": "2024-03-23T14:58:52.184Z"
   },
   {
    "duration": 17,
    "start_time": "2024-03-23T14:58:52.219Z"
   },
   {
    "duration": 27,
    "start_time": "2024-03-23T14:58:52.238Z"
   },
   {
    "duration": 9,
    "start_time": "2024-03-23T14:58:52.266Z"
   },
   {
    "duration": 13,
    "start_time": "2024-03-23T14:58:52.276Z"
   },
   {
    "duration": 21,
    "start_time": "2024-03-23T14:58:52.291Z"
   },
   {
    "duration": 6,
    "start_time": "2024-03-23T14:58:52.313Z"
   },
   {
    "duration": 14,
    "start_time": "2024-03-23T14:58:52.320Z"
   },
   {
    "duration": 544,
    "start_time": "2024-03-23T14:58:52.335Z"
   },
   {
    "duration": 13,
    "start_time": "2024-03-23T14:58:52.882Z"
   },
   {
    "duration": 612,
    "start_time": "2024-03-23T14:58:52.897Z"
   },
   {
    "duration": 262,
    "start_time": "2024-03-23T14:58:53.511Z"
   },
   {
    "duration": 248,
    "start_time": "2024-03-23T14:58:53.775Z"
   },
   {
    "duration": 24,
    "start_time": "2024-03-23T14:58:54.025Z"
   },
   {
    "duration": 10,
    "start_time": "2024-03-23T14:58:54.050Z"
   },
   {
    "duration": 15,
    "start_time": "2024-03-23T14:58:54.082Z"
   },
   {
    "duration": 9,
    "start_time": "2024-03-23T14:58:54.099Z"
   },
   {
    "duration": 154,
    "start_time": "2024-03-23T14:58:54.109Z"
   },
   {
    "duration": 18,
    "start_time": "2024-03-23T14:58:54.264Z"
   },
   {
    "duration": 7,
    "start_time": "2024-03-23T14:58:54.283Z"
   },
   {
    "duration": 14,
    "start_time": "2024-03-23T14:58:54.292Z"
   },
   {
    "duration": 11,
    "start_time": "2024-03-23T14:58:54.308Z"
   },
   {
    "duration": 1124,
    "start_time": "2024-03-23T15:00:15.848Z"
   },
   {
    "duration": 67,
    "start_time": "2024-03-23T15:00:16.974Z"
   },
   {
    "duration": 23,
    "start_time": "2024-03-23T15:00:17.042Z"
   },
   {
    "duration": 27,
    "start_time": "2024-03-23T15:00:17.068Z"
   },
   {
    "duration": 9,
    "start_time": "2024-03-23T15:00:17.097Z"
   },
   {
    "duration": 8,
    "start_time": "2024-03-23T15:00:17.107Z"
   },
   {
    "duration": 6,
    "start_time": "2024-03-23T15:00:17.117Z"
   },
   {
    "duration": 13,
    "start_time": "2024-03-23T15:00:17.124Z"
   },
   {
    "duration": 6,
    "start_time": "2024-03-23T15:00:17.139Z"
   },
   {
    "duration": 37,
    "start_time": "2024-03-23T15:00:17.147Z"
   },
   {
    "duration": 5,
    "start_time": "2024-03-23T15:00:17.185Z"
   },
   {
    "duration": 9,
    "start_time": "2024-03-23T15:00:17.191Z"
   },
   {
    "duration": 10,
    "start_time": "2024-03-23T15:00:17.201Z"
   },
   {
    "duration": 4,
    "start_time": "2024-03-23T15:00:17.212Z"
   },
   {
    "duration": 12,
    "start_time": "2024-03-23T15:00:17.217Z"
   },
   {
    "duration": 200,
    "start_time": "2024-03-23T15:00:17.231Z"
   },
   {
    "duration": 92,
    "start_time": "2024-03-23T15:00:17.432Z"
   },
   {
    "duration": 7,
    "start_time": "2024-03-23T15:00:17.526Z"
   },
   {
    "duration": 191,
    "start_time": "2024-03-23T15:00:17.535Z"
   },
   {
    "duration": 8,
    "start_time": "2024-03-23T15:00:17.727Z"
   },
   {
    "duration": 173,
    "start_time": "2024-03-23T15:00:17.736Z"
   },
   {
    "duration": 12,
    "start_time": "2024-03-23T15:00:17.911Z"
   },
   {
    "duration": 216,
    "start_time": "2024-03-23T15:00:17.925Z"
   },
   {
    "duration": 9,
    "start_time": "2024-03-23T15:00:18.143Z"
   },
   {
    "duration": 12,
    "start_time": "2024-03-23T15:00:18.154Z"
   },
   {
    "duration": 21,
    "start_time": "2024-03-23T15:00:18.167Z"
   },
   {
    "duration": 11,
    "start_time": "2024-03-23T15:00:18.190Z"
   },
   {
    "duration": 23,
    "start_time": "2024-03-23T15:00:18.204Z"
   },
   {
    "duration": 9,
    "start_time": "2024-03-23T15:00:18.229Z"
   },
   {
    "duration": 13,
    "start_time": "2024-03-23T15:00:18.239Z"
   },
   {
    "duration": 37,
    "start_time": "2024-03-23T15:00:18.254Z"
   },
   {
    "duration": 8,
    "start_time": "2024-03-23T15:00:18.293Z"
   },
   {
    "duration": 7,
    "start_time": "2024-03-23T15:00:18.302Z"
   },
   {
    "duration": 22,
    "start_time": "2024-03-23T15:00:18.310Z"
   },
   {
    "duration": 6,
    "start_time": "2024-03-23T15:00:18.333Z"
   },
   {
    "duration": 46,
    "start_time": "2024-03-23T15:00:18.340Z"
   },
   {
    "duration": 516,
    "start_time": "2024-03-23T15:00:18.387Z"
   },
   {
    "duration": 14,
    "start_time": "2024-03-23T15:00:18.905Z"
   },
   {
    "duration": 605,
    "start_time": "2024-03-23T15:00:18.921Z"
   },
   {
    "duration": 258,
    "start_time": "2024-03-23T15:00:19.528Z"
   },
   {
    "duration": 235,
    "start_time": "2024-03-23T15:00:19.788Z"
   },
   {
    "duration": 24,
    "start_time": "2024-03-23T15:00:20.024Z"
   },
   {
    "duration": 13,
    "start_time": "2024-03-23T15:00:20.049Z"
   },
   {
    "duration": 36,
    "start_time": "2024-03-23T15:00:20.064Z"
   },
   {
    "duration": 10,
    "start_time": "2024-03-23T15:00:20.101Z"
   },
   {
    "duration": 152,
    "start_time": "2024-03-23T15:00:20.112Z"
   },
   {
    "duration": 11,
    "start_time": "2024-03-23T15:00:20.266Z"
   },
   {
    "duration": 12,
    "start_time": "2024-03-23T15:00:20.282Z"
   },
   {
    "duration": 6,
    "start_time": "2024-03-23T15:00:20.295Z"
   },
   {
    "duration": 20,
    "start_time": "2024-03-23T15:00:20.302Z"
   },
   {
    "duration": 1148,
    "start_time": "2024-03-23T15:05:54.489Z"
   },
   {
    "duration": 68,
    "start_time": "2024-03-23T15:05:55.640Z"
   },
   {
    "duration": 26,
    "start_time": "2024-03-23T15:05:55.715Z"
   },
   {
    "duration": 27,
    "start_time": "2024-03-23T15:05:55.742Z"
   },
   {
    "duration": 16,
    "start_time": "2024-03-23T15:05:55.770Z"
   },
   {
    "duration": 10,
    "start_time": "2024-03-23T15:05:55.787Z"
   },
   {
    "duration": 5,
    "start_time": "2024-03-23T15:05:55.799Z"
   },
   {
    "duration": 10,
    "start_time": "2024-03-23T15:05:55.805Z"
   },
   {
    "duration": 6,
    "start_time": "2024-03-23T15:05:55.819Z"
   },
   {
    "duration": 5,
    "start_time": "2024-03-23T15:05:55.827Z"
   },
   {
    "duration": 48,
    "start_time": "2024-03-23T15:05:55.834Z"
   },
   {
    "duration": 5,
    "start_time": "2024-03-23T15:05:55.884Z"
   },
   {
    "duration": 10,
    "start_time": "2024-03-23T15:05:55.890Z"
   },
   {
    "duration": 4,
    "start_time": "2024-03-23T15:05:55.902Z"
   },
   {
    "duration": 15,
    "start_time": "2024-03-23T15:05:55.907Z"
   },
   {
    "duration": 203,
    "start_time": "2024-03-23T15:05:55.924Z"
   },
   {
    "duration": 91,
    "start_time": "2024-03-23T15:05:56.128Z"
   },
   {
    "duration": 8,
    "start_time": "2024-03-23T15:05:56.220Z"
   },
   {
    "duration": 199,
    "start_time": "2024-03-23T15:05:56.229Z"
   },
   {
    "duration": 10,
    "start_time": "2024-03-23T15:05:56.429Z"
   },
   {
    "duration": 175,
    "start_time": "2024-03-23T15:05:56.441Z"
   },
   {
    "duration": 9,
    "start_time": "2024-03-23T15:05:56.618Z"
   },
   {
    "duration": 217,
    "start_time": "2024-03-23T15:05:56.628Z"
   },
   {
    "duration": 10,
    "start_time": "2024-03-23T15:05:56.847Z"
   },
   {
    "duration": 24,
    "start_time": "2024-03-23T15:05:56.859Z"
   },
   {
    "duration": 11,
    "start_time": "2024-03-23T15:05:56.885Z"
   },
   {
    "duration": 10,
    "start_time": "2024-03-23T15:05:56.900Z"
   },
   {
    "duration": 34,
    "start_time": "2024-03-23T15:05:56.911Z"
   },
   {
    "duration": 9,
    "start_time": "2024-03-23T15:05:56.947Z"
   },
   {
    "duration": 5,
    "start_time": "2024-03-23T15:05:56.982Z"
   },
   {
    "duration": 15,
    "start_time": "2024-03-23T15:05:56.988Z"
   },
   {
    "duration": 8,
    "start_time": "2024-03-23T15:05:57.005Z"
   },
   {
    "duration": 15,
    "start_time": "2024-03-23T15:05:57.015Z"
   },
   {
    "duration": 29,
    "start_time": "2024-03-23T15:05:57.031Z"
   },
   {
    "duration": 6,
    "start_time": "2024-03-23T15:05:57.082Z"
   },
   {
    "duration": 24,
    "start_time": "2024-03-23T15:05:57.090Z"
   },
   {
    "duration": 521,
    "start_time": "2024-03-23T15:05:57.116Z"
   },
   {
    "duration": 12,
    "start_time": "2024-03-23T15:05:57.638Z"
   },
   {
    "duration": 600,
    "start_time": "2024-03-23T15:05:57.652Z"
   },
   {
    "duration": 278,
    "start_time": "2024-03-23T15:05:58.253Z"
   },
   {
    "duration": 238,
    "start_time": "2024-03-23T15:05:58.533Z"
   },
   {
    "duration": 29,
    "start_time": "2024-03-23T15:05:58.773Z"
   },
   {
    "duration": 10,
    "start_time": "2024-03-23T15:05:58.803Z"
   },
   {
    "duration": 16,
    "start_time": "2024-03-23T15:05:58.814Z"
   },
   {
    "duration": 9,
    "start_time": "2024-03-23T15:05:58.832Z"
   },
   {
    "duration": 169,
    "start_time": "2024-03-23T15:05:58.843Z"
   },
   {
    "duration": 12,
    "start_time": "2024-03-23T15:05:59.014Z"
   },
   {
    "duration": 8,
    "start_time": "2024-03-23T15:05:59.027Z"
   },
   {
    "duration": 6,
    "start_time": "2024-03-23T15:05:59.037Z"
   },
   {
    "duration": 10,
    "start_time": "2024-03-23T15:05:59.044Z"
   }
  ],
  "kernelspec": {
   "display_name": "Python 3 (ipykernel)",
   "language": "python",
   "name": "python3"
  },
  "language_info": {
   "codemirror_mode": {
    "name": "ipython",
    "version": 3
   },
   "file_extension": ".py",
   "mimetype": "text/x-python",
   "name": "python",
   "nbconvert_exporter": "python",
   "pygments_lexer": "ipython3",
   "version": "3.11.7"
  },
  "toc": {
   "base_numbering": 1,
   "nav_menu": {},
   "number_sections": true,
   "sideBar": true,
   "skip_h1_title": true,
   "title_cell": "Table of Contents",
   "title_sidebar": "Contents",
   "toc_cell": false,
   "toc_position": {},
   "toc_section_display": true,
   "toc_window_display": false
  }
 },
 "nbformat": 4,
 "nbformat_minor": 5
}
